{
 "cells": [
  {
   "cell_type": "code",
   "execution_count": 1,
   "id": "acc84949",
   "metadata": {},
   "outputs": [
    {
     "name": "stdout",
     "output_type": "stream",
     "text": [
      "Hello world\n"
     ]
    }
   ],
   "source": [
    "print('Hello world')"
   ]
  },
  {
   "cell_type": "code",
   "execution_count": 2,
   "id": "5e7bb90c",
   "metadata": {},
   "outputs": [
    {
     "name": "stdout",
     "output_type": "stream",
     "text": [
      "30\n",
      "10\n",
      "\n",
      "\n",
      "40\n",
      "20\n",
      "\n",
      "\n",
      "300\n",
      "3.0\n"
     ]
    }
   ],
   "source": [
    "x = 30\n",
    "y = 10\n",
    "\n",
    "print(x)\n",
    "print(y)\n",
    "print(\"\\n\")\n",
    "print(x + y)\n",
    "print(x - y)\n",
    "print(\"\\n\")\n",
    "\n",
    "print(x * y)\n",
    "print(x / y)"
   ]
  },
  {
   "cell_type": "code",
   "execution_count": 3,
   "id": "ecdd4034",
   "metadata": {},
   "outputs": [
    {
     "name": "stdout",
     "output_type": "stream",
     "text": [
      "Meghana\n",
      "_Meghana is beautiful\n"
     ]
    }
   ],
   "source": [
    "x = 'Meghana'\n",
    "\n",
    "print('Meghana')\n",
    "\n",
    "_y= ('_Meghana is beautiful')\n",
    "\n",
    "print(_y)"
   ]
  },
  {
   "cell_type": "code",
   "execution_count": 4,
   "id": "c149304e",
   "metadata": {},
   "outputs": [
    {
     "name": "stdout",
     "output_type": "stream",
     "text": [
      "Meghana\n",
      "raut\n"
     ]
    }
   ],
   "source": [
    "f_name= 'Meghana'\n",
    "l_name='raut'\n",
    "\n",
    "print(f_name)\n",
    "print(l_name)"
   ]
  },
  {
   "cell_type": "code",
   "execution_count": 5,
   "id": "9a5ee4ba",
   "metadata": {},
   "outputs": [
    {
     "name": "stdout",
     "output_type": "stream",
     "text": [
      "My World\n",
      "$Anjali raut\n",
      "\n",
      "\n",
      "value of 50 is  50\n",
      "shravani\n"
     ]
    }
   ],
   "source": [
    "print('My World')\n",
    "\n",
    "_A = ('$Anjali raut')\n",
    "print(_A)\n",
    "print('\\n')\n",
    "\n",
    "B = (50)\n",
    "C = (90)\n",
    "\n",
    "print('value of 50 is ',B)\n",
    "print('shravani')"
   ]
  },
  {
   "cell_type": "code",
   "execution_count": 6,
   "id": "af157aaf",
   "metadata": {},
   "outputs": [
    {
     "name": "stdout",
     "output_type": "stream",
     "text": [
      "['False', 'None', 'True', 'and', 'as', 'assert', 'async', 'await', 'break', 'class', 'continue', 'def', 'del', 'elif', 'else', 'except', 'finally', 'for', 'from', 'global', 'if', 'import', 'in', 'is', 'lambda', 'nonlocal', 'not', 'or', 'pass', 'raise', 'return', 'try', 'while', 'with', 'yield']\n"
     ]
    },
    {
     "data": {
      "text/plain": [
       "35"
      ]
     },
     "execution_count": 6,
     "metadata": {},
     "output_type": "execute_result"
    }
   ],
   "source": [
    "### we can see all keywords from python using below code\n",
    "\n",
    "sa = 'Hi Hello'\n",
    "\n",
    "import keyword\n",
    "\n",
    "print(keyword.kwlist)\n",
    "\n",
    "\n",
    "len(keyword.kwlist)\n",
    "\n"
   ]
  },
  {
   "cell_type": "code",
   "execution_count": 7,
   "id": "97bc8fd1",
   "metadata": {},
   "outputs": [
    {
     "name": "stdout",
     "output_type": "stream",
     "text": [
      "Meghana\n",
      "raut\n",
      "Om\n"
     ]
    }
   ],
   "source": [
    "first_name = 'Meghana'\n",
    "last_name ='raut'\n",
    "print(first_name)\n",
    "print(last_name)\n",
    "\n",
    "name = 'Om'\n",
    "print(name)"
   ]
  },
  {
   "cell_type": "markdown",
   "id": "d1eb1f6a",
   "metadata": {},
   "source": [
    "### Data types in python\n",
    "\n",
    " 'integer data type which is full no.\n",
    " float data type which is the no. is in point. ex. 30.2,12.3....etc\n",
    " complex no. ex. 2 + 3j\n",
    " boolin data type ex. true or false\n",
    " string data type ex. (' ')\n"
   ]
  },
  {
   "cell_type": "markdown",
   "id": "6c556ec2",
   "metadata": {},
   "source": [
    "## Identification of data type in python"
   ]
  },
  {
   "cell_type": "code",
   "execution_count": 8,
   "id": "3b6a1956",
   "metadata": {},
   "outputs": [
    {
     "name": "stdout",
     "output_type": "stream",
     "text": [
      "value of x:\n",
      "20\n",
      "type of x:\n",
      "<class 'int'>\n",
      "\n",
      "\n",
      "value of y:\n",
      "1.5\n",
      "type of y:\n",
      "<class 'float'>\n",
      "\n",
      "\n",
      "value of z\n",
      "(4+2j)\n",
      "type of z:\n",
      "<class 'complex'>\n",
      "\n",
      "\n",
      "value of a:\n",
      "True\n",
      "type of a:\n",
      "<class 'bool'>\n",
      "\n",
      "\n",
      "value of b:\n",
      "jack\n",
      "type of b:\n",
      "<class 'str'>\n"
     ]
    }
   ],
   "source": [
    "x = 20 # declaration\n",
    "\n",
    "print(\"value of x:\")\n",
    "print(x)\n",
    "print(\"type of x:\")\n",
    "print(type(x))\n",
    "\n",
    "print(\"\\n\")\n",
    "\n",
    "y = 1.5\n",
    "\n",
    "print(\"value of y:\")\n",
    "print(y)\n",
    "print(\"type of y:\")\n",
    "print(type(y))\n",
    "\n",
    "print(\"\\n\")\n",
    "\n",
    "z = 2j + 4\n",
    "\n",
    "print(\"value of z\")\n",
    "print(z)\n",
    "print(\"type of z:\")\n",
    "print(type(z))\n",
    "\n",
    "print(\"\\n\")\n",
    "\n",
    "a = True\n",
    "\n",
    "print(\"value of a:\")\n",
    "print(a)\n",
    "print(\"type of a:\")\n",
    "print(type(a))\n",
    "\n",
    "print(\"\\n\")\n",
    "\n",
    "b = 'jack'\n",
    "\n",
    "print(\"value of b:\")\n",
    "print(b)\n",
    "print(\"type of b:\")\n",
    "print(type(b))"
   ]
  },
  {
   "cell_type": "markdown",
   "id": "2bb38fa5",
   "metadata": {},
   "source": [
    "# Typecasting"
   ]
  },
  {
   "cell_type": "code",
   "execution_count": 9,
   "id": "0a08c44a",
   "metadata": {},
   "outputs": [
    {
     "name": "stdout",
     "output_type": "stream",
     "text": [
      "float to int typecasting\n",
      "350.7\n",
      "<class 'float'>\n",
      "350\n",
      "<class 'int'>\n"
     ]
    }
   ],
   "source": [
    "#folat to int convertion\n",
    "\n",
    "print(\"float to int typecasting\")\n",
    "val = 350.7\n",
    "print(val)\n",
    "print(type(val))\n",
    "\n",
    "val_z = int(val)\n",
    "print(val_z)\n",
    "print(type(val_z))\n",
    "\n",
    " "
   ]
  },
  {
   "cell_type": "code",
   "execution_count": 10,
   "id": "4bebaf82",
   "metadata": {},
   "outputs": [
    {
     "name": "stdout",
     "output_type": "stream",
     "text": [
      "string to int typecasting\n",
      "700\n",
      "<class 'str'>\n",
      "700\n",
      "<class 'int'>\n",
      "\n",
      "\n",
      "400\n",
      "<class 'str'>\n",
      "400.0\n",
      "<class 'float'>\n"
     ]
    }
   ],
   "source": [
    "#string to int convertion\n",
    "\n",
    "print(\"string to int typecasting\")\n",
    "\n",
    "\n",
    "str1 = \"700\"\n",
    "print(str1)\n",
    "print(type(str1))\n",
    "\n",
    "\n",
    "str_i = int(str1)\n",
    "print(str_i)\n",
    "print(type(str_i))\n",
    "\n",
    "\n",
    "print(\"\\n\")\n",
    "\n",
    "\n",
    "str2 = \"400\"\n",
    "print(str2)\n",
    "print(type(str2))\n",
    "\n",
    "str_a = float(str2)\n",
    "\n",
    "print(str_a)\n",
    "print(type(str_a))"
   ]
  },
  {
   "cell_type": "markdown",
   "id": "eeab1fd3",
   "metadata": {},
   "source": [
    "# float value in string converted to int."
   ]
  },
  {
   "cell_type": "code",
   "execution_count": 11,
   "id": "e80dbd6e",
   "metadata": {},
   "outputs": [
    {
     "name": "stdout",
     "output_type": "stream",
     "text": [
      "109.2\n",
      "<class 'str'>\n",
      "\n",
      "\n",
      "109.2\n",
      "<class 'float'>\n",
      "\n",
      "\n",
      "109\n",
      "<class 'int'>\n",
      "\n",
      "\n",
      "378.5\n",
      "<class 'str'>\n",
      "378.5\n",
      "<class 'float'>\n",
      "378\n",
      "<class 'int'>\n",
      "\n",
      "\n",
      "109.3\n",
      "<class 'str'>\n",
      "109.3\n",
      "<class 'float'>\n",
      "109\n",
      "<class 'int'>\n"
     ]
    }
   ],
   "source": [
    "# first convert string to float then float convert to int int\n",
    "str2 = \"109.2\"\n",
    "print(str2)\n",
    "print(type(str2))\n",
    "print(\"\\n\")\n",
    "\n",
    "str2_s = float(str2)\n",
    "print(str2_s)\n",
    "print(type(str2_s))\n",
    "print(\"\\n\")\n",
    "\n",
    "str2_i =int(str2_s)\n",
    "print(str2_i)\n",
    "print(type(str2_i))\n",
    "print(\"\\n\")\n",
    "\n",
    "str3 = \"378.5\"\n",
    "print(str3)\n",
    "print(type(str3))\n",
    "\n",
    "str3_f = float(str3)\n",
    "print(str3_f)\n",
    "print(type(str3_f))\n",
    "\n",
    "\n",
    "str3_i = int(str3_f)\n",
    "print(str3_i)\n",
    "print(type(str3_i))\n",
    "print(\"\\n\")\n",
    "\n",
    "str_m = \"109.3\"\n",
    "print(str_m)\n",
    "print(type(str_m))\n",
    "\n",
    "str_m1 = float(str_m)\n",
    "print(str_m1)\n",
    "print(type(str_m1))\n",
    "\n",
    "str_m2 = int(str_m1)\n",
    "print(str_m2)\n",
    "print(type(str_m2))"
   ]
  },
  {
   "cell_type": "markdown",
   "id": "3ab466b5",
   "metadata": {},
   "source": [
    "# Assignment - 1"
   ]
  },
  {
   "cell_type": "code",
   "execution_count": 12,
   "id": "4eb565e0",
   "metadata": {},
   "outputs": [
    {
     "name": "stdout",
     "output_type": "stream",
     "text": [
      "float to string:\n",
      "100.23\n",
      "<class 'float'>\n",
      "100.23\n",
      "<class 'str'>\n",
      "\n",
      "\n",
      "int to string:\n",
      "20\n",
      "<class 'int'>\n",
      "20\n",
      "<class 'str'>\n",
      "\n",
      "\n",
      "complex to string\n",
      "(2+4j)\n",
      "<class 'complex'>\n",
      "(2+4j)\n",
      "<class 'str'>\n"
     ]
    }
   ],
   "source": [
    "# float, int to string\n",
    "\n",
    "var = 100.23\n",
    "var1 = 20\n",
    "comp = 2 + 4j\n",
    "\n",
    "print(\"float to string:\")\n",
    "\n",
    "var = 100.23\n",
    "print(var)\n",
    "print(type(var))\n",
    "\n",
    "var2 = str(var)\n",
    "print(var2)\n",
    "print(type(var2))\n",
    "print(\"\\n\")\n",
    "\n",
    "print(\"int to string:\")\n",
    "var1 = 20\n",
    "print(var1)\n",
    "print(type(var1))\n",
    "\n",
    "var1_s = str(var1)\n",
    "print(var1_s)\n",
    "print(type(var1_s))\n",
    "print(\"\\n\")\n",
    "\n",
    "print(\"complex to string\")\n",
    "comp = 2 + 4j\n",
    "print(comp)\n",
    "print(type(comp))\n",
    "\n",
    "comp1_m = str(comp)\n",
    "print(comp1_m)\n",
    "print(type(comp1_m))"
   ]
  },
  {
   "cell_type": "markdown",
   "id": "597aaa88",
   "metadata": {},
   "source": [
    "# Other types of Complex"
   ]
  },
  {
   "cell_type": "code",
   "execution_count": 13,
   "id": "fdb0b08b",
   "metadata": {},
   "outputs": [
    {
     "name": "stdout",
     "output_type": "stream",
     "text": [
      "(2+4j)\n",
      "The real part:\n",
      "2.0\n",
      "The imag part:\n",
      "4.0\n",
      "\n",
      "\n",
      "(3+7j)\n",
      "The real part:\n",
      "3.0\n",
      "The imag part:\n",
      "7.0\n",
      "\n",
      "\n",
      "(5+9j)\n",
      "The real part:\n",
      "5.0\n",
      "The imag part:\n",
      "9.0\n"
     ]
    }
   ],
   "source": [
    "# use complex() function for convertion\n",
    "\n",
    "comp = complex(2,4)\n",
    "print(comp)\n",
    "print(\"The real part:\")\n",
    "print(comp.real)\n",
    "\n",
    "print(\"The imag part:\")\n",
    "print(comp.imag)\n",
    "print(\"\\n\")\n",
    "\n",
    "comp = complex(3,7)\n",
    "print(comp)\n",
    "print(\"The real part:\")\n",
    "print(comp.real)\n",
    "\n",
    "\n",
    "print(\"The imag part:\")\n",
    "print(comp.imag)\n",
    "print(\"\\n\")\n",
    "\n",
    "comp = complex(5,9)\n",
    "print(comp)\n",
    "print(\"The real part:\")\n",
    "print(comp.real)\n",
    "\n",
    "\n",
    "print(\"The imag part:\")\n",
    "print(comp.imag)"
   ]
  },
  {
   "cell_type": "code",
   "execution_count": 14,
   "id": "b5fa8ab7",
   "metadata": {},
   "outputs": [
    {
     "name": "stdout",
     "output_type": "stream",
     "text": [
      "(5+0j)\n"
     ]
    }
   ],
   "source": [
    "c = complex(5)\n",
    "print(c)"
   ]
  },
  {
   "cell_type": "code",
   "execution_count": 15,
   "id": "59eb2afd",
   "metadata": {},
   "outputs": [
    {
     "name": "stdout",
     "output_type": "stream",
     "text": [
      "30\n",
      "<class 'int'>\n",
      "(30+0j)\n",
      "<class 'complex'>\n",
      "The real part:\n",
      "30.0\n",
      "0.0\n",
      "\n",
      "\n",
      "200\n",
      "<class 'int'>\n",
      "(200+0j)\n",
      "<class 'complex'>\n",
      "The real part\n",
      "200.0\n",
      "The imaginary part\n",
      "0.0\n"
     ]
    }
   ],
   "source": [
    "#create a complex no. using int values\n",
    "\n",
    "val = 30\n",
    "print(val)\n",
    "print(type(val))\n",
    "c = complex(val)\n",
    "print(c)\n",
    "print(type(c))\n",
    "print(\"The real part:\")\n",
    "print(c.real)\n",
    "print(c.imag)\n",
    "print(\"\\n\")\n",
    "\n",
    "val1 = 200\n",
    "print(val1)\n",
    "print(type(val1))\n",
    "c = complex(val1)\n",
    "print(c)\n",
    "print(type(c))\n",
    "print(\"The real part\")\n",
    "print(c.real)\n",
    "print(\"The imaginary part\")\n",
    "print(c.imag)"
   ]
  },
  {
   "cell_type": "code",
   "execution_count": 16,
   "id": "a14900c9",
   "metadata": {},
   "outputs": [
    {
     "name": "stdout",
     "output_type": "stream",
     "text": [
      "10.2\n",
      "<class 'float'>\n",
      "(10.2+0j)\n",
      "<class 'complex'>\n",
      "\n",
      "\n",
      "The real part:\n",
      "10.2\n",
      "The imaginary part\n",
      "0.0\n",
      "\n",
      "\n",
      "20.5\n",
      "<class 'float'>\n",
      "(20.5+0j)\n",
      "<class 'complex'>\n",
      "\n",
      "\n",
      "The real part:\n",
      "20.5\n",
      "The imaginary part:\n",
      "0.0\n"
     ]
    }
   ],
   "source": [
    "#create a complex no. using float values.\n",
    "\n",
    "var = 10.2\n",
    "print(var)\n",
    "print(type(var))\n",
    "\n",
    "c = complex(var)\n",
    "print(c)\n",
    "print(type(c))\n",
    "print(\"\\n\")\n",
    "\n",
    "print(\"The real part:\")\n",
    "print(c.real)\n",
    "\n",
    "print(\"The imaginary part\")\n",
    "print(c.imag)\n",
    "print(\"\\n\")\n",
    "\n",
    "var2 = 20.5\n",
    "print(var2)\n",
    "print(type(var2))\n",
    "\n",
    "c2 = complex(var2)\n",
    "print(c2)\n",
    "print(type(c2))\n",
    "print(\"\\n\")\n",
    "\n",
    "print(\"The real part:\")\n",
    "print(c2.real)\n",
    "print(\"The imaginary part:\")\n",
    "print(c2.imag)\n"
   ]
  },
  {
   "cell_type": "code",
   "execution_count": 17,
   "id": "7b3c4d12",
   "metadata": {},
   "outputs": [
    {
     "name": "stdout",
     "output_type": "stream",
     "text": [
      "10\n",
      "<class 'str'>\n",
      "(10+0j)\n",
      "<class 'complex'>\n",
      "\n",
      "\n",
      "The real part:\n",
      "10.0\n",
      "The imaginary part\n",
      "0.0\n",
      "\n",
      "\n",
      "20\n",
      "<class 'str'>\n",
      "(10+0j)\n",
      "<class 'complex'>\n",
      "\n",
      "\n",
      "4+6j\n",
      "<class 'str'>\n",
      "(4+6j)\n",
      "<class 'complex'>\n"
     ]
    }
   ],
   "source": [
    "#create a complex no. using string values.\n",
    "\n",
    "str1 = \"10\"\n",
    "print(str1)\n",
    "print(type(str1))\n",
    "\n",
    "c = complex(str1)\n",
    "print(c)\n",
    "print(type(c))\n",
    "print(\"\\n\")\n",
    "print(\"The real part:\")\n",
    "print(c.real)\n",
    "print(\"The imaginary part\")\n",
    "print(c.imag)\n",
    "print(\"\\n\")\n",
    "\n",
    "str2 = \"20\"\n",
    "print(str2)\n",
    "print(type(str2))\n",
    "\n",
    "c1 = complex(str2)\n",
    "print(c)\n",
    "print(type(c1))\n",
    "print(\"\\n\")\n",
    "\n",
    "str3 = \"4+6j\"\n",
    "print(str3)\n",
    "print(type(str3))\n",
    "\n",
    "c2 = complex(str3)\n",
    "print(c2)\n",
    "print(type(c2))"
   ]
  },
  {
   "cell_type": "markdown",
   "id": "ceec5d2f",
   "metadata": {},
   "source": [
    "## bool()"
   ]
  },
  {
   "cell_type": "code",
   "execution_count": 18,
   "id": "8b1e0c9a",
   "metadata": {},
   "outputs": [
    {
     "name": "stdout",
     "output_type": "stream",
     "text": [
      "False\n"
     ]
    }
   ],
   "source": [
    "x = True\n",
    "x = False\n",
    "print(x)"
   ]
  },
  {
   "cell_type": "code",
   "execution_count": 19,
   "id": "15a70fc3",
   "metadata": {},
   "outputs": [
    {
     "name": "stdout",
     "output_type": "stream",
     "text": [
      "1\n"
     ]
    }
   ],
   "source": [
    "print(int(True))"
   ]
  },
  {
   "cell_type": "code",
   "execution_count": 20,
   "id": "4dd43a50",
   "metadata": {},
   "outputs": [
    {
     "name": "stdout",
     "output_type": "stream",
     "text": [
      "0\n"
     ]
    }
   ],
   "source": [
    "print(int(False))"
   ]
  },
  {
   "cell_type": "code",
   "execution_count": 21,
   "id": "f53555d1",
   "metadata": {},
   "outputs": [
    {
     "name": "stdout",
     "output_type": "stream",
     "text": [
      "1.0\n"
     ]
    }
   ],
   "source": [
    "print(float(True))"
   ]
  },
  {
   "cell_type": "code",
   "execution_count": 22,
   "id": "b9b41dce",
   "metadata": {},
   "outputs": [
    {
     "name": "stdout",
     "output_type": "stream",
     "text": [
      "0.0\n"
     ]
    }
   ],
   "source": [
    "print(float(False))"
   ]
  },
  {
   "cell_type": "code",
   "execution_count": 23,
   "id": "13403ff2",
   "metadata": {},
   "outputs": [
    {
     "name": "stdout",
     "output_type": "stream",
     "text": [
      "(1+0j)\n"
     ]
    }
   ],
   "source": [
    "print(complex(True))"
   ]
  },
  {
   "cell_type": "code",
   "execution_count": 24,
   "id": "f6bc9c60",
   "metadata": {},
   "outputs": [
    {
     "name": "stdout",
     "output_type": "stream",
     "text": [
      "0j\n"
     ]
    }
   ],
   "source": [
    "print(complex(False))"
   ]
  },
  {
   "cell_type": "code",
   "execution_count": 25,
   "id": "509c6230",
   "metadata": {},
   "outputs": [
    {
     "name": "stdout",
     "output_type": "stream",
     "text": [
      "str True\n"
     ]
    }
   ],
   "source": [
    "print('str',(True))"
   ]
  },
  {
   "cell_type": "code",
   "execution_count": 26,
   "id": "66aea8f2",
   "metadata": {},
   "outputs": [
    {
     "name": "stdout",
     "output_type": "stream",
     "text": [
      "str False\n"
     ]
    }
   ],
   "source": [
    "print('str',(False))"
   ]
  },
  {
   "cell_type": "code",
   "execution_count": 27,
   "id": "e8865c8f",
   "metadata": {},
   "outputs": [
    {
     "name": "stdout",
     "output_type": "stream",
     "text": [
      "<class 'bool'>\n",
      "True\n",
      "<class 'str'>\n",
      "<class 'bool'>\n",
      "False\n",
      "<class 'str'>\n"
     ]
    }
   ],
   "source": [
    "###Convert bool into str\n",
    "\n",
    "print(type(True))\n",
    "var = str(True)\n",
    "print(var)\n",
    "print(type(var))\n",
    "\n",
    "print(type(False))\n",
    "var = str(False)\n",
    "print(var)\n",
    "print(type(var))"
   ]
  },
  {
   "cell_type": "code",
   "execution_count": 28,
   "id": "d191d376",
   "metadata": {},
   "outputs": [
    {
     "name": "stdout",
     "output_type": "stream",
     "text": [
      "True\n",
      "<class 'bool'>\n",
      "False\n"
     ]
    }
   ],
   "source": [
    "###Convert float into bool\n",
    "x = 0.12\n",
    "x = bool(0.12)or (12.0)\n",
    "print(x)\n",
    "print(type(x))\n",
    "\n",
    "y = bool(0.0)\n",
    "print(y)"
   ]
  },
  {
   "cell_type": "code",
   "execution_count": 29,
   "id": "a5498d39",
   "metadata": {},
   "outputs": [
    {
     "name": "stdout",
     "output_type": "stream",
     "text": [
      "True\n",
      "False\n"
     ]
    }
   ],
   "source": [
    "### Convert int to bool\n",
    "\n",
    "print(bool(12))\n",
    "print(bool(0))"
   ]
  },
  {
   "cell_type": "code",
   "execution_count": 30,
   "id": "f6ffc1f8",
   "metadata": {},
   "outputs": [
    {
     "name": "stdout",
     "output_type": "stream",
     "text": [
      "True\n",
      "False\n"
     ]
    }
   ],
   "source": [
    "### Convert str to bool\n",
    "\n",
    "str = \"python\"\n",
    "x = (bool(str))\n",
    "print(x)\n",
    "\n",
    "str2 = \"\"\n",
    "y = (bool(str2))\n",
    "print(y)"
   ]
  },
  {
   "cell_type": "code",
   "execution_count": 31,
   "id": "48992777",
   "metadata": {},
   "outputs": [
    {
     "name": "stdout",
     "output_type": "stream",
     "text": [
      "True\n",
      "True\n",
      "False\n",
      "True\n"
     ]
    }
   ],
   "source": [
    "### Convertion of complex no. into bool\n",
    "\n",
    "x = 1 + 0j\n",
    "\n",
    "b = bool(x)\n",
    "print(b)\n",
    "\n",
    "x = 4 + 3j\n",
    "\n",
    "b = bool(x)\n",
    "print(b)\n",
    "\n",
    "x = 0+0j\n",
    "b = bool(x)\n",
    "print(b)\n",
    "\n",
    "\n",
    "x = 4+8j\n",
    "b = bool(x)\n",
    "print(b)"
   ]
  },
  {
   "cell_type": "markdown",
   "id": "51b1dba1",
   "metadata": {},
   "source": [
    "# String\n",
    "\n",
    "### Operations :- slicing, display, multiplying."
   ]
  },
  {
   "cell_type": "code",
   "execution_count": 32,
   "id": "1e77014e",
   "metadata": {},
   "outputs": [
    {
     "name": "stdout",
     "output_type": "stream",
     "text": [
      "This is a python language....12345\n",
      "<class 'str'>\n",
      "['p', 'y', 't', 'h', 'o', 'n']\n"
     ]
    }
   ],
   "source": [
    "str1 = \"This is a python language....12345\"\n",
    "print(str1)\n",
    "print(type(str1))\n",
    "\n",
    "#like your list\n",
    "\n",
    "l = ['p','y','t','h','o','n']\n",
    "print(l)"
   ]
  },
  {
   "cell_type": "code",
   "execution_count": 33,
   "id": "33f99ca0",
   "metadata": {},
   "outputs": [
    {
     "name": "stdout",
     "output_type": "stream",
     "text": [
      "This is a python language....12345\n",
      "i\n",
      "34\n",
      "1\n"
     ]
    }
   ],
   "source": [
    "###assignment\n",
    "#str1 = \"This is easy language\"\n",
    "print(str1)\n",
    "print(str1[5])\n",
    "print(len(str1))\n",
    "\n",
    "print(str1[29])"
   ]
  },
  {
   "cell_type": "code",
   "execution_count": 34,
   "id": "d28551b4",
   "metadata": {},
   "outputs": [
    {
     "data": {
      "text/plain": [
       "'T'"
      ]
     },
     "execution_count": 34,
     "metadata": {},
     "output_type": "execute_result"
    }
   ],
   "source": [
    "str1[0]"
   ]
  },
  {
   "cell_type": "code",
   "execution_count": 35,
   "id": "09c3a639",
   "metadata": {},
   "outputs": [
    {
     "name": "stdout",
     "output_type": "stream",
     "text": [
      "This is a python language....12\n"
     ]
    }
   ],
   "source": [
    "# 0-31 nothing but the range of index\n",
    "\n",
    "print(str1[0:31])"
   ]
  },
  {
   "cell_type": "code",
   "execution_count": 36,
   "id": "b6c0b522",
   "metadata": {},
   "outputs": [
    {
     "name": "stdout",
     "output_type": "stream",
     "text": [
      "This \n"
     ]
    },
    {
     "data": {
      "text/plain": [
       "'i'"
      ]
     },
     "execution_count": 36,
     "metadata": {},
     "output_type": "execute_result"
    }
   ],
   "source": [
    "print(str1[0:5])\n",
    "# it includes 0,1,2,3,4\n",
    "# str1[start:end]\n",
    "# end:not included\n",
    "\n",
    "str1[5]\n"
   ]
  },
  {
   "cell_type": "code",
   "execution_count": 37,
   "id": "ef6aa096",
   "metadata": {},
   "outputs": [
    {
     "name": "stdout",
     "output_type": "stream",
     "text": [
      "is a python lan\n",
      "g\n"
     ]
    }
   ],
   "source": [
    "print(str1[5:20])\n",
    "print(str1[20])"
   ]
  },
  {
   "cell_type": "code",
   "execution_count": 38,
   "id": "da194327",
   "metadata": {},
   "outputs": [
    {
     "name": "stdout",
     "output_type": "stream",
     "text": [
      "This is a python language....12345\n",
      "This is a python language...\n"
     ]
    }
   ],
   "source": [
    "print(str1)\n",
    "print(str1[:28])"
   ]
  },
  {
   "cell_type": "code",
   "execution_count": 39,
   "id": "2acfba4e",
   "metadata": {},
   "outputs": [
    {
     "name": "stdout",
     "output_type": "stream",
     "text": [
      "This is a python language....12345\n",
      "python lang\n",
      "This is a python language....12345\n",
      "This is a python languag\n"
     ]
    }
   ],
   "source": [
    "print(str1)\n",
    "print(str1[10:21])    \n",
    "print(str1[0:])\n",
    "print(str1[0:24])"
   ]
  },
  {
   "cell_type": "code",
   "execution_count": 40,
   "id": "b9d0494d",
   "metadata": {},
   "outputs": [
    {
     "name": "stdout",
     "output_type": "stream",
     "text": [
      "This is a python language....12345\n",
      "T\n"
     ]
    }
   ],
   "source": [
    "###Negative index\n",
    "\n",
    "print(str1)\n",
    "\n",
    "print(str1[0])"
   ]
  },
  {
   "cell_type": "code",
   "execution_count": 41,
   "id": "6138a7c9",
   "metadata": {},
   "outputs": [
    {
     "name": "stdout",
     "output_type": "stream",
     "text": [
      "5\n",
      "o\n",
      "n\n"
     ]
    }
   ],
   "source": [
    "print(str1[-1])\n",
    "print(str1[-20])\n",
    "print(str1[-15])"
   ]
  },
  {
   "cell_type": "code",
   "execution_count": 42,
   "id": "b9b5761a",
   "metadata": {},
   "outputs": [
    {
     "data": {
      "text/plain": [
       "'This is a python language....12345'"
      ]
     },
     "execution_count": 42,
     "metadata": {},
     "output_type": "execute_result"
    }
   ],
   "source": [
    "#string multiply\n",
    "\n",
    "str1* 1"
   ]
  },
  {
   "cell_type": "code",
   "execution_count": 43,
   "id": "644e06c6",
   "metadata": {},
   "outputs": [
    {
     "name": "stdout",
     "output_type": "stream",
     "text": [
      "Dhoni is famous player\n",
      "<class 'str'>\n",
      "['D', 'h', 'o', 'n', 'i']\n"
     ]
    }
   ],
   "source": [
    "###  Assignment - 2\n",
    "## Ex - 1\n",
    "str2 = \"Dhoni is famous player\"\n",
    "\n",
    "print(str2)\n",
    "print(type(str2))\n",
    "\n",
    "#like your list \n",
    "\n",
    "l = ['D','h','o','n','i']\n",
    "print(l)"
   ]
  },
  {
   "cell_type": "code",
   "execution_count": 44,
   "id": "62b87f4f",
   "metadata": {},
   "outputs": [
    {
     "name": "stdout",
     "output_type": "stream",
     "text": [
      "Dhoni is famous player\n",
      "D\n",
      "22\n",
      "f\n"
     ]
    }
   ],
   "source": [
    "#str2 = \"tendulkar is very good player...\"\n",
    "\n",
    "print(str2)\n",
    "print(str2[0])\n",
    "print(len(str2))\n",
    "\n",
    "print(str2[9])"
   ]
  },
  {
   "cell_type": "code",
   "execution_count": 45,
   "id": "4ed61a76",
   "metadata": {},
   "outputs": [
    {
     "data": {
      "text/plain": [
       "'D'"
      ]
     },
     "execution_count": 45,
     "metadata": {},
     "output_type": "execute_result"
    }
   ],
   "source": [
    "str2[0]\n"
   ]
  },
  {
   "cell_type": "code",
   "execution_count": 46,
   "id": "06b2064d",
   "metadata": {},
   "outputs": [
    {
     "data": {
      "text/plain": [
       "'Dhoni is famous player'"
      ]
     },
     "execution_count": 46,
     "metadata": {},
     "output_type": "execute_result"
    }
   ],
   "source": [
    "#0-22 nothing but the range of index\n",
    "\n",
    "str2[0:22]"
   ]
  },
  {
   "cell_type": "code",
   "execution_count": 47,
   "id": "321c984f",
   "metadata": {},
   "outputs": [
    {
     "name": "stdout",
     "output_type": "stream",
     "text": [
      "Dhoni\n"
     ]
    },
    {
     "data": {
      "text/plain": [
       "'s'"
      ]
     },
     "execution_count": 47,
     "metadata": {},
     "output_type": "execute_result"
    }
   ],
   "source": [
    "print(str2[0:5])\n",
    "#it includes 0,1,2,3,4\n",
    "#str2[start:end]\n",
    "#end:not included\n",
    "str2[7]"
   ]
  },
  {
   "cell_type": "code",
   "execution_count": 48,
   "id": "585671cc",
   "metadata": {},
   "outputs": [
    {
     "name": "stdout",
     "output_type": "stream",
     "text": [
      " is famous playe\n",
      "e\n"
     ]
    }
   ],
   "source": [
    "print(str2[5:21])\n",
    "print(str2[20])"
   ]
  },
  {
   "cell_type": "code",
   "execution_count": 49,
   "id": "e8e475f0",
   "metadata": {},
   "outputs": [
    {
     "name": "stdout",
     "output_type": "stream",
     "text": [
      "Dhoni is famous player\n",
      "Dhoni is famous playe\n"
     ]
    }
   ],
   "source": [
    "print(str2)\n",
    "print(str2[:21])"
   ]
  },
  {
   "cell_type": "code",
   "execution_count": 50,
   "id": "43a80dda",
   "metadata": {},
   "outputs": [
    {
     "name": "stdout",
     "output_type": "stream",
     "text": [
      "Dhoni is famous player\n",
      "amous pla\n",
      "Dhoni is famous player\n",
      "Dhoni is famous play\n"
     ]
    }
   ],
   "source": [
    "print(str2)\n",
    "print(str2[10:19])\n",
    "print(str2[0:])\n",
    "print(str2[0:20])"
   ]
  },
  {
   "cell_type": "code",
   "execution_count": 51,
   "id": "b048c64c",
   "metadata": {},
   "outputs": [
    {
     "name": "stdout",
     "output_type": "stream",
     "text": [
      "Dhoni is famous player\n",
      "D\n"
     ]
    }
   ],
   "source": [
    "###Negative index\n",
    "\n",
    "print(str2)\n",
    "print(str2[0])"
   ]
  },
  {
   "cell_type": "code",
   "execution_count": 52,
   "id": "190ee31b",
   "metadata": {},
   "outputs": [
    {
     "name": "stdout",
     "output_type": "stream",
     "text": [
      "r\n",
      "n\n",
      "s\n"
     ]
    }
   ],
   "source": [
    "print(str2[-1])\n",
    "print(str2[-19])\n",
    "print(str2[-8])"
   ]
  },
  {
   "cell_type": "code",
   "execution_count": 53,
   "id": "02e0ef05",
   "metadata": {},
   "outputs": [
    {
     "data": {
      "text/plain": [
       "'Dhoni is famous playerDhoni is famous playerDhoni is famous player'"
      ]
     },
     "execution_count": 53,
     "metadata": {},
     "output_type": "execute_result"
    }
   ],
   "source": [
    "#string multiply\n",
    "\n",
    "str2 * 3"
   ]
  },
  {
   "cell_type": "code",
   "execution_count": 2,
   "id": "5792bc22",
   "metadata": {},
   "outputs": [
    {
     "name": "stdout",
     "output_type": "stream",
     "text": [
      "Krishna is famous lord of devotees...\n",
      "<class 'str'>\n",
      "['k', 'r', 'i', 's', 'h', 'n', 'a']\n"
     ]
    }
   ],
   "source": [
    "## Ex- 2\n",
    "\n",
    "str3 = \"Krishna is famous lord of devotees...\"\n",
    "print(str3)\n",
    "print(type(str3))\n",
    "\n",
    "l = ['k','r','i','s','h','n','a']\n",
    "print(l)"
   ]
  },
  {
   "cell_type": "code",
   "execution_count": 55,
   "id": "3ffb82f9",
   "metadata": {},
   "outputs": [
    {
     "name": "stdout",
     "output_type": "stream",
     "text": [
      "Krishna is famous lord of devotees...\n",
      "K\n",
      "37\n",
      "t\n"
     ]
    }
   ],
   "source": [
    "print(str3)\n",
    "print(str3[0])\n",
    "print(len(str3))\n",
    "\n",
    "print(str3[30])"
   ]
  },
  {
   "cell_type": "code",
   "execution_count": 56,
   "id": "3875f87b",
   "metadata": {},
   "outputs": [
    {
     "data": {
      "text/plain": [
       "'K'"
      ]
     },
     "execution_count": 56,
     "metadata": {},
     "output_type": "execute_result"
    }
   ],
   "source": [
    "str3[0]"
   ]
  },
  {
   "cell_type": "code",
   "execution_count": 57,
   "id": "6d12c648",
   "metadata": {},
   "outputs": [
    {
     "data": {
      "text/plain": [
       "'Krishna is famous lord of devotees...'"
      ]
     },
     "execution_count": 57,
     "metadata": {},
     "output_type": "execute_result"
    }
   ],
   "source": [
    "# 0-37 nothing but the range of index\n",
    "\n",
    "str3[0:37]"
   ]
  },
  {
   "cell_type": "code",
   "execution_count": 58,
   "id": "f1c2f962",
   "metadata": {},
   "outputs": [
    {
     "name": "stdout",
     "output_type": "stream",
     "text": [
      "Krish\n"
     ]
    },
    {
     "data": {
      "text/plain": [
       "'n'"
      ]
     },
     "execution_count": 58,
     "metadata": {},
     "output_type": "execute_result"
    }
   ],
   "source": [
    "print(str3[0:5])\n",
    "# it includes 0,1,2,3,4\n",
    "#str3[start:end]\n",
    "#end: not included\n",
    "str3[5]\n"
   ]
  },
  {
   "cell_type": "code",
   "execution_count": 59,
   "id": "fe24a4ce",
   "metadata": {},
   "outputs": [
    {
     "name": "stdout",
     "output_type": "stream",
     "text": [
      "na is famous lo\n",
      " devotees...\n"
     ]
    }
   ],
   "source": [
    "print(str3[5:20])\n",
    "print(str3[25:37])"
   ]
  },
  {
   "cell_type": "code",
   "execution_count": 60,
   "id": "0b35228b",
   "metadata": {},
   "outputs": [
    {
     "name": "stdout",
     "output_type": "stream",
     "text": [
      "Krishna is famous lord of devotees...\n",
      " famous lo\n",
      "Krishna is famous lord of devotees...\n",
      "Krishna is famous lord of d\n"
     ]
    }
   ],
   "source": [
    "print(str3)\n",
    "print(str3[10:20])\n",
    "print(str3[0:])\n",
    "print(str3[0:27])"
   ]
  },
  {
   "cell_type": "code",
   "execution_count": 61,
   "id": "7aa85ae6",
   "metadata": {},
   "outputs": [
    {
     "name": "stdout",
     "output_type": "stream",
     "text": [
      "Krishna is famous lord of devotees...\n",
      "K\n"
     ]
    }
   ],
   "source": [
    "### Negative index\n",
    "print(str3)\n",
    "print(str3[0])"
   ]
  },
  {
   "cell_type": "code",
   "execution_count": 62,
   "id": "7b50a4cd",
   "metadata": {},
   "outputs": [
    {
     "name": "stdout",
     "output_type": "stream",
     "text": [
      ".\n",
      "e\n",
      " \n"
     ]
    }
   ],
   "source": [
    "print(str3[-1])\n",
    "print(str3[-10])\n",
    "print(str3[-30])"
   ]
  },
  {
   "cell_type": "code",
   "execution_count": 63,
   "id": "48a0bf5a",
   "metadata": {},
   "outputs": [
    {
     "data": {
      "text/plain": [
       "'Krishna is famous lord of devotees...Krishna is famous lord of devotees...Krishna is famous lord of devotees...Krishna is famous lord of devotees...Krishna is famous lord of devotees...'"
      ]
     },
     "execution_count": 63,
     "metadata": {},
     "output_type": "execute_result"
    }
   ],
   "source": [
    "##string multiply\n",
    "\n",
    "str3 * 5"
   ]
  },
  {
   "cell_type": "markdown",
   "id": "e6b9cac0",
   "metadata": {},
   "source": [
    "# Immutability"
   ]
  },
  {
   "cell_type": "code",
   "execution_count": 64,
   "id": "88759451",
   "metadata": {},
   "outputs": [
    {
     "name": "stdout",
     "output_type": "stream",
     "text": [
      "140737172791176\n",
      "and\n",
      " 140737172791176\n",
      "True\n",
      "2010418700624\n",
      "and\n",
      " 2010418693264\n",
      "2010418694192\n",
      "False\n"
     ]
    }
   ],
   "source": [
    "var = 100\n",
    "var1 = var\n",
    "\n",
    "print(id(var))\n",
    "print(\"and\\n\",id(var1))\n",
    "\n",
    "print(var is var1)\n",
    "\n",
    "\n",
    "var = 200.10\n",
    "var1 =200.10\n",
    "var2 = 200.10\n",
    "\n",
    "print(id(var))\n",
    "print(\"and\\n\",id(var1))\n",
    "\n",
    "print(id(var2))\n",
    "\n",
    "print(var is var1)"
   ]
  },
  {
   "cell_type": "code",
   "execution_count": 65,
   "id": "0d21a702",
   "metadata": {},
   "outputs": [
    {
     "name": "stdout",
     "output_type": "stream",
     "text": [
      "False\n",
      "2010418693136\n",
      "and\n",
      " 2010418700432\n"
     ]
    }
   ],
   "source": [
    "var = 10+20j\n",
    "var1 = 10+20j\n",
    "print(var is var1)\n",
    "print(id(var))\n",
    "print(\"and\\n\",id(var1))\n",
    "\n",
    "##ID are different"
   ]
  },
  {
   "cell_type": "code",
   "execution_count": 66,
   "id": "e419120a",
   "metadata": {
    "scrolled": true
   },
   "outputs": [
    {
     "name": "stdout",
     "output_type": "stream",
     "text": [
      "Id of x: 140737172791176\n",
      "Id of y: 140737172791176\n",
      "Id of z 140737172791176\n"
     ]
    }
   ],
   "source": [
    "# Immutability\n",
    "# for int\n",
    "x = 100\n",
    "print(\"Id of x:\",id(x))\n",
    "y = 100\n",
    "\n",
    "print(\"Id of y:\",id(y))\n",
    "\n",
    "z = y\n",
    "\n",
    "print(\"Id of z\",id(z))"
   ]
  },
  {
   "cell_type": "code",
   "execution_count": 67,
   "id": "bac40b20",
   "metadata": {},
   "outputs": [
    {
     "name": "stdout",
     "output_type": "stream",
     "text": [
      "Id of x: 2010418700624\n",
      "Id of y: 2010417859536\n",
      "Id of z: 2010417859536\n",
      "Id of y: 2010418700624\n"
     ]
    }
   ],
   "source": [
    "# for float\n",
    "\n",
    "x = 100.10\n",
    "print(\"Id of x:\",id(x))\n",
    "y = 100.10\n",
    "\n",
    "print(\"Id of y:\",id(y))\n",
    "\n",
    "z = y\n",
    "\n",
    "y = x\n",
    "\n",
    "print(\"Id of z:\",id(z))\n",
    "print(\"Id of y:\",id(y))"
   ]
  },
  {
   "cell_type": "markdown",
   "id": "2053a211",
   "metadata": {},
   "source": [
    "# Bytes and bytearray Data types"
   ]
  },
  {
   "cell_type": "code",
   "execution_count": 68,
   "id": "731d8e34",
   "metadata": {},
   "outputs": [
    {
     "name": "stdout",
     "output_type": "stream",
     "text": [
      "b'\\x01\\x02\\x03\\x04\\x05\\x06'\n",
      "<class 'bytes'>\n",
      "\n",
      "\n",
      "b'\\x01\\x02\\x03\\x04\\x05\\x06\\x07\\x08'\n",
      "<class 'bytes'>\n",
      "1\n",
      "2\n",
      "3\n",
      "4\n",
      "5\n",
      "6\n",
      "7\n",
      "8\n"
     ]
    },
    {
     "data": {
      "text/plain": [
       "6"
      ]
     },
     "execution_count": 68,
     "metadata": {},
     "output_type": "execute_result"
    }
   ],
   "source": [
    "#bytes can hold the values from 0 to 256\n",
    "#you cant change the value of bytes once it is created\n",
    "# Bytes is immutable\n",
    "\n",
    "l = [1,2,3,4,5,6]\n",
    "\n",
    "b = bytes(l)\n",
    "print(b)\n",
    "print(type(b))\n",
    "\n",
    "print(\"\\n\")\n",
    "\n",
    "b = bytes ([1,2,3,4,5,6,7,8,])\n",
    "\n",
    "print(b)\n",
    "print(type(b))\n",
    "\n",
    "for i in b:\n",
    "    print(i)\n",
    "    \n",
    "b[5]    "
   ]
  },
  {
   "cell_type": "code",
   "execution_count": 69,
   "id": "3cd097eb",
   "metadata": {},
   "outputs": [
    {
     "name": "stdout",
     "output_type": "stream",
     "text": [
      "b'\\n\\x16!(2\\xff'\n",
      "<class 'bytes'>\n",
      "10\n",
      "22\n",
      "33\n",
      "40\n",
      "50\n",
      "255\n",
      "val of b[5] 255\n"
     ]
    }
   ],
   "source": [
    "b = bytes([10,22,33,40,50,255])\n",
    "\n",
    "print(b)\n",
    "print(type(b))\n",
    "\n",
    "for i in b:\n",
    "    print(i)\n",
    "    \n",
    "# How to access\n",
    "print(\"val of b[5]\", b[5])\n",
    "\n",
    "# Try to modify\n",
    "# b[0]= 15"
   ]
  },
  {
   "cell_type": "markdown",
   "id": "75cef33a",
   "metadata": {},
   "source": [
    "# Bytearray"
   ]
  },
  {
   "cell_type": "code",
   "execution_count": 70,
   "id": "226a69c7",
   "metadata": {},
   "outputs": [
    {
     "name": "stdout",
     "output_type": "stream",
     "text": [
      "<class 'bytearray'>\n",
      "bytearray(b'\\x0b\\x16!(2BN')\n",
      "11\n",
      "22\n",
      "33\n",
      "40\n",
      "50\n",
      "66\n",
      "78\n",
      "\n",
      " 11\n",
      "255\n",
      "\n",
      "\n",
      "255\n",
      "22\n",
      "33\n",
      "40\n",
      "50\n",
      "66\n",
      "78\n"
     ]
    }
   ],
   "source": [
    "# The bytearray is similar to bytes \n",
    "# But you can change the elements of bytearray\n",
    "# bytearray are mutable (we can change of object after creation)\n",
    "\n",
    "# Create bytearray\n",
    "\n",
    "ba = bytearray([11,22,33,40,50,66,78])\n",
    "\n",
    "print(type(ba))\n",
    "print(ba)\n",
    "\n",
    "for i in ba:\n",
    "    print(i)\n",
    "    \n",
    "#How access the bytearray\n",
    "\n",
    "print(\"\\n\",ba[0])\n",
    "\n",
    "ba[0] = 255  # value modification\n",
    "\n",
    "\n",
    "print(ba[0])\n",
    "\n",
    "print(\"\\n\")\n",
    "for i in ba:\n",
    "    print(i)\n",
    "    "
   ]
  },
  {
   "cell_type": "markdown",
   "id": "3aa50015",
   "metadata": {},
   "source": [
    "# List"
   ]
  },
  {
   "cell_type": "code",
   "execution_count": 71,
   "id": "c50e630d",
   "metadata": {},
   "outputs": [],
   "source": [
    "# List stores multiple items with different data types\n",
    "# [] brackets are used to create list\n",
    "# list is orderd , changeable and stores duplicates also\n",
    "# list is growable, elements are added at the end of list\n"
   ]
  },
  {
   "cell_type": "code",
   "execution_count": 72,
   "id": "324aba95",
   "metadata": {},
   "outputs": [
    {
     "name": "stdout",
     "output_type": "stream",
     "text": [
      "<class 'list'>\n",
      "[1, 2, 3, 4, 5, 6, 7, 8]\n"
     ]
    }
   ],
   "source": [
    "# Create list for int float string mix\n",
    "\n",
    "l_i = [1,2,3,4,5,6,7,8]\n",
    "\n",
    "print(type(l_i))\n",
    "print(l_i)"
   ]
  },
  {
   "cell_type": "code",
   "execution_count": 73,
   "id": "273df115",
   "metadata": {},
   "outputs": [
    {
     "name": "stdout",
     "output_type": "stream",
     "text": [
      "<class 'list'>\n",
      "[1.1, 1.2, 1.3, 1.4, 1.5]\n"
     ]
    }
   ],
   "source": [
    "# float\n",
    "\n",
    "l_f = [1.1,1.2,1.3,1.4,1.5]\n",
    "\n",
    "print(type(l_f))\n",
    "print(l_f)"
   ]
  },
  {
   "cell_type": "code",
   "execution_count": 74,
   "id": "d2428927",
   "metadata": {},
   "outputs": [
    {
     "name": "stdout",
     "output_type": "stream",
     "text": [
      "<class 'list'>\n",
      "['mango,apple,banana,chiku,grapes,watermelon,orange,custerapple,pomogranate,lemon,kiwi,guvava,jackfruit']\n"
     ]
    }
   ],
   "source": [
    "#create a list of string of fruits 12\n",
    "\n",
    "l_s = ['mango,apple,banana,chiku,grapes,watermelon,orange,custerapple,pomogranate,lemon,kiwi,guvava,jackfruit']\n",
    "\n",
    "print(type(l_s))\n",
    "print(l_s)"
   ]
  },
  {
   "cell_type": "code",
   "execution_count": 75,
   "id": "66e065a7",
   "metadata": {},
   "outputs": [
    {
     "name": "stdout",
     "output_type": "stream",
     "text": [
      "<class 'list'>\n",
      "[1, 2, 'python', 'stalk', 1.1, 1.3]\n"
     ]
    }
   ],
   "source": [
    "# mix list\n",
    "\n",
    "l_m = [1,2,'python','stalk',1.1,1.3]\n",
    "\n",
    "print(type(l_m))\n",
    "print(l_m)"
   ]
  },
  {
   "cell_type": "code",
   "execution_count": 76,
   "id": "3d8ff02a",
   "metadata": {},
   "outputs": [
    {
     "data": {
      "text/plain": [
       "'python'"
      ]
     },
     "execution_count": 76,
     "metadata": {},
     "output_type": "execute_result"
    }
   ],
   "source": [
    "# Accessing list items\n",
    "\n",
    "list1 = [1,2,'python','stalk',1.1,1.3]\n",
    "\n",
    "list1[2]\n",
    "\n"
   ]
  },
  {
   "cell_type": "code",
   "execution_count": 77,
   "id": "abe8a6a4",
   "metadata": {},
   "outputs": [
    {
     "name": "stdout",
     "output_type": "stream",
     "text": [
      "[1, 2, 'python', 'stalk', 1.1]\n",
      "['stalk', 1.1, 1.3]\n"
     ]
    }
   ],
   "source": [
    "# slicing\n",
    "\n",
    "print(list1[0:5])\n",
    "print(list1[3:7])"
   ]
  },
  {
   "cell_type": "code",
   "execution_count": 78,
   "id": "5b899ee2",
   "metadata": {},
   "outputs": [
    {
     "name": "stdout",
     "output_type": "stream",
     "text": [
      "['python', 'stalk', 1.1]\n",
      "[2, 'python', 'stalk']\n"
     ]
    }
   ],
   "source": [
    "#negative slicing\n",
    "list1 = [1,2,'python','stalk',1.1,1.3]\n",
    "\n",
    "\n",
    "print(list1[-4:-1])\n",
    "print(list1[-5:-2])"
   ]
  },
  {
   "cell_type": "markdown",
   "id": "55fb710d",
   "metadata": {},
   "source": [
    "# Operations"
   ]
  },
  {
   "cell_type": "code",
   "execution_count": 79,
   "id": "9e0b2f12",
   "metadata": {},
   "outputs": [
    {
     "data": {
      "text/plain": [
       "<function list.sort(*, key=None, reverse=False)>"
      ]
     },
     "execution_count": 79,
     "metadata": {},
     "output_type": "execute_result"
    }
   ],
   "source": [
    "# Available operations on list\n",
    "\n",
    "list1.append\n",
    "list1.clear\n",
    "list1.copy\n",
    "list1.count\n",
    "list1.extend\n",
    "list1.index\n",
    "list1.insert\n",
    "list1.pop\n",
    "list1.remove\n",
    "list1.reverse\n",
    "list1.sort"
   ]
  },
  {
   "cell_type": "code",
   "execution_count": 80,
   "id": "d4c8cc3a",
   "metadata": {},
   "outputs": [
    {
     "name": "stdout",
     "output_type": "stream",
     "text": [
      "[10, 20, 30, 40, 50, 60, 70, 80]\n",
      "<class 'list'>\n",
      "[10, 20, 30, 40, 50, 60, 70, 80, 90]\n"
     ]
    }
   ],
   "source": [
    "# Append\n",
    "\n",
    "list2 = [10,20,30,40,50,60,70,80]\n",
    "\n",
    "print(list2)\n",
    "print(type(list2))\n",
    "\n",
    "list2.append(90)\n",
    "print(list2)"
   ]
  },
  {
   "cell_type": "code",
   "execution_count": 81,
   "id": "4470e46b",
   "metadata": {},
   "outputs": [
    {
     "name": "stdout",
     "output_type": "stream",
     "text": [
      "[10, 20, 30, 40, 50, 60, 70, 80, 90]\n",
      "[20, 30, 40, 50, 60, 70, 80, 90]\n"
     ]
    }
   ],
   "source": [
    "# remove my name and index\n",
    "\n",
    "print(list2)\n",
    "list2.remove(10)\n",
    "print(list2)\n"
   ]
  },
  {
   "cell_type": "code",
   "execution_count": 82,
   "id": "57599491",
   "metadata": {},
   "outputs": [
    {
     "name": "stdout",
     "output_type": "stream",
     "text": [
      "[1, 2, 'python', 'stalk', 1.1, 1.3]\n"
     ]
    }
   ],
   "source": [
    "# copy\n",
    "\n",
    "list2 = list1.copy()\n",
    "print(list2)"
   ]
  },
  {
   "cell_type": "code",
   "execution_count": 83,
   "id": "46f2495b",
   "metadata": {},
   "outputs": [
    {
     "name": "stdout",
     "output_type": "stream",
     "text": [
      "[1, 2, 'python', 'stalk', 1.1, 1.3]\n",
      "[1, 2, 'python', 'stalk', 1.1, 1.3, 60]\n",
      "\n",
      "\n",
      "[1, 2, 'python', 'stalk', 1.1, 1.3, 60, 1, 2, 'python', 'stalk', 1.1, 1.3]\n"
     ]
    }
   ],
   "source": [
    "# extend using list and single element\n",
    "\n",
    "print(list2)\n",
    "\n",
    "list2.extend([60])\n",
    "print(list2)\n",
    "\n",
    "print(\"\\n\")\n",
    "\n",
    "list2.extend(list1)\n",
    "print(list2)"
   ]
  },
  {
   "cell_type": "code",
   "execution_count": 84,
   "id": "4a557bbd",
   "metadata": {},
   "outputs": [
    {
     "name": "stdout",
     "output_type": "stream",
     "text": [
      "[1, 2, 'python', 'stalk', 1.1, 1.3, 60, 1, 2, 'python', 'stalk', 1.1, 1.3]\n",
      "6\n",
      "2\n",
      "4\n"
     ]
    }
   ],
   "source": [
    "# index of value\n",
    "print(list2)\n",
    "\n",
    "print(list2.index(60))\n",
    "print(list2.index('python'))\n",
    "print(list2.index(1.1))"
   ]
  },
  {
   "cell_type": "code",
   "execution_count": 85,
   "id": "cce8b5b4",
   "metadata": {},
   "outputs": [
    {
     "name": "stdout",
     "output_type": "stream",
     "text": [
      "[1, 2, 'python', 'stalk', 1.1, 1.3, 60, 1, 2, 'python', 'stalk', 1.1, 1.3]\n",
      "[1, 50, 2, 'python', 'stalk', 1.1, 1.3, 60, 1, 2, 'python', 'stalk', 1.1, 1.3]\n"
     ]
    }
   ],
   "source": [
    "# insert value (index, value)\n",
    "\n",
    "print(list2)\n",
    "list2.insert(1,50)\n",
    "print(list2)"
   ]
  },
  {
   "cell_type": "code",
   "execution_count": 86,
   "id": "a3defa15",
   "metadata": {},
   "outputs": [
    {
     "name": "stdout",
     "output_type": "stream",
     "text": [
      "[1, 50, 2, 'python', 'stalk', 1.1, 1.3, 60, 1, 2, 'python', 'stalk', 1.1, 1.3]\n",
      "\n",
      "\n",
      "[1, 50, 2, 'python', 'stalk', 1.1, 1.3, 60, 1, 2, 'python', 'stalk', 1.1]\n"
     ]
    }
   ],
   "source": [
    "# pop and pop(value)\n",
    "#this methode remove last element\n",
    "# this methode remove only int values not sring and float \n",
    "\n",
    "print(list2)\n",
    "print(\"\\n\")\n",
    "\n",
    "list2.pop()\n",
    "print(list2)"
   ]
  },
  {
   "cell_type": "code",
   "execution_count": 87,
   "id": "77e55faf",
   "metadata": {},
   "outputs": [
    {
     "name": "stdout",
     "output_type": "stream",
     "text": [
      "[1, 50, 2, 'python', 'stalk', 1.1, 1.3, 60, 1, 2, 'python', 'stalk', 1.1]\n",
      "\n",
      "\n",
      "[1, 50, 'python', 'stalk', 1.1, 1.3, 60, 1, 2, 'python', 'stalk', 1.1]\n"
     ]
    }
   ],
   "source": [
    "print(list2)\n",
    "\n",
    "print(\"\\n\")\n",
    "list2.pop(2)\n",
    "print(list2)"
   ]
  },
  {
   "cell_type": "code",
   "execution_count": 88,
   "id": "f500650f",
   "metadata": {},
   "outputs": [
    {
     "name": "stdout",
     "output_type": "stream",
     "text": [
      "[1, 50, 'python', 'stalk', 1.1, 1.3, 60, 1, 2, 'python', 'stalk', 1.1]\n",
      "\n",
      "\n",
      "[1.1, 'stalk', 'python', 2, 1, 60, 1.3, 1.1, 'stalk', 'python', 50, 1]\n"
     ]
    }
   ],
   "source": [
    "#reverse\n",
    "# this methode is show only reverse\n",
    "\n",
    "print(list2)\n",
    "print(\"\\n\")\n",
    "\n",
    "list2.reverse()\n",
    "print(list2)"
   ]
  },
  {
   "cell_type": "code",
   "execution_count": 89,
   "id": "efead019",
   "metadata": {},
   "outputs": [
    {
     "name": "stdout",
     "output_type": "stream",
     "text": [
      "[1, 2, 3, 4, 5, 6, 7, 8, 9, 10]\n",
      "[10, 9, 8, 7, 6, 5, 4, 3, 2, 1]\n",
      "\n",
      "\n"
     ]
    }
   ],
   "source": [
    "# sort(reverse = True/False)\n",
    "\n",
    "list = [1,2,3,4,5,6,7,8,9,10]\n",
    "\n",
    "print(list)\n",
    "\n",
    "list.sort(reverse=True)\n",
    "print(list)\n",
    "print(\"\\n\")\n",
    "\n"
   ]
  },
  {
   "cell_type": "code",
   "execution_count": 90,
   "id": "1064b8b2",
   "metadata": {},
   "outputs": [
    {
     "name": "stdout",
     "output_type": "stream",
     "text": [
      "[10, 9, 8, 7, 6, 5, 4, 3, 2, 1]\n",
      "[1, 2, 3, 4, 5, 6, 7, 8, 9, 10]\n"
     ]
    }
   ],
   "source": [
    "print(list)\n",
    "\n",
    "list.sort(reverse = False)\n",
    "print(list)"
   ]
  },
  {
   "cell_type": "raw",
   "id": "220e900d",
   "metadata": {},
   "source": [
    "print(list)\n",
    "\n",
    "list[2:4] = [0,0]\n",
    "\n",
    "print(list)\n"
   ]
  },
  {
   "cell_type": "markdown",
   "id": "49f4fd54",
   "metadata": {},
   "source": [
    "# Tuple"
   ]
  },
  {
   "cell_type": "markdown",
   "id": "989a590e",
   "metadata": {},
   "source": [
    "1. tuple is orderd and unchangable\n",
    "2. Immutable(yoou cant change the elements or cant add       elements     in tuple)\n",
    "3. () are used to represent the tuple\n",
    "4. Allow duplicates\n",
    "5. tuples are read only versions of your list except list    is growable."
   ]
  },
  {
   "cell_type": "code",
   "execution_count": 1,
   "id": "b688f5f8",
   "metadata": {},
   "outputs": [
    {
     "name": "stdout",
     "output_type": "stream",
     "text": [
      "[1, 2, 3, 4, 5, 6, 7, 8, 9]\n",
      "<class 'list'>\n",
      "(1, 2, 3, 4, 5, 6, 7, 8, 9)\n",
      "<class 'tuple'>\n"
     ]
    }
   ],
   "source": [
    "#List to tuple\n",
    "\n",
    "a = [1,2,3,4,5,6,7,8,9]\n",
    "print(a)\n",
    "print(type(a))\n",
    "\n",
    "b = tuple(a)\n",
    "print(b)\n",
    "print(type(b))"
   ]
  },
  {
   "cell_type": "code",
   "execution_count": 2,
   "id": "95245d0b",
   "metadata": {},
   "outputs": [
    {
     "name": "stdout",
     "output_type": "stream",
     "text": [
      "(1, 2, 3, 4, 5, 6)\n",
      "<class 'tuple'>\n",
      "[1, 2, 3, 4, 5, 6]\n",
      "<class 'list'>\n"
     ]
    }
   ],
   "source": [
    "#Tuple to List\n",
    "a = (1,2,3,4,5,6)\n",
    "print(a)\n",
    "print(type(a))\n",
    "\n",
    "b = list(a)\n",
    "print(b)\n",
    "print(type(b))"
   ]
  },
  {
   "cell_type": "code",
   "execution_count": 3,
   "id": "4d1f0bbe",
   "metadata": {},
   "outputs": [
    {
     "name": "stdout",
     "output_type": "stream",
     "text": [
      "('apple', 'banana', 'mango', 'orange')\n",
      "<class 'tuple'> \n",
      "\n",
      "['apple', 'banana', 'mango', 'orange']\n",
      "<class 'list'> \n",
      "\n",
      "['apple', 'banana', 'mango', 'orange', 'grapes'] \n",
      "\n",
      "('apple', 'banana', 'mango', 'orange', 'grapes')\n",
      "<class 'tuple'>\n"
     ]
    }
   ],
   "source": [
    "# append in tuple\n",
    "# since tuple is immutable you can't change the value inside\n",
    "# to change the value you have to convert tuple into list and then make changes in it according to you\n",
    "\n",
    "a = (\"apple\",\"banana\",\"mango\",\"orange\")\n",
    "print(a)\n",
    "print(type(a),\"\\n\")\n",
    "\n",
    "b = list(a)\n",
    "print(b)\n",
    "print(type(b),\"\\n\")\n",
    "\n",
    "b.append(\"grapes\")\n",
    "print(b,\"\\n\")\n",
    "\n",
    "c = tuple(b)\n",
    "print(c)\n",
    "print(type(c))"
   ]
  },
  {
   "cell_type": "code",
   "execution_count": 4,
   "id": "4ba7dbc0",
   "metadata": {},
   "outputs": [
    {
     "name": "stdout",
     "output_type": "stream",
     "text": [
      "(10, 20, 30, 40, 50, 60, 70, 80)\n",
      "<class 'tuple'> \n",
      "\n",
      "[10, 20, 30, 40, 50, 60, 70, 80]\n",
      "<class 'list'> \n",
      "\n",
      "[]\n"
     ]
    }
   ],
   "source": [
    "# clear in tuple\n",
    "# it clears all the elements in list\n",
    "a = (10,20,30,40,50,60,70,80)\n",
    "print(a)\n",
    "print(type(a),\"\\n\")\n",
    "\n",
    "b = list(a)\n",
    "print(b)\n",
    "print(type(b),\"\\n\")\n",
    "\n",
    "b.clear()\n",
    "print(b)"
   ]
  },
  {
   "cell_type": "code",
   "execution_count": 4,
   "id": "f690623f",
   "metadata": {},
   "outputs": [
    {
     "name": "stdout",
     "output_type": "stream",
     "text": [
      "(10, 20, 30, 40, 50, 60, 70, 80, 90)\n",
      "<class 'tuple'> \n",
      "\n",
      "[10, 20, 30, 40, 50, 60, 70, 80, 90]\n",
      "<class 'list'> \n",
      "\n",
      "[10, 20, 30, 40, 50, 60, 70, 80, 90]\n"
     ]
    }
   ],
   "source": [
    "# copy in tuple\n",
    "# it creates a copy of your elements\n",
    "a = (10,20,30,40,50,60,70,80,90)\n",
    "print(a)\n",
    "print(type(a),\"\\n\")\n",
    "\n",
    "b = list(a)\n",
    "print(b)\n",
    "print(type(b),\"\\n\")\n",
    "\n",
    "b.copy()\n",
    "print(b)"
   ]
  },
  {
   "cell_type": "code",
   "execution_count": 5,
   "id": "1ff98063",
   "metadata": {},
   "outputs": [
    {
     "name": "stdout",
     "output_type": "stream",
     "text": [
      "(10, 20, 30, 40, 50, 60, 70, 80, 80, 90, 80)\n",
      "<class 'tuple'> \n",
      "\n"
     ]
    },
    {
     "data": {
      "text/plain": [
       "3"
      ]
     },
     "execution_count": 5,
     "metadata": {},
     "output_type": "execute_result"
    }
   ],
   "source": [
    "# count in tuple\n",
    "# it counts the one or duplicate elements in your list\n",
    "a = (10,20,30,40,50,60,70,80,80,90,80)\n",
    "print(a)\n",
    "print(type(a),\"\\n\")\n",
    "\n",
    "a.count(80)\n"
   ]
  },
  {
   "cell_type": "code",
   "execution_count": 8,
   "id": "7ef2e81d",
   "metadata": {},
   "outputs": [
    {
     "name": "stdout",
     "output_type": "stream",
     "text": [
      "(10, 20, 30, 40, 50, 60, 70, 80, 90)\n",
      "<class 'tuple'> \n",
      "\n",
      "[10, 20, 30, 40, 50, 60, 70, 80, 90]\n",
      "<class 'list'> \n",
      "\n",
      "[10, 20, 30, 40, 50, 60, 70, 80, 90, 100, 110, 120, 130]\n"
     ]
    }
   ],
   "source": [
    "#extend in tuple \n",
    "#you can combine your two lists using extend\n",
    "a = (10,20,30,40,50,60,70,80,90)\n",
    "print(a)\n",
    "print(type(a),\"\\n\")\n",
    "\n",
    "c = [100,110,120,130]\n",
    "\n",
    "b = list(a)\n",
    "print(b)\n",
    "print(type(b),\"\\n\")\n",
    "\n",
    "b.extend(c)\n",
    "print(b)"
   ]
  },
  {
   "cell_type": "code",
   "execution_count": 9,
   "id": "19249455",
   "metadata": {},
   "outputs": [
    {
     "name": "stdout",
     "output_type": "stream",
     "text": [
      "(10, 20, 30, 40, 50, 60, 70, 80, 90)\n",
      "<class 'tuple'> \n",
      "\n"
     ]
    },
    {
     "data": {
      "text/plain": [
       "8"
      ]
     },
     "execution_count": 9,
     "metadata": {},
     "output_type": "execute_result"
    }
   ],
   "source": [
    "# index in tuple\n",
    "# it gives the index of given value\n",
    "\n",
    "a = (10,20,30,40,50,60,70,80,90)\n",
    "print(a)\n",
    "print(type(a),\"\\n\")\n",
    "\n",
    "\n",
    "a.index(90)"
   ]
  },
  {
   "cell_type": "code",
   "execution_count": 12,
   "id": "0ee7b5c4",
   "metadata": {},
   "outputs": [
    {
     "name": "stdout",
     "output_type": "stream",
     "text": [
      "(10, 20, 30, 40, 50, 60, 70, 80, 90)\n",
      "<class 'tuple'> \n",
      "\n",
      "[10, 20, 30, 40, 50, 60, 70, 80, 90]\n",
      "<class 'list'> \n",
      "\n",
      "[10, 20, 30, 40, 50, 60, 70, 80, 90, 100, 110]\n"
     ]
    }
   ],
   "source": [
    "#insert in tuple\n",
    "#with this you can insert any value or element at any specified location in list\n",
    "\n",
    "a = (10,20,30,40,50,60,70,80,90)\n",
    "print(a)\n",
    "print(type(a),\"\\n\")\n",
    "\n",
    "b = list(a)\n",
    "print(b)\n",
    "print(type(b),\"\\n\")\n",
    "\n",
    "b.insert(9,100)\n",
    "b.insert(10,110)\n",
    "print(b)\n",
    "\n"
   ]
  },
  {
   "cell_type": "code",
   "execution_count": 13,
   "id": "608e3584",
   "metadata": {},
   "outputs": [
    {
     "name": "stdout",
     "output_type": "stream",
     "text": [
      "(10, 20, 30, 40, 50, 60, 70, 80, 90)\n",
      "<class 'tuple'> \n",
      "\n",
      "[10, 20, 30, 40, 50, 60, 70, 80, 90]\n",
      "<class 'list'> \n",
      "\n",
      "[10, 20, 30, 40, 50, 60, 70, 80]\n"
     ]
    }
   ],
   "source": [
    "# .pop in tuple\n",
    "# it removes the given position element in your list & if not given it removes the last element\n",
    "a = (10,20,30,40,50,60,70,80,90)\n",
    "print(a)\n",
    "print(type(a),\"\\n\")\n",
    "\n",
    "b = list(a)\n",
    "print(b)\n",
    "print(type(b),\"\\n\")\n",
    "\n",
    "b.pop()\n",
    "print(b)"
   ]
  },
  {
   "cell_type": "code",
   "execution_count": 14,
   "id": "065c4554",
   "metadata": {},
   "outputs": [
    {
     "name": "stdout",
     "output_type": "stream",
     "text": [
      "(10, 20, 30, 40, 50, 60, 70, 80, 90)\n",
      "<class 'tuple'> \n",
      "\n",
      "[10, 20, 30, 40, 50, 60, 70, 80, 90]\n",
      "<class 'list'> \n",
      "\n",
      "[10, 20, 30, 40, 50, 60, 70, 90]\n"
     ]
    }
   ],
   "source": [
    "# .remove in tuple\n",
    "# with this you can remove any element in your list\n",
    "a = (10,20,30,40,50,60,70,80,90)\n",
    "print(a)\n",
    "print(type(a),\"\\n\")\n",
    "\n",
    "b = list(a)\n",
    "print(b)\n",
    "print(type(b),\"\\n\")\n",
    "\n",
    "b.remove(80)\n",
    "print(b)"
   ]
  },
  {
   "cell_type": "code",
   "execution_count": 15,
   "id": "367d06fe",
   "metadata": {},
   "outputs": [
    {
     "name": "stdout",
     "output_type": "stream",
     "text": [
      "(10, 20, 30, 40, 50, 60, 70, 80, 90)\n",
      "<class 'tuple'> \n",
      "\n",
      "[10, 20, 30, 40, 50, 60, 70, 80, 90]\n",
      "<class 'list'> \n",
      "\n",
      "[90, 80, 70, 60, 50, 40, 30, 20, 10]\n"
     ]
    }
   ],
   "source": [
    "# .reverse in tuple\n",
    "# it reverse your list\n",
    "a = (10,20,30,40,50,60,70,80,90)\n",
    "print(a)\n",
    "print(type(a),\"\\n\")\n",
    "\n",
    "b = list(a)\n",
    "print(b)\n",
    "print(type(b),\"\\n\")\n",
    "\n",
    "b.reverse()\n",
    "print(b)"
   ]
  },
  {
   "cell_type": "code",
   "execution_count": 16,
   "id": "5b05d21f",
   "metadata": {},
   "outputs": [
    {
     "name": "stdout",
     "output_type": "stream",
     "text": [
      "(20, 40, 60, 80, 10, 30, 50, 70, 90)\n",
      "<class 'tuple'> \n",
      "\n",
      "[20, 40, 60, 80, 10, 30, 50, 70, 90]\n",
      "<class 'list'> \n",
      "\n",
      "[10, 20, 30, 40, 50, 60, 70, 80, 90] \n",
      "\n"
     ]
    }
   ],
   "source": [
    "# .sort in tuple\n",
    "# it sorts your list in asscending order\n",
    "a = (20,40,60,80,10,30,50,70,90)\n",
    "print(a)\n",
    "print(type(a),\"\\n\")\n",
    "\n",
    "b = list(a)\n",
    "print(b)\n",
    "print(type(b),\"\\n\")\n",
    "\n",
    "b.sort()\n",
    "print(b,\"\\n\")\n"
   ]
  },
  {
   "cell_type": "code",
   "execution_count": 17,
   "id": "71b9e783",
   "metadata": {},
   "outputs": [
    {
     "name": "stdout",
     "output_type": "stream",
     "text": [
      "(20, 40, 60, 80, 10, 30, 50, 70, 90)\n",
      "<class 'tuple'> \n",
      "\n",
      "[20, 40, 60, 80, 10, 30, 50, 70, 90]\n",
      "<class 'list'> \n",
      "\n",
      "[90, 80, 70, 60, 50, 40, 30, 20, 10] \n",
      "\n",
      "[10, 20, 30, 40, 50, 60, 70, 80, 90] \n",
      "\n"
     ]
    }
   ],
   "source": [
    "# optional\n",
    "# .reverse=True will sort the list descending\n",
    "# .reverse=False will sort the list asscending\n",
    "a = (20,40,60,80,10,30,50,70,90)\n",
    "print(a)\n",
    "print(type(a),\"\\n\")\n",
    "\n",
    "b = list(a)\n",
    "print(b)\n",
    "print(type(b),\"\\n\")\n",
    "\n",
    "b.sort(reverse=True)\n",
    "print(b,\"\\n\")\n",
    "\n",
    "\n",
    "b.sort(reverse=False)\n",
    "print(b,\"\\n\")"
   ]
  },
  {
   "cell_type": "markdown",
   "id": "6efa378b",
   "metadata": {},
   "source": [
    "# Set"
   ]
  },
  {
   "cell_type": "markdown",
   "id": "1aab3be5",
   "metadata": {},
   "source": [
    "1. set is unorderd collection of elements\n",
    "2. It is mutable\n",
    "3. It is growable\n",
    "4. Set items are unchangable\n",
    "5. {} are used to represent set\n",
    "6. Index concept is not applicable\n",
    "7. duplicates are not allowed\n",
    "\n",
    "\n",
    "\n",
    "There are 18 methods in set function as follow:-\n",
    "\n",
    "1.add\n",
    "2.clear\n",
    "3.copy\n",
    "4.difference\n",
    "5.difference_update\n",
    "6.discard\n",
    "7.intersection\n",
    "8.intersection_update\n",
    "9.isdisjoint\n",
    "10.issubset\n",
    "11.issuperset\n",
    "12.mro\n",
    "13.pop\n",
    "14.remove\n",
    "15.symmetric_difference\n",
    "16.symmetric_difference_update\n",
    "17.union\n",
    "18.update"
   ]
  },
  {
   "cell_type": "code",
   "execution_count": 122,
   "id": "5be9b7d1",
   "metadata": {},
   "outputs": [
    {
     "name": "stdout",
     "output_type": "stream",
     "text": [
      "<class 'set'>\n",
      "{1, 2, 3, 4, 'pradip', 'akash', 'sagar'}\n"
     ]
    }
   ],
   "source": [
    "s = {1,2,3,4,'sagar','akash','pradip'}\n",
    "print(type(s))\n",
    "\n",
    "print(s)"
   ]
  },
  {
   "cell_type": "code",
   "execution_count": 123,
   "id": "007dade4",
   "metadata": {},
   "outputs": [
    {
     "name": "stdout",
     "output_type": "stream",
     "text": [
      "7\n"
     ]
    }
   ],
   "source": [
    "print(len(s))"
   ]
  },
  {
   "cell_type": "code",
   "execution_count": 124,
   "id": "ce15cd41",
   "metadata": {},
   "outputs": [
    {
     "name": "stdout",
     "output_type": "stream",
     "text": [
      "{1, 2, 3, 4}\n",
      "<class 'set'>\n",
      "{'banana', 'mango', 'cherry', 'apple'}\n"
     ]
    }
   ],
   "source": [
    "# set () constructer\n",
    "s1 = set([1,2,3,4])\n",
    "print(s1)\n",
    "\n",
    "set1 = set(['apple','mango','cherry','banana'])\n",
    "print(type(set1))\n",
    "print(set1)"
   ]
  },
  {
   "cell_type": "code",
   "execution_count": 126,
   "id": "89a015b5",
   "metadata": {},
   "outputs": [
    {
     "name": "stdout",
     "output_type": "stream",
     "text": [
      "{'banana', 'mango', 'cherry', 'apple'}\n",
      "{'banana', 'mango', 'papaya', 'apple', 'cherry'}\n"
     ]
    }
   ],
   "source": [
    "# Adding elements to the set\n",
    "# once set is created u can not change elements value,but you\n",
    "#can add values\n",
    "set1 = set(['apple','mango','cherry','banana'])\n",
    "print(set1)\n",
    "set1.add(\"papaya\")\n",
    "\n",
    "print(set1)"
   ]
  },
  {
   "cell_type": "code",
   "execution_count": 127,
   "id": "f3656822",
   "metadata": {},
   "outputs": [
    {
     "name": "stdout",
     "output_type": "stream",
     "text": [
      "{200, 100, 300}\n",
      "\n",
      "\n",
      "(10, 20, 30)\n",
      "\n",
      "\n",
      "{'banana', 'mango', 'papaya', 'apple', 'cherry'}\n",
      "{200, 100, 300}\n",
      "\n",
      "\n",
      "\n",
      "\n",
      "{100, 'banana', 200, 'mango', 10, 'papaya', 300, 'apple', 20, 'cherry', 30}\n"
     ]
    }
   ],
   "source": [
    "# using update you can add any iterables items like \n",
    "# set, list,tuple,dict-keys\n",
    "\n",
    "set2 = {100,200,300}\n",
    "print(set2)\n",
    "print(\"\\n\")\n",
    "\n",
    "tup =(10,20,30)\n",
    "print(tup)\n",
    "print(\"\\n\")\n",
    "\n",
    "print(set1)\n",
    "print(set2)\n",
    "print(\"\\n\")\n",
    "\n",
    "set1.update(set2)\n",
    "set1.update(tup)\n",
    "\n",
    "print(\"\\n\")\n",
    "print(set1)"
   ]
  },
  {
   "cell_type": "code",
   "execution_count": 128,
   "id": "4d50982d",
   "metadata": {},
   "outputs": [
    {
     "name": "stdout",
     "output_type": "stream",
     "text": [
      "remove using remove():\n",
      " {100, 'banana', 200, 'mango', 10, 'papaya', 300, 'apple', 20, 'cherry', 30}\n",
      "{100, 'banana', 200, 'mango', 10, 'papaya', 300, 'apple', 20, 30}\n",
      "\n",
      "\n",
      "remove using discard():\n",
      " {100, 'banana', 200, 'mango', 10, 'papaya', 300, 'apple', 20, 30}\n",
      "{100, 'banana', 200, 'mango', 10, 300, 'apple', 20, 30}\n",
      "\n",
      "\n",
      "{100, 'banana', 200, 'mango', 10, 300, 'apple', 20, 30}\n",
      "poped element is: 100\n",
      "{'banana', 200, 'mango', 10, 300, 'apple', 20, 30}\n"
     ]
    }
   ],
   "source": [
    "#remove(), discard(),pop()\n",
    "print(\"remove using remove():\\n\",set1)\n",
    "\n",
    "#remove()methode raise an error if element not present\n",
    "set1.remove('cherry')\n",
    "print(set1)\n",
    "print(\"\\n\")\n",
    "\n",
    "print(\"remove using discard():\\n\",set1)\n",
    "#discard does not raise an error if element does not exist\n",
    "set1.discard(\"papaya\")\n",
    "print(set1)\n",
    "print(\"\\n\")\n",
    "\n",
    "#pop(): pop removes an arbitary element from set and returns it\n",
    "\n",
    "print(set1)\n",
    "ele = set1.pop()\n",
    "print(\"poped element is:\",ele)\n",
    "print(set1)"
   ]
  },
  {
   "cell_type": "code",
   "execution_count": 129,
   "id": "8f20baf9",
   "metadata": {},
   "outputs": [
    {
     "name": "stdout",
     "output_type": "stream",
     "text": [
      "{1, 2, 3, 4}\n",
      "{3, 4, 5, 6, 7}\n",
      "{1, 2, 3, 4, 5, 6, 7}\n"
     ]
    }
   ],
   "source": [
    "# Union\n",
    "# adds elemnts of two sets and create new set\n",
    "s1 = {1,2,3,4}\n",
    "s2 = {3,4,5,6,7}\n",
    "\n",
    "print(s1)\n",
    "print(s2)\n",
    "\n",
    "res = s1.union(s2)\n",
    "print(res)\n",
    "#update method work for union only but adds element to calling set"
   ]
  },
  {
   "cell_type": "code",
   "execution_count": 130,
   "id": "726c3e27",
   "metadata": {},
   "outputs": [
    {
     "name": "stdout",
     "output_type": "stream",
     "text": [
      "{1, 2, 3, 4}\n",
      "{3, 4, 5, 6, 7}\n",
      "{1, 2, 20, 10, 30}\n",
      "\n",
      "\n",
      "{3, 4}\n",
      "{1, 2}\n"
     ]
    }
   ],
   "source": [
    "#Intersection\n",
    "\n",
    "s3 = {1,2,10,20,30}\n",
    "print(s1)\n",
    "print(s2)\n",
    "print(s3)\n",
    "print(\"\\n\")\n",
    "\n",
    "res = s1.intersection(s2)\n",
    "print(res)\n",
    "\n",
    "#keeps duplicates in s1\n",
    "s1.intersection_update(s3)\n",
    "print(s1)"
   ]
  },
  {
   "cell_type": "code",
   "execution_count": 23,
   "id": "fa56898d",
   "metadata": {},
   "outputs": [
    {
     "name": "stdout",
     "output_type": "stream",
     "text": [
      "True\n",
      "False\n"
     ]
    }
   ],
   "source": [
    "#isdisjoint\n",
    "#it check if two sets have any elements in common\n",
    "set1 = {1,2,3}\n",
    "set2 = {4,5,6}\n",
    "set3 = {3,4,5}\n",
    "\n",
    "print(set1.isdisjoint(set2))\n",
    "print(set1.isdisjoint(set3))"
   ]
  },
  {
   "cell_type": "code",
   "execution_count": 25,
   "id": "7e862235",
   "metadata": {},
   "outputs": [
    {
     "name": "stdout",
     "output_type": "stream",
     "text": [
      "True\n",
      "False\n"
     ]
    }
   ],
   "source": [
    "#issubset\n",
    "# it checks if one set is a subset of another set\n",
    "set1 = {1,2,3}\n",
    "set2 = {1,2}\n",
    "set3 = {4,5}\n",
    "\n",
    "print(set2.issubset(set1))\n",
    "print(set3.issubset(set1))"
   ]
  },
  {
   "cell_type": "code",
   "execution_count": 26,
   "id": "b8f71521",
   "metadata": {},
   "outputs": [
    {
     "name": "stdout",
     "output_type": "stream",
     "text": [
      "True\n",
      "False\n"
     ]
    }
   ],
   "source": [
    "# .issuperset\n",
    "# it checks if one set is a superset of another set\n",
    "set1 = {1, 2, 3}\n",
    "set2 = {1, 2}\n",
    "set3 = {4, 5}\n",
    "\n",
    "print(set1.issuperset(set2))\n",
    "print(set1.issuperset(set3))"
   ]
  },
  {
   "cell_type": "code",
   "execution_count": 27,
   "id": "04393f67",
   "metadata": {},
   "outputs": [
    {
     "name": "stdout",
     "output_type": "stream",
     "text": [
      "{1, 2, 5, 6}\n"
     ]
    }
   ],
   "source": [
    "# .symmetric_difference\n",
    "# it checks if elements that are unique to each of two sets\n",
    "set1 = {1, 2, 3, 4}\n",
    "set2 = {3, 4, 5, 6}\n",
    "\n",
    "result_set = set1.symmetric_difference(set2)\n",
    "\n",
    "print(result_set)"
   ]
  },
  {
   "cell_type": "code",
   "execution_count": 28,
   "id": "b388ecb1",
   "metadata": {},
   "outputs": [
    {
     "name": "stdout",
     "output_type": "stream",
     "text": [
      "{1, 2, 5, 6}\n"
     ]
    }
   ],
   "source": [
    "# .symmetric_difference_update\n",
    "# this method is useful for updating a set with the elements that are unique to each of two sets\n",
    "set1 = {1, 2, 3, 4}\n",
    "set2 = {3, 4, 5, 6}\n",
    "\n",
    "set1.symmetric_difference_update(set2)\n",
    "\n",
    "print(set1)"
   ]
  },
  {
   "cell_type": "markdown",
   "id": "8a23dbd5",
   "metadata": {},
   "source": [
    "# Dictionary\n",
    "\n",
    "  1. stores data in key.value pair\n",
    "  2. It is orderd, changable and does not allow duplicate \n",
    "  3. {} are used to write dictionaries\n",
    "  4. Items are reffered by using key\n",
    "  5. From Python version 3.7 dictionaries are orderd.\n"
   ]
  },
  {
   "cell_type": "code",
   "execution_count": 131,
   "id": "483bc4eb",
   "metadata": {},
   "outputs": [
    {
     "name": "stdout",
     "output_type": "stream",
     "text": [
      "{1: 'Anjali', 2: 'Darshana', 3: 'Meghana'}\n"
     ]
    }
   ],
   "source": [
    "# Creation Dictionaries\n",
    "\n",
    "dict1 = {                             \n",
    "\n",
    "     1 : \"Anjali\",\n",
    "     2 : \"Darshana\",\n",
    "     3 : \"Meghana\"\n",
    "     \n",
    "\n",
    "}\n",
    "\n",
    "print(dict1)"
   ]
  },
  {
   "cell_type": "code",
   "execution_count": 132,
   "id": "c1e7bbaf",
   "metadata": {},
   "outputs": [
    {
     "name": "stdout",
     "output_type": "stream",
     "text": [
      "Anjali\n",
      "Darshana\n",
      "Meghana\n",
      "Acess dicts using get() method:\n",
      "Anjali\n"
     ]
    }
   ],
   "source": [
    "# Access\n",
    "\n",
    "# Directly access using key\n",
    "# using get method\n",
    "\n",
    "# using keys\n",
    "print(dict1[1])\n",
    "print(dict1[2])\n",
    "print(dict1[3])\n",
    "\n",
    "# using get method\n",
    "dict1.get(1)\n",
    "\n",
    "             #or\n",
    "    \n",
    "    \n",
    "print(\"Acess dicts using get() method:\")    \n",
    "val = dict1.get(1)\n",
    "print(val)"
   ]
  },
  {
   "cell_type": "code",
   "execution_count": 133,
   "id": "d65f617e",
   "metadata": {},
   "outputs": [
    {
     "name": "stdout",
     "output_type": "stream",
     "text": [
      "{'roll no': 10, 'name': ' Meghana', 'class': 'TE', 'marks': 89.9}\n",
      "{2, 4, 5, 25, 10}\n",
      " Meghana\n",
      "89.9\n"
     ]
    }
   ],
   "source": [
    "stud = {                              \n",
    "     \"roll no\" : 10,\n",
    "    \"name\" : \" Meghana\",\n",
    "    \"class\" :\"TE\",\n",
    "     \"marks\" : 89.90\n",
    "    \n",
    "} \n",
    "print(stud) # sets are unorderd\n",
    "\n",
    "l = {10,5,4,2,25}\n",
    "print(l)\n",
    "\n",
    "# access the elements\n",
    "\n",
    "val = stud['name']\n",
    "print(val)\n",
    "\n",
    "print(stud['marks'])"
   ]
  },
  {
   "cell_type": "code",
   "execution_count": 134,
   "id": "864ca5f9",
   "metadata": {},
   "outputs": [
    {
     "name": "stdout",
     "output_type": "stream",
     "text": [
      "{'roll no': 10, 'name': ' Meghana', 'class': 'TE', 'marks': 89.9}\n",
      "Keys:\n",
      "\n",
      "dict_keys(['roll no', 'name', 'class', 'marks'])\n",
      "values:\n",
      "\n",
      "dict_values([10, ' Meghana', 'TE', 89.9])\n"
     ]
    }
   ],
   "source": [
    "# access all keys\n",
    "\n",
    "print(stud)\n",
    "print(\"Keys:\\n\")\n",
    "k = stud.keys()\n",
    "print(k)\n",
    "\n",
    "print(\"values:\\n\")\n",
    "val = stud.values()\n",
    "print(val)"
   ]
  },
  {
   "cell_type": "code",
   "execution_count": 135,
   "id": "59a23882",
   "metadata": {},
   "outputs": [
    {
     "name": "stdout",
     "output_type": "stream",
     "text": [
      "{'roll no': 10, 'name': ' Meghana', 'class': 'TE', 'marks': 89.9}\n",
      "{'roll no': 10, 'name': ' Meghana', 'class': 'TE', 'marks': 89.9, 'lname': 'patil', 'city': 'pune', 'mobile': 1234567891}\n",
      "\n",
      "\n",
      "dict_keys(['roll no', 'name', 'class', 'marks', 'lname', 'city', 'mobile'])\n",
      "dict_values([10, ' Meghana', 'TE', 89.9, 'patil', 'pune', 1234567891])\n",
      "No. of keys: 7\n"
     ]
    }
   ],
   "source": [
    "# add new item\n",
    "stud = {                              \n",
    "     \"roll no\" : 10,\n",
    "    \"name\" : \" Meghana\",\n",
    "    \"class\" :\"TE\",\n",
    "     \"marks\" : 89.90\n",
    "    \n",
    "} \n",
    "\n",
    "\n",
    "print(stud)\n",
    "\n",
    "stud['lname'] = 'patil'\n",
    "\n",
    "stud['city'] = 'pune'\n",
    "\n",
    "stud['mobile'] = 1234567891\n",
    "print(stud)\n",
    "print(\"\\n\")\n",
    "print(stud.keys())\n",
    "length = len(stud.keys())\n",
    "print(stud.values())\n",
    "print(\"No. of keys:\",length)"
   ]
  },
  {
   "cell_type": "code",
   "execution_count": 136,
   "id": "d59fe4d8",
   "metadata": {},
   "outputs": [
    {
     "data": {
      "text/plain": [
       "dict_items([('roll no', 10), ('name', ' Meghana'), ('class', 'TE'), ('marks', 89.9), ('lname', 'patil'), ('city', 'pune'), ('mobile', 1234567891)])"
      ]
     },
     "execution_count": 136,
     "metadata": {},
     "output_type": "execute_result"
    }
   ],
   "source": [
    "## How to access key and values from dictionary\n",
    "\n",
    "stud.items()"
   ]
  },
  {
   "cell_type": "code",
   "execution_count": 137,
   "id": "cff47bf9",
   "metadata": {},
   "outputs": [
    {
     "name": "stdout",
     "output_type": "stream",
     "text": [
      "dict_items([('roll no', 10), ('name', ' Meghana'), ('class', 'TE'), ('marks', 89.9), ('lname', 'patil'), ('city', 'pune'), ('mobile', 1234567891)])\n",
      "\n",
      "\n",
      "\n",
      " dict_items([('roll no', 10), ('name', ' Meghana'), ('class', 'BE'), ('marks', 91.0), ('lname', 'patil'), ('city', 'pune'), ('mobile', 1234567891)])\n"
     ]
    }
   ],
   "source": [
    "# change value\n",
    "\n",
    "print(stud.items())\n",
    "print(\"\\n\")\n",
    "\n",
    "stud['class'] = 'BE'\n",
    "\n",
    "stud['marks'] = 91.0\n",
    "\n",
    "print('\\n',stud.items())"
   ]
  },
  {
   "cell_type": "code",
   "execution_count": 138,
   "id": "32262efa",
   "metadata": {},
   "outputs": [
    {
     "name": "stdout",
     "output_type": "stream",
     "text": [
      "dict_items([('roll no', 10), ('name', ' Meghana'), ('class', 'BE'), ('marks', 91.0), ('lname', 'patil'), ('city', 'pune'), ('mobile', 1234567891)])\n",
      "\n",
      " dict_items([('roll no', 10), ('name', ' Meghana'), ('class', 'BE'), ('marks', 91.0), ('lname', 'patil'), ('city', 'pune'), ('mobile', 1234567891), ('subject', 'maths'), ('email', 'abc@.com')])\n"
     ]
    }
   ],
   "source": [
    "# Update() : add one more key:value pair \n",
    "print(stud.items())\n",
    "stud.update({\n",
    "    \"subject\" : 'maths',\n",
    "    \"email\" : 'abc@.com'\n",
    "    \n",
    "})\n",
    "\n",
    "print(\"\\n\",stud.items())"
   ]
  },
  {
   "cell_type": "markdown",
   "id": "9b06ca14",
   "metadata": {},
   "source": [
    "# Frozenset"
   ]
  },
  {
   "cell_type": "code",
   "execution_count": 139,
   "id": "cab264e3",
   "metadata": {},
   "outputs": [
    {
     "name": "stdout",
     "output_type": "stream",
     "text": [
      "<class 'set'>\n",
      "{1, 2, 3, 4, 5, 6}\n",
      "frozenset({1, 2, 3, 4, 5, 6})\n",
      "<class 'frozenset'>\n",
      "frozenset({1, 2, 3, 4, 5, 6})\n",
      "<class 'frozenset'>\n"
     ]
    }
   ],
   "source": [
    "# frozen set is same as set but it is immutable\n",
    "\n",
    "set_1 = {1,2,3,4,5,6}\n",
    "\n",
    "print(type(set_1))\n",
    "print(set_1)\n",
    "\n",
    "s = frozenset(set_1)\n",
    "\n",
    "print(s)\n",
    "print(type(s))\n",
    "\n",
    "# supported methodes for frozen set\n",
    "\n",
    "s1 = s.copy()\n",
    "\n",
    "s.difference()\n",
    "s.intersection()\n",
    "s.isdisjoint\n",
    "s.issubset\n",
    "s.issuperset\n",
    "s.symmetric_difference\n",
    "s.union\n",
    "\n",
    "print(s1)\n",
    "print(type(s1))"
   ]
  },
  {
   "cell_type": "markdown",
   "id": "05de80b4",
   "metadata": {},
   "source": [
    "# Operators"
   ]
  },
  {
   "cell_type": "markdown",
   "id": "a10136ea",
   "metadata": {},
   "source": [
    "python operators:\n",
    "\n",
    "     1. Arithmetic operators\n",
    "     2. Assignment operators\n",
    "     3. Comparison operators\n",
    "     4. Logical operators\n",
    "     5. Identity operators\n",
    "     6. Membership operators\n",
    "     7. Bitwise operators"
   ]
  },
  {
   "cell_type": "markdown",
   "id": "83c98f51",
   "metadata": {},
   "source": [
    "# 1. Arithmatic operators"
   ]
  },
  {
   "cell_type": "markdown",
   "id": "09b875d0",
   "metadata": {},
   "source": [
    "1. + Addition x + y\n",
    "2. - Subtraction x - y\n",
    "3. * Multiplication x * y\n",
    "4. / Division x / y\n",
    "5. % Modulus x % y\n",
    "6. ** Exponentiation x ** y\n",
    "7. // Floor division x // y"
   ]
  },
  {
   "cell_type": "code",
   "execution_count": 140,
   "id": "868ec87e",
   "metadata": {},
   "outputs": [
    {
     "name": "stdout",
     "output_type": "stream",
     "text": [
      "val1=  10\n",
      "val2=  22\n",
      "\n",
      "\n",
      "Addition:\n",
      "Add:  32\n",
      "\n",
      "\n",
      "subtraction:\n",
      "sub:  12\n",
      "\n",
      "\n",
      "Multiplication:\n",
      "mul:  220\n",
      "\n",
      "\n",
      "Division:\n",
      "div:  0.45454545454545453\n",
      "\n",
      "\n",
      "Modulus:\n",
      "Mod:  2\n",
      "\n",
      "\n",
      "Exponent:\n",
      "Exp:  26559922791424\n",
      "\n",
      "\n",
      "Floor Division:\n",
      "Floor div:  2\n"
     ]
    }
   ],
   "source": [
    "val1 = 10\n",
    "val2 = 22\n",
    "\n",
    "print(\"val1= \",val1)\n",
    "print(\"val2= \",val2)\n",
    "print(\"\\n\")\n",
    "\n",
    "print(\"Addition:\")\n",
    "\n",
    "res = val1 + val2\n",
    "\n",
    "print(\"Add: \",res)\n",
    "\n",
    "print(\"\\n\")\n",
    "\n",
    "print(\"subtraction:\")\n",
    "\n",
    "res = val2 - val1\n",
    "\n",
    "print(\"sub: \",res)\n",
    "\n",
    "print(\"\\n\")\n",
    "\n",
    "print(\"Multiplication:\")\n",
    "\n",
    "res = val1 * val2\n",
    "\n",
    "print(\"mul: \",res)\n",
    "\n",
    "print(\"\\n\")\n",
    "\n",
    "print(\"Division:\")\n",
    "\n",
    "res = val1 / val2\n",
    "\n",
    "print(\"div: \",res)\n",
    "\n",
    "print(\"\\n\")\n",
    "\n",
    "print(\"Modulus:\")\n",
    "\n",
    "res = val2 % val1\n",
    "\n",
    "print(\"Mod: \",res)\n",
    "\n",
    "print(\"\\n\")\n",
    "\n",
    "print(\"Exponent:\")\n",
    "\n",
    "res = val2 ** val1\n",
    "\n",
    "print(\"Exp: \",res)\n",
    "\n",
    "print(\"\\n\")\n",
    "\n",
    "print(\"Floor Division:\")\n",
    "\n",
    "res = val2 // val1\n",
    "\n",
    "print(\"Floor div: \",res)"
   ]
  },
  {
   "cell_type": "markdown",
   "id": "b105fa21",
   "metadata": {},
   "source": [
    "# 2. Assignment Operators"
   ]
  },
  {
   "cell_type": "code",
   "execution_count": null,
   "id": "0a549722",
   "metadata": {},
   "outputs": [],
   "source": [
    "1. = x = 5 x = 5\n",
    "2. += x += 4 x = x + 4\n",
    "3. -= x -= 5 x = x - 5\n",
    "4. *= x *= 8 x = x * 8\n",
    "5. /= x /= 7 x = x / 7\n",
    "6. %= x %= 5 x = x % 5\n",
    "7. //= x //= 3 x = x // 3\n",
    "8. **= x **= 2 x = x ** 2\n",
    "9. &= x &= 2 x = x & 2\n",
    "10. |= x |= 2 x = x | 2\n",
    "11. ^= x ^= 4 x = x ^ 4\n",
    "12. >>= x >>= 4 x = x >> 4\n",
    "13. <<= x <<= 5 x = x << 5"
   ]
  },
  {
   "cell_type": "code",
   "execution_count": 5,
   "id": "7576e428",
   "metadata": {},
   "outputs": [
    {
     "data": {
      "text/plain": [
       "5"
      ]
     },
     "execution_count": 5,
     "metadata": {},
     "output_type": "execute_result"
    }
   ],
   "source": [
    "# simple assign\n",
    "x = 5\n",
    "x"
   ]
  },
  {
   "cell_type": "code",
   "execution_count": 6,
   "id": "3239fc9f",
   "metadata": {},
   "outputs": [
    {
     "data": {
      "text/plain": [
       "105"
      ]
     },
     "execution_count": 6,
     "metadata": {},
     "output_type": "execute_result"
    }
   ],
   "source": [
    "# add and assign\n",
    "x += 100\n",
    "x"
   ]
  },
  {
   "cell_type": "code",
   "execution_count": 7,
   "id": "f453c442",
   "metadata": {},
   "outputs": [
    {
     "data": {
      "text/plain": [
       "55"
      ]
     },
     "execution_count": 7,
     "metadata": {},
     "output_type": "execute_result"
    }
   ],
   "source": [
    "# subtract and assign\n",
    "x -= 50\n",
    "x"
   ]
  },
  {
   "cell_type": "code",
   "execution_count": 8,
   "id": "44fcbd71",
   "metadata": {},
   "outputs": [
    {
     "data": {
      "text/plain": [
       "110"
      ]
     },
     "execution_count": 8,
     "metadata": {},
     "output_type": "execute_result"
    }
   ],
   "source": [
    "# multiplication and assign\n",
    "x *= 2\n",
    "x"
   ]
  },
  {
   "cell_type": "code",
   "execution_count": 9,
   "id": "3370ef60",
   "metadata": {},
   "outputs": [
    {
     "data": {
      "text/plain": [
       "11.0"
      ]
     },
     "execution_count": 9,
     "metadata": {},
     "output_type": "execute_result"
    }
   ],
   "source": [
    "# div and assign\n",
    "x /= 10\n",
    "x"
   ]
  },
  {
   "cell_type": "code",
   "execution_count": 10,
   "id": "44e7eaeb",
   "metadata": {},
   "outputs": [
    {
     "data": {
      "text/plain": [
       "1.0"
      ]
     },
     "execution_count": 10,
     "metadata": {},
     "output_type": "execute_result"
    }
   ],
   "source": [
    "# Modulo and assign\n",
    "x %= 2\n",
    "x"
   ]
  },
  {
   "cell_type": "code",
   "execution_count": 11,
   "id": "a31e5cc8",
   "metadata": {},
   "outputs": [
    {
     "data": {
      "text/plain": [
       "11.0"
      ]
     },
     "execution_count": 11,
     "metadata": {},
     "output_type": "execute_result"
    }
   ],
   "source": [
    "res = 110 / 10\n",
    "res"
   ]
  },
  {
   "cell_type": "code",
   "execution_count": 17,
   "id": "6904f1e1",
   "metadata": {},
   "outputs": [
    {
     "data": {
      "text/plain": [
       "0.0"
      ]
     },
     "execution_count": 17,
     "metadata": {},
     "output_type": "execute_result"
    }
   ],
   "source": [
    "# floor div and assign\n",
    "x //= 2\n",
    "x"
   ]
  },
  {
   "cell_type": "code",
   "execution_count": 13,
   "id": "f4fcb023",
   "metadata": {},
   "outputs": [
    {
     "data": {
      "text/plain": [
       "2.75"
      ]
     },
     "execution_count": 13,
     "metadata": {},
     "output_type": "execute_result"
    }
   ],
   "source": [
    "res = 11 / 4\n",
    "res    "
   ]
  },
  {
   "cell_type": "code",
   "execution_count": 14,
   "id": "60d933be",
   "metadata": {},
   "outputs": [
    {
     "data": {
      "text/plain": [
       "2"
      ]
     },
     "execution_count": 14,
     "metadata": {},
     "output_type": "execute_result"
    }
   ],
   "source": [
    "# Floor division and assign\n",
    "res = 11 // 4\n",
    "res"
   ]
  },
  {
   "cell_type": "code",
   "execution_count": 15,
   "id": "ccdd8b84",
   "metadata": {},
   "outputs": [
    {
     "data": {
      "text/plain": [
       "0.0"
      ]
     },
     "execution_count": 15,
     "metadata": {},
     "output_type": "execute_result"
    }
   ],
   "source": [
    "# exponent and assign\n",
    "\n",
    "x **= 10\n",
    "x"
   ]
  },
  {
   "cell_type": "markdown",
   "id": "0ed117a4",
   "metadata": {},
   "source": [
    "# 3. Comparision operators"
   ]
  },
  {
   "cell_type": "raw",
   "id": "77597d3e",
   "metadata": {},
   "source": [
    "1. Equal to (==)\n",
    "2. Not equal to ( != )\n",
    "3. Greater than (>)\n",
    "4. Less than (<)\n",
    "5. Greater than or equal to (>=)\n",
    "6. Less than or equal to (<=)"
   ]
  },
  {
   "cell_type": "raw",
   "id": "0406197a",
   "metadata": {},
   "source": [
    "1. == Equal x == y => checks the equality of operands , returns the True\n",
    "\n",
    "Ex. 6 == 6  -> True\n",
    "6 == 7 -> False\n",
    "\n",
    "2. != Not equal x != y\n",
    "Ex. 5 != 5 -> False\n",
    "    5 != 6 -> True\n",
    "    \n",
    "3. > Greater than x > y\n",
    "Ex. 4 > 5  -> False\n",
    "    5 > 2  -> True\n",
    "    \n",
    "4. < Less than x < y\n",
    "Ex. 4 < 5  -> True\n",
    "    5 < 2  -> False\n",
    "    \n",
    "5. >= Greater than or equal to x >= y\n",
    "Ex. 5 >= 5  -> True\n",
    "    6 >= 5  -> True\n",
    "    4 >= 5  -> False\n",
    "    \n",
    "6. <= Less than or equal to x <= y\n",
    "Ex. 5 <= 5  -> True\n",
    "    6 <= 5  -> False\n",
    "    4 <= 5  -> True"
   ]
  },
  {
   "cell_type": "code",
   "execution_count": 152,
   "id": "516a24f3",
   "metadata": {},
   "outputs": [
    {
     "name": "stdout",
     "output_type": "stream",
     "text": [
      "Equality:\n",
      "False\n",
      "True\n",
      "\n",
      "\n",
      "Not Equal:\n",
      "True\n",
      "False\n",
      "\n",
      "\n",
      "Greater than:\n",
      "True\n",
      "False\n",
      "\n",
      "\n",
      "Less than:\n",
      "False\n",
      "False\n",
      "True\n",
      "\n",
      "\n",
      "Greater than or Equal to:\n",
      "True\n",
      "True\n",
      "\n",
      "\n",
      "Less than or Equal to:\n",
      "False\n",
      "True\n",
      "True\n"
     ]
    }
   ],
   "source": [
    "a = 20\n",
    "b = 10\n",
    "c = 10\n",
    "\n",
    "print(\"Equality:\")\n",
    "\n",
    "print(a == b)\n",
    "print(b == c)\n",
    "\n",
    "print(\"\\n\")\n",
    "\n",
    "print(\"Not Equal:\")\n",
    "print(a != b)\n",
    "print(b != c)\n",
    "\n",
    "print(\"\\n\")\n",
    "\n",
    "print(\"Greater than:\")\n",
    "print(a > b)\n",
    "print(b > c)\n",
    "\n",
    "print(\"\\n\")\n",
    "\n",
    "print(\"Less than:\")\n",
    "print(a < b)\n",
    "print(b < c)\n",
    "print(b < a)\n",
    "\n",
    "print(\"\\n\")\n",
    "\n",
    "print(\"Greater than or Equal to:\")\n",
    "print(a >= b)\n",
    "print(b >= c)\n",
    "\n",
    "print(\"\\n\")\n",
    "\n",
    "print(\"Less than or Equal to:\")\n",
    "print(a <= b)\n",
    "print(b <= c)\n",
    "print(b <= a)"
   ]
  },
  {
   "cell_type": "markdown",
   "id": "469fc96a",
   "metadata": {},
   "source": [
    "# 4. Logical Operators"
   ]
  },
  {
   "cell_type": "raw",
   "id": "7ee3a2f2",
   "metadata": {},
   "source": [
    "1. and (Returns True, if both conditions are true)\n",
    "2. or (Returns True, if one of the condition is True)\n",
    "3. not (Reverse the result,returns False if the result is true)"
   ]
  },
  {
   "cell_type": "code",
   "execution_count": 19,
   "id": "a7ebb99f",
   "metadata": {},
   "outputs": [
    {
     "name": "stdout",
     "output_type": "stream",
     "text": [
      "True\n",
      "False\n",
      "\n",
      "\n",
      "True\n",
      "True\n",
      "\n",
      "\n",
      "False\n"
     ]
    }
   ],
   "source": [
    "#1. and returns true if both conditions are true\n",
    "\n",
    "x = 3\n",
    "x < 5 \n",
    "\n",
    "x < 4\n",
    "\n",
    "print((x < 5) and (x < 4))\n",
    "    \n",
    "print((x < 5) and (x > 4))\n",
    "\n",
    "print(\"\\n\")\n",
    "    \n",
    "#2.or returns true if any one conditions is true\n",
    "\n",
    "x = 3\n",
    "x > 5 \n",
    "\n",
    "x < 4 \n",
    "\n",
    "print((x > 5) or (x < 4))\n",
    "    \n",
    "print((x < 5) or (x > 4))\n",
    "\n",
    "print(\"\\n\")\n",
    "    \n",
    "#3. not Reverse the result, returns False if the result is true\n",
    " \n",
    "print(not (x < 5))\n"
   ]
  },
  {
   "cell_type": "markdown",
   "id": "6f34fffd",
   "metadata": {},
   "source": [
    "# 5. Identity Operator"
   ]
  },
  {
   "cell_type": "markdown",
   "id": "29f49e99",
   "metadata": {},
   "source": [
    "1. is ( Returns True if both variables are the same object x is y)\n",
    "\n",
    "2. is not(Returns True if both variables are not the same object x is not y)"
   ]
  },
  {
   "cell_type": "code",
   "execution_count": 154,
   "id": "6c2279a4",
   "metadata": {},
   "outputs": [
    {
     "name": "stdout",
     "output_type": "stream",
     "text": [
      "Value of x:  10\n",
      "id of x:  140737172788296\n",
      "Value of y:  10\n",
      "id of y:  140737172788296\n",
      "True\n",
      "\n",
      "\n",
      "Value of x: 10.1\n",
      "x id is:  2010418692304\n",
      "Value of y:  10.1\n",
      "y id is:  2010421127888\n",
      "True\n"
     ]
    }
   ],
   "source": [
    "x = 10\n",
    "y = 10\n",
    "\n",
    "\n",
    "print(\"Value of x: \",x)\n",
    "print(\"id of x: \",id(x))\n",
    "print(\"Value of y: \",y)\n",
    "print(\"id of y: \",id(y))\n",
    "print(x is y)\n",
    "\n",
    "print(\"\\n\")\n",
    "\n",
    "x = 10.10\n",
    "y = 10.10\n",
    "\n",
    "print(\"Value of x:\",x)\n",
    "print(\"x id is: \",id(x))\n",
    "print(\"Value of y: \",y)\n",
    "print(\"y id is: \",id(y))\n",
    "print(x is not y)"
   ]
  },
  {
   "cell_type": "markdown",
   "id": "e6e1ad8b",
   "metadata": {},
   "source": [
    "# 6. Membership Operator"
   ]
  },
  {
   "cell_type": "markdown",
   "id": "482478f7",
   "metadata": {},
   "source": [
    "1. in (Returns True if a sequence with the specified value is present in the object)\n",
    "Ex. x in y\n",
    "\n",
    "2. not in (Returns True if a sequence with the specified value is not present in the object)\n",
    "Ex. x not in y"
   ]
  },
  {
   "cell_type": "code",
   "execution_count": 1,
   "id": "bbd836d8",
   "metadata": {},
   "outputs": [
    {
     "name": "stdout",
     "output_type": "stream",
     "text": [
      "[10, 20, 30, 40, 50]\n",
      "True\n",
      "False\n",
      "False\n",
      "True\n"
     ]
    }
   ],
   "source": [
    "list1 = [10,20,30,40,50]\n",
    "print(list1)\n",
    "\n",
    "print(10 in list1)\n",
    "\n",
    "print(15 in list1)\n",
    "\n",
    "print(30 not in list1)\n",
    "\n",
    "print(15 not in list1)"
   ]
  },
  {
   "cell_type": "markdown",
   "id": "98d17d68",
   "metadata": {},
   "source": [
    "# 7.Bitwise Operator"
   ]
  },
  {
   "cell_type": "raw",
   "id": "d3517e39",
   "metadata": {},
   "source": [
    "1. & AND Sets each bit to 1 if both bits are 1\n",
    "2. | OR Sets each bit to 1 if one of two bits is 1\n",
    "3. ^ XOR Sets each bit to 1 if only one of two bits is 1\n",
    "4. - NOT Inverts all the bits\n",
    "5. << Zero fill left shift shift left by pushing zeros in from the right and let the leftmost bits fall off\n",
    "6. >> Signed right shift shift right by pushing copies of the leftmost bit in from the left, and let the rightmost bits fall off"
   ]
  },
  {
   "cell_type": "raw",
   "id": "99d8b5cc",
   "metadata": {},
   "source": [
    "1. &:\n",
    "ex. 1 & 1 => 1\n",
    "    1 & 0 => 0\n",
    "    0 & 1 => 0\n",
    "    0 & 0 => 0\n",
    "    \n",
    "2. |:\n",
    "    1 | 1 => 1\n",
    "    1 | 0 => 1\n",
    "    0 | 1 => 1\n",
    "    0 | 0 => 0\n",
    "    \n",
    "3. ^:\n",
    "    1 & 1 => 0\n",
    "    1 & 0 => 1\n",
    "    0 & 1 => 1\n",
    "    0 & 0 => 0\n",
    "    \n",
    "4. -:\n",
    "     1 => 0\n",
    "     0 => 1\n",
    "     \n",
    "     \n",
    "     256  128  64  32  16  8  4  2  1\n",
    "                              0  0  0 = 0\n",
    "                              0  0  1 = 1\n",
    "                              0  1  0 = 2\n",
    "                              0  1  1 = 3\n",
    "                              1  0  0 = 4\n",
    "                              1  0  1 = 5\n",
    "                              1  1  0 = 6\n",
    "                              1  1  1 = 7\n",
    "                              \n",
    "                              Left Shift by 2 bits\n",
    "                              1 1 1 = 7\n",
    "                         1 1  1 0 0 = 28\n",
    "                              \n",
    "                              Right   shift by 2 bits\n",
    "                                1 1 1 = 7\n",
    "                                0 0 1 = 1\n",
    "                             \n",
    "      "
   ]
  },
  {
   "cell_type": "code",
   "execution_count": 39,
   "id": "91188dd5",
   "metadata": {},
   "outputs": [
    {
     "name": "stdout",
     "output_type": "stream",
     "text": [
      "Bitwise and \n",
      "4\n",
      "Bitwise or\n",
      "5\n",
      "Bitwise XOR\n",
      "1\n",
      "Bitwise Not\n",
      "-4\n",
      "Left Shift:\n",
      "\n",
      "28\n",
      "Right Shift:\n",
      "\n",
      "1\n",
      "\n",
      " 0o7\n",
      "\n",
      " 0x7\n"
     ]
    }
   ],
   "source": [
    "print(\"Bitwise and \")\n",
    "x = 4      # 1 0 0\n",
    "y = 5      # 1 0 1\n",
    "z = x & y  # 1 0 0 = 4\n",
    "print(z)\n",
    "\n",
    "print('Bitwise or')\n",
    "x = 4       # 1 0 0\n",
    "y = 5       # 1 0 1\n",
    "z = x | y   # 1 0 1 = 5\n",
    "print(z)\n",
    "\n",
    "print('Bitwise XOR')\n",
    "x = 4      # 1 0 0\n",
    "y = 5      # 1 0 1\n",
    "z = x ^ y  # 0 0 1 = 1\n",
    "print(z)\n",
    "\n",
    "print('Bitwise Not')\n",
    "x = 4      # 1 0 0\n",
    "z = -4     # 0 0 1\n",
    "print(z)\n",
    "\n",
    "\n",
    "x = 7\n",
    "z = x << 2\n",
    "print(\"Left Shift:\\n\")\n",
    "print(z)\n",
    "\n",
    "x = 7\n",
    "z = x >> 2\n",
    "print('Right Shift:\\n')\n",
    "print(z)\n",
    "\n",
    "print(\"\\n\",oct(x))\n",
    "print(\"\\n\",hex(x))"
   ]
  },
  {
   "cell_type": "markdown",
   "id": "6a8a7159",
   "metadata": {},
   "source": [
    "# Conditional Statements & Loops"
   ]
  },
  {
   "cell_type": "markdown",
   "id": "443d0c10",
   "metadata": {},
   "source": [
    "1. If ....Else\n",
    "2. If ..elif ...Else\n",
    "3. While Loops\n",
    "4. For Loops"
   ]
  },
  {
   "cell_type": "raw",
   "id": "fee3219e",
   "metadata": {},
   "source": [
    "#Syntax:\n",
    "    \n",
    "if <condition> :\n",
    "    print(\"When condition is true\")\n",
    "    statements - 1\n",
    "    statements - 1\n",
    "    statements - 1\n",
    "else:\n",
    "    print(\"When condition is false\")\n",
    "    statements - 1\n",
    "    statements - 1\n",
    "    statements - 1"
   ]
  },
  {
   "cell_type": "markdown",
   "id": "93ce6b8f",
   "metadata": {},
   "source": [
    "# If else condition"
   ]
  },
  {
   "cell_type": "code",
   "execution_count": 4,
   "id": "c3a6c042",
   "metadata": {},
   "outputs": [
    {
     "name": "stdout",
     "output_type": "stream",
     "text": [
      "x is greater than y\n"
     ]
    }
   ],
   "source": [
    "# a > b\n",
    "x = 100\n",
    "y = 20\n",
    "#find largest number\n",
    "\n",
    "if x < y:\n",
    "    print(\"x is less than y\")\n",
    "    \n",
    "else:\n",
    "    print(\"x is greater than y\")"
   ]
  },
  {
   "cell_type": "markdown",
   "id": "22c3c661",
   "metadata": {},
   "source": [
    "# If elif else condition"
   ]
  },
  {
   "cell_type": "code",
   "execution_count": 8,
   "id": "00ceceba",
   "metadata": {},
   "outputs": [
    {
     "name": "stdout",
     "output_type": "stream",
     "text": [
      "A and B are equal\n"
     ]
    }
   ],
   "source": [
    "a = 10\n",
    "b = 10\n",
    "\n",
    "if a > b:\n",
    "    print(\"A is greater than B\")\n",
    "elif a == b:\n",
    "    print(\"A and B are equal\")\n",
    "    \n",
    "else:\n",
    "    print(\"A is less than B\")"
   ]
  },
  {
   "cell_type": "code",
   "execution_count": 11,
   "id": "da95d5c9",
   "metadata": {},
   "outputs": [
    {
     "name": "stdout",
     "output_type": "stream",
     "text": [
      "x is greater than y\n"
     ]
    }
   ],
   "source": [
    "x = 100\n",
    "y = 50\n",
    "\n",
    "if x > y:\n",
    "    print(\"x is greater than y\")\n",
    "\n",
    "else: \n",
    "    print(\"x is less than y\")\n",
    "    "
   ]
  },
  {
   "cell_type": "code",
   "execution_count": 13,
   "id": "85a1d941",
   "metadata": {},
   "outputs": [
    {
     "name": "stdout",
     "output_type": "stream",
     "text": [
      "x and y is equal\n"
     ]
    }
   ],
   "source": [
    "x = 50\n",
    "y = 50\n",
    "\n",
    "if x > y:\n",
    "    print(\"x is greater than y\")\n",
    "    \n",
    "elif x == y:\n",
    "    print(\"x and y is equal\")\n",
    "    \n",
    "else:\n",
    "    print(\"x is less than y\")"
   ]
  },
  {
   "cell_type": "code",
   "execution_count": 159,
   "id": "5679330a",
   "metadata": {},
   "outputs": [
    {
     "name": "stdout",
     "output_type": "stream",
     "text": [
      "y is greater than x\n"
     ]
    }
   ],
   "source": [
    "# a > b, a == b, a < b\n",
    "x = 20\n",
    "y = 30\n",
    "\n",
    "if x > y:\n",
    "    print(\"x is larger\")\n",
    "elif x == y:\n",
    "    print(\"x and y are equal\")\n",
    "else:\n",
    "    print(\"y is greater than x\")"
   ]
  },
  {
   "cell_type": "code",
   "execution_count": 21,
   "id": "36dba2df",
   "metadata": {},
   "outputs": [
    {
     "name": "stdout",
     "output_type": "stream",
     "text": [
      "y is greater than x \n",
      "\n",
      "a is equal to b \n",
      "\n",
      "c is grater than d\n"
     ]
    }
   ],
   "source": [
    "# short hand if a > b: print('a is greater than b') \n",
    "# Short hand means write ans in single statement.\n",
    "#1)\n",
    "x = 10\n",
    "y = 20\n",
    "\n",
    "if y > x: print('y is greater than x','\\n')\n",
    "    \n",
    "#2)\n",
    "a = 23\n",
    "b = 23\n",
    "\n",
    "if a == b: print('a is equal to b','\\n')\n",
    "    \n",
    "#3)\n",
    "c = 76\n",
    "d = 34\n",
    "\n",
    "if c > d: print('c is grater than d')"
   ]
  },
  {
   "cell_type": "code",
   "execution_count": 22,
   "id": "e550a17d",
   "metadata": {},
   "outputs": [
    {
     "name": "stdout",
     "output_type": "stream",
     "text": [
      "x is less than y\n",
      "a is not equal to b\n",
      "c is equal to d \n",
      "\n"
     ]
    }
   ],
   "source": [
    "# short hand if else print(\"A\")if a > b else print('B')\n",
    "#1)\n",
    "X = 20\n",
    "Y = 10\n",
    "\n",
    "print('x is less than y') if x < y else print('x is greater than y','\\n')\n",
    "\n",
    "#2)\n",
    "a = 54\n",
    "b = 56\n",
    "\n",
    "print('a is not equal to b') if a != b else print('a is equal to b','\\n')\n",
    "\n",
    "#3)\n",
    "c = 78\n",
    "d = 78\n",
    "\n",
    "print('c is not equal to d')if c != d else print('c is equal to d','\\n')"
   ]
  },
  {
   "cell_type": "code",
   "execution_count": 1,
   "id": "7a4a8000",
   "metadata": {},
   "outputs": [],
   "source": [
    "# Pass statement\n",
    "\n",
    "x = 78\n",
    "y = 67\n",
    "\n",
    "if x < y:\n",
    "    print('x is greater than y')\n",
    "    pass"
   ]
  },
  {
   "cell_type": "raw",
   "id": "510df7ae",
   "metadata": {},
   "source": [
    "# you can add more conditions here in if else\n",
    "\n",
    "write a python  programme which will take percentage as input from user and returns its grade(dist, first class, 2nd class, pass class)"
   ]
  },
  {
   "cell_type": "code",
   "execution_count": 56,
   "id": "0b46fcad",
   "metadata": {},
   "outputs": [
    {
     "name": "stdout",
     "output_type": "stream",
     "text": [
      "Enter percentage:88\n",
      "distinction\n"
     ]
    }
   ],
   "source": [
    "x = int and float(input('Enter percentage:'))\n",
    "\n",
    "if x < 35:\n",
    "    print('fail')\n",
    "elif x <= 55:\n",
    "    print('2 nd class')\n",
    "elif x <= 75:\n",
    "    print('first class')\n",
    "    \n",
    "else:\n",
    "    print('distinction')"
   ]
  },
  {
   "cell_type": "code",
   "execution_count": 2,
   "id": "8e841d2d",
   "metadata": {},
   "outputs": [
    {
     "name": "stdout",
     "output_type": "stream",
     "text": [
      "Enter percentage88\n",
      "Enter percentage90\n",
      "x is pass\n"
     ]
    }
   ],
   "source": [
    "#Ex - 1\n",
    "x = (int and float(input('Enter percentage')))\n",
    "y = (int and float(input('Enter percentage')))\n",
    "\n",
    "if x > y:\n",
    "    print('x is greater than y')\n",
    "elif x < y:\n",
    "    print('x is pass')\n",
    "elif y <= x:\n",
    "    print('y is pass with dist')\n",
    "else:\n",
    "    print('pass')"
   ]
  },
  {
   "cell_type": "code",
   "execution_count": 52,
   "id": "8b2b5eff",
   "metadata": {},
   "outputs": [
    {
     "name": "stdout",
     "output_type": "stream",
     "text": [
      "Enter number:abc\n",
      "Enter number:abcd\n",
      "x is not equal to y\n"
     ]
    }
   ],
   "source": [
    "#Ex -2\n",
    "x = str(input('Enter number:'))\n",
    "y = str(input('Enter number:'))\n",
    "\n",
    "if x == y:\n",
    "    print('x is equal to y')\n",
    "elif x > y:\n",
    "    print('x is greater than y')\n",
    "elif y < x:\n",
    "    print('y is less than x')\n",
    "elif x != y:\n",
    "    print('x is not equal to y')\n",
    "else:\n",
    "    print('x is less than y')"
   ]
  },
  {
   "cell_type": "code",
   "execution_count": 49,
   "id": "6f6c66ec",
   "metadata": {},
   "outputs": [
    {
     "name": "stdout",
     "output_type": "stream",
     "text": [
      "x is not equal to y\n"
     ]
    }
   ],
   "source": [
    "#Ex -3\n",
    "x = 88\n",
    "y = 99\n",
    "\n",
    "if x == y:\n",
    "    print('x is equal to y')\n",
    "elif x > y:\n",
    "    print('x is greater than y')\n",
    "elif y < x:\n",
    "    print('y is less than x')\n",
    "elif x != y:\n",
    "    print('x is not equal to y')\n",
    "else:\n",
    "    print('x is less than y')"
   ]
  },
  {
   "cell_type": "code",
   "execution_count": 26,
   "id": "efdd608c",
   "metadata": {},
   "outputs": [
    {
     "name": "stdout",
     "output_type": "stream",
     "text": [
      "Number is equal to 200\n"
     ]
    }
   ],
   "source": [
    "# nested if... else\n",
    "\n",
    "x = 200\n",
    "if x > 190:\n",
    "    if x > 200:\n",
    "        print('Number is greater than 190 and 200')\n",
    "    elif x == 200:\n",
    "        print('Number is equal to 200')\n",
    "    else:\n",
    "        print('Number is greater than 190 and less than 200')\n",
    "elif x == 190:\n",
    "    print('Number is equal to 190')\n",
    "else:\n",
    "    print('Number is less than 190')"
   ]
  },
  {
   "cell_type": "code",
   "execution_count": 29,
   "id": "3293cc51",
   "metadata": {},
   "outputs": [],
   "source": [
    "# pass statement\n",
    "x = 10\n",
    "y = 20\n",
    "\n",
    "if y > x:\n",
    "    pass"
   ]
  },
  {
   "cell_type": "markdown",
   "id": "72188474",
   "metadata": {},
   "source": [
    "# While Loop"
   ]
  },
  {
   "cell_type": "raw",
   "id": "2b691822",
   "metadata": {},
   "source": [
    "1.The purpose of the while loop is to access the element of list and Tuple. \n",
    "\n",
    "2.It is used for only to list and tuple because\n",
    "they are ordered."
   ]
  },
  {
   "cell_type": "code",
   "execution_count": null,
   "id": "cb66ef59",
   "metadata": {},
   "outputs": [],
   "source": [
    "# there are two types of loops is there\n",
    "1. while loop \n",
    "2. for loop"
   ]
  },
  {
   "cell_type": "raw",
   "id": "2450a76b",
   "metadata": {},
   "source": [
    "while <condition> :\n",
    "    statement -1\n",
    "    statement -2"
   ]
  },
  {
   "cell_type": "code",
   "execution_count": 24,
   "id": "4bc3d688",
   "metadata": {},
   "outputs": [
    {
     "name": "stdout",
     "output_type": "stream",
     "text": [
      "1\n",
      "2\n",
      "3\n",
      "4\n",
      "5\n",
      "6\n",
      "7\n",
      "8\n",
      "9\n",
      "10\n"
     ]
    }
   ],
   "source": [
    "# print series of numbers\n",
    "x = 1\n",
    "\n",
    "while x <= 10:\n",
    "    print(x)\n",
    "    x = x + 1"
   ]
  },
  {
   "cell_type": "code",
   "execution_count": 25,
   "id": "e499d093",
   "metadata": {
    "scrolled": true
   },
   "outputs": [
    {
     "name": "stdout",
     "output_type": "stream",
     "text": [
      "1\n",
      "2\n",
      "3\n",
      "4\n",
      "5\n",
      "6\n",
      "7\n",
      "8\n",
      "9\n",
      "10\n",
      "11\n",
      "12\n",
      "13\n",
      "14\n",
      "15\n"
     ]
    }
   ],
   "source": [
    "# break statement\n",
    "\n",
    "x = 1\n",
    "while x <= 20:\n",
    "    print(x)\n",
    "    if x == 15:\n",
    "        break\n",
    "    x = x + 1   \n",
    "        "
   ]
  },
  {
   "cell_type": "code",
   "execution_count": 95,
   "id": "83856fa9",
   "metadata": {},
   "outputs": [
    {
     "name": "stdout",
     "output_type": "stream",
     "text": [
      "1\n",
      "2\n",
      "3\n",
      "4\n",
      "5\n",
      "6\n",
      "7\n",
      "8\n",
      "9\n",
      "11\n",
      "12\n",
      "13\n",
      "14\n",
      "15\n",
      "16\n",
      "17\n",
      "19\n",
      "20\n"
     ]
    }
   ],
   "source": [
    "# Continue statement\n",
    "# if u remove 2 numbers at a time then place (or) in those numbers\n",
    "\n",
    "x = 1\n",
    "\n",
    "while x <= 20:\n",
    "    \n",
    "    if x == 10 or x == 18: \n",
    "        x = x + 1\n",
    "        continue\n",
    "    print(x)\n",
    "    x = x + 1\n"
   ]
  },
  {
   "cell_type": "code",
   "execution_count": 88,
   "id": "08403b4b",
   "metadata": {},
   "outputs": [
    {
     "name": "stdout",
     "output_type": "stream",
     "text": [
      "0\n",
      "1\n",
      "2\n",
      "3\n",
      "4\n",
      "6\n",
      "7\n",
      "8\n",
      "9\n",
      "10\n",
      "its enought\n"
     ]
    }
   ],
   "source": [
    "#else below while\n",
    "x = 0    \n",
    "while x <= 10:\n",
    "    \n",
    "    if x == 5:\n",
    "        x += 1\n",
    "        continue\n",
    "    print(x)   \n",
    "    x += 1\n",
    "else:\n",
    "    print('its enought')"
   ]
  },
  {
   "cell_type": "code",
   "execution_count": 89,
   "id": "322e206b",
   "metadata": {},
   "outputs": [
    {
     "name": "stdout",
     "output_type": "stream",
     "text": [
      "['tulip', 'rose', 'sunflower', 'chafa', 'mogara']\n",
      "while on list:-\n",
      "tulip\n",
      "rose\n",
      "sunflower\n",
      "chafa\n",
      "mogara\n"
     ]
    }
   ],
   "source": [
    "# while on list and tuple\n",
    "list1 = ['tulip','rose','sunflower','chafa','mogara']\n",
    "\n",
    "print(list1)\n",
    "\n",
    "print('while on list:-')\n",
    "\n",
    "x = 0\n",
    "while x < len(list1):\n",
    "    print(list1[x])\n",
    "    x += 1"
   ]
  },
  {
   "cell_type": "code",
   "execution_count": 93,
   "id": "5eb1fe9d",
   "metadata": {},
   "outputs": [
    {
     "name": "stdout",
     "output_type": "stream",
     "text": [
      "['one', 'two', 'three', 'four', 'five', 'six', 'seven']\n",
      "while on list:\n",
      "one\n",
      "two\n",
      "three\n",
      "four\n",
      "five\n",
      "six\n",
      "seven\n"
     ]
    }
   ],
   "source": [
    "# for practice\n",
    "\n",
    "list1 = ['one','two','three','four','five','six','seven']\n",
    "print(list1)\n",
    "\n",
    "print('while on list:')\n",
    "\n",
    "x = 0\n",
    "while x < len(list1):\n",
    "    print(list1[x])\n",
    "    x += 1"
   ]
  },
  {
   "cell_type": "code",
   "execution_count": 94,
   "id": "7d34732b",
   "metadata": {
    "scrolled": true
   },
   "outputs": [
    {
     "name": "stdout",
     "output_type": "stream",
     "text": [
      "('mango', 'apple', 'banana', 'grapes', 'orange')\n",
      "while on tuple:\n",
      "mango\n",
      "apple\n",
      "banana\n",
      "grapes\n",
      "orange\n"
     ]
    }
   ],
   "source": [
    "# while on Tuple\n",
    "\n",
    "tup =('mango','apple','banana','grapes','orange')\n",
    "\n",
    "print(tup)\n",
    "\n",
    "print('while on tuple:')\n",
    "\n",
    "x = 0\n",
    "while x < len(tup):\n",
    "    print(tup[x])\n",
    "    x += 1"
   ]
  },
  {
   "cell_type": "markdown",
   "id": "95bd8a7c",
   "metadata": {},
   "source": [
    "# For Loop"
   ]
  },
  {
   "cell_type": "raw",
   "id": "3e379e1b",
   "metadata": {},
   "source": [
    "1. The purpose of the for loop is to used access the elements of only sets and dictionary and string because they are unorderd.\n",
    "\n",
    "2. we can use for while loop for list and tuple but for set and dict is used only for loop.\n",
    "\n",
    "3.For Loop:- list,tuple,set,dict,string\n",
    "\n",
    "4.It does not access the location or index, it directly collect the whole data.\n",
    "\n",
    "5.It iterates all values not single value,( in short it acess multiple values not single value)  "
   ]
  },
  {
   "cell_type": "markdown",
   "id": "d81aed96",
   "metadata": {},
   "source": [
    "# For loop for list"
   ]
  },
  {
   "cell_type": "code",
   "execution_count": 26,
   "id": "5ee8585f",
   "metadata": {},
   "outputs": [
    {
     "name": "stdout",
     "output_type": "stream",
     "text": [
      "['mango', 'cherry', 'papaya', 'blueberry', 'apple']\n",
      "Length:  5\n",
      "mango\n",
      "cherry\n",
      "papaya\n",
      "blueberry\n",
      "apple\n"
     ]
    }
   ],
   "source": [
    "#List\n",
    "\n",
    "list1 = ['mango','cherry','papaya','blueberry','apple']\n",
    "\n",
    "print(list1)\n",
    "print('Length: ',len(list1))\n",
    "\n",
    "for x in list1:\n",
    "    print(x)"
   ]
  },
  {
   "cell_type": "code",
   "execution_count": 20,
   "id": "becf896b",
   "metadata": {},
   "outputs": [
    {
     "name": "stdout",
     "output_type": "stream",
     "text": [
      "papaya\n"
     ]
    }
   ],
   "source": [
    "list1 = ['mango','cherry','papaya','blueberry','apple']\n",
    "\n",
    "for i in list1:\n",
    "    if i == 'papaya':\n",
    "        print(i)"
   ]
  },
  {
   "cell_type": "markdown",
   "id": "99f1092f",
   "metadata": {},
   "source": [
    "# For Loop for string"
   ]
  },
  {
   "cell_type": "code",
   "execution_count": 28,
   "id": "7e6ef4e3",
   "metadata": {},
   "outputs": [
    {
     "name": "stdout",
     "output_type": "stream",
     "text": [
      "This is a python string\n",
      "T\n",
      "h\n",
      "i\n",
      "s\n",
      " \n",
      "i\n",
      "s\n",
      " \n",
      "a\n",
      " \n",
      "p\n",
      "y\n",
      "t\n",
      "h\n",
      "o\n",
      "n\n",
      " \n",
      "s\n",
      "t\n",
      "r\n",
      "i\n",
      "n\n",
      "g\n"
     ]
    }
   ],
   "source": [
    "#String\n",
    "\n",
    "str1 = 'This is a python string'\n",
    "\n",
    "print(str1)\n",
    "\n",
    "for ch in str1:\n",
    "    print(ch)"
   ]
  },
  {
   "cell_type": "markdown",
   "id": "addff083",
   "metadata": {},
   "source": [
    "# for loop for Tuple"
   ]
  },
  {
   "cell_type": "code",
   "execution_count": 29,
   "id": "ccc56c5d",
   "metadata": {},
   "outputs": [
    {
     "name": "stdout",
     "output_type": "stream",
     "text": [
      "(100, 200, 300, 10, 20, 30)\n",
      "100\n",
      "200\n",
      "300\n",
      "10\n",
      "20\n",
      "30\n"
     ]
    }
   ],
   "source": [
    "#Tuple\n",
    "\n",
    "tup = (100,200,300,10,20,30)\n",
    "\n",
    "print(tup)\n",
    "\n",
    "for val in tup:\n",
    "    print(val)"
   ]
  },
  {
   "cell_type": "markdown",
   "id": "5dbb6190",
   "metadata": {},
   "source": [
    "# continue and break function in tuple"
   ]
  },
  {
   "cell_type": "code",
   "execution_count": 34,
   "id": "51dca30d",
   "metadata": {},
   "outputs": [
    {
     "name": "stdout",
     "output_type": "stream",
     "text": [
      "(100, 200, 300, 10, 20, 30)\n",
      "100\n",
      "200\n",
      "300\n",
      "20\n",
      "30\n"
     ]
    }
   ],
   "source": [
    "#continue function in Tuple\n",
    "\n",
    "tup = (100,200,300,10,20,30)\n",
    "\n",
    "print(tup)\n",
    "\n",
    "for val in tup:\n",
    "    if val == 10:\n",
    "        continue\n",
    "        \n",
    "    print(val)\n",
    "        "
   ]
  },
  {
   "cell_type": "code",
   "execution_count": 39,
   "id": "87be381a",
   "metadata": {},
   "outputs": [
    {
     "name": "stdout",
     "output_type": "stream",
     "text": [
      "(100, 200, 300, 10, 20, 30)\n",
      "100\n",
      "200\n",
      "300\n"
     ]
    }
   ],
   "source": [
    "#Break function in tuple\n",
    "\n",
    "tup = (100,200,300,10,20,30)\n",
    "\n",
    "print(tup)\n",
    "\n",
    "for val in tup:\n",
    "    if val==10:\n",
    "        break\n",
    "        \n",
    "    print(val)\n",
    "        \n",
    "        "
   ]
  },
  {
   "cell_type": "markdown",
   "id": "4fd5d48d",
   "metadata": {},
   "source": [
    "# For Loop for Dictionary"
   ]
  },
  {
   "cell_type": "code",
   "execution_count": 42,
   "id": "094b7fea",
   "metadata": {},
   "outputs": [
    {
     "name": "stdout",
     "output_type": "stream",
     "text": [
      "{'fname': 'Akshay', 'lname': 'kale', 'mobile': 12345, 'email': 'abcd@.com'}\n",
      "keys:\n",
      "fname\n",
      "lname\n",
      "mobile\n",
      "email\n",
      "\n",
      "\n",
      "values:\n",
      "Akshay\n",
      "kale\n",
      "12345\n",
      "abcd@.com\n",
      "\n",
      "\n",
      "Another methode to print keys and values\n",
      "fname\n",
      "lname\n",
      "mobile\n",
      "email\n",
      "\n",
      "\n",
      "keys and values pairs: \n",
      "fname : Akshay\n",
      "lname : kale\n",
      "mobile : 12345\n",
      "email : abcd@.com\n"
     ]
    }
   ],
   "source": [
    "dict1 = {\n",
    "    'fname': 'Akshay',\n",
    "    'lname': 'kale',\n",
    "   'mobile': 12345,\n",
    "    'email': 'abcd@.com'\n",
    "    \n",
    "}\n",
    "\n",
    "print(dict1)\n",
    "\n",
    "print('keys:')\n",
    "for i in dict1: # it will print keys by default\n",
    "    print(i)\n",
    "print('\\n')\n",
    "\n",
    "print('values:') # it will print values\n",
    "for i in dict1:\n",
    "    print(dict1[i])\n",
    "print('\\n')\n",
    "\n",
    "print('Another methode to print keys and values')    \n",
    "for keys in dict1.keys(): # another methode to print keys and values\n",
    "        print(keys)\n",
    "print('\\n')\n",
    "        \n",
    "print('keys and values pairs: ')        \n",
    "for keys, values in dict1.items():\n",
    "    print(keys,':', values)\n",
    "    \n",
    " #(rohit ne kelela)   "
   ]
  },
  {
   "cell_type": "code",
   "execution_count": 43,
   "id": "7de47e0f",
   "metadata": {
    "scrolled": true
   },
   "outputs": [
    {
     "name": "stdout",
     "output_type": "stream",
     "text": [
      "Default it will print keys: \n",
      "Name\n",
      "Roll no\n",
      "class\n",
      "percentage\n",
      "\n",
      "\n",
      "values: \n",
      "Monali\n",
      "45\n",
      "TY.BBA IB\n",
      "80.5\n",
      "\n",
      "\n",
      "Acess keys of dict1: \n",
      "Name\n",
      "Roll no\n",
      "class\n",
      "percentage\n",
      "\n",
      "\n",
      "Acess the value: \n",
      "Monali\n",
      "45\n",
      "TY.BBA IB\n",
      "80.5\n",
      "\n",
      "\n",
      "keys value from dict1:\n",
      "Name : Monali\n",
      "Roll no : 45\n",
      "class : TY.BBA IB\n",
      "percentage : 80.5\n"
     ]
    }
   ],
   "source": [
    "#Ex for practice (sirani kelela)\n",
    "\n",
    "dict1 = {\n",
    "    'Name' : 'Monali',\n",
    "  'Roll no': 45,\n",
    "    'class': 'TY.BBA IB',\n",
    "'percentage': 80.50\n",
    "       \n",
    "}\n",
    "\n",
    "print('Default it will print keys: ')\n",
    "for i in dict1:\n",
    "    print(i)\n",
    "print('\\n')    \n",
    "\n",
    "print('values: ')\n",
    "for x in dict1:\n",
    "    print(dict1[x])\n",
    "print('\\n')    \n",
    "\n",
    "print('Acess keys of dict1: ')\n",
    "for key in dict1.keys():\n",
    "    print(key)\n",
    "print('\\n')\n",
    "\n",
    "\n",
    "print('Acess the value: ')\n",
    "for val in dict1.values():\n",
    "    print(val)\n",
    "print('\\n')    \n",
    "\n",
    "\n",
    "print('keys value from dict1:')\n",
    "for key, val in dict1.items():\n",
    "    print(key,':', val)"
   ]
  },
  {
   "cell_type": "markdown",
   "id": "ac43ccf3",
   "metadata": {},
   "source": [
    "# For Loop for set"
   ]
  },
  {
   "cell_type": "code",
   "execution_count": 46,
   "id": "d79b67b6",
   "metadata": {},
   "outputs": [
    {
     "name": "stdout",
     "output_type": "stream",
     "text": [
      "{'chiku', 'mango', 'apple', 'banana', 'cherry'}\n",
      "length: 5\n",
      "chiku\n",
      "mango\n",
      "apple\n",
      "banana\n",
      "cherry\n"
     ]
    }
   ],
   "source": [
    "# Set \n",
    "\n",
    "set1 = {'mango','banana','cherry','apple','chiku'}\n",
    "\n",
    "print(set1)\n",
    "print('length:',len(set1))\n",
    "\n",
    "for i in set1:\n",
    "    print(i)"
   ]
  },
  {
   "cell_type": "markdown",
   "id": "de3ca262",
   "metadata": {},
   "source": [
    "# Range"
   ]
  },
  {
   "cell_type": "raw",
   "id": "2921a1e3",
   "metadata": {},
   "source": [
    "1. The purpose of the range is(to return a sequence of numbers, starting from 0 by default, and incriments by 1 (by default), and ends at a specified number."
   ]
  },
  {
   "cell_type": "code",
   "execution_count": 1,
   "id": "9c80a30a",
   "metadata": {},
   "outputs": [
    {
     "name": "stdout",
     "output_type": "stream",
     "text": [
      "0\n",
      "1\n",
      "2\n",
      "3\n",
      "4\n",
      "5\n",
      "6\n",
      "7\n",
      "8\n",
      "9\n"
     ]
    }
   ],
   "source": [
    "# For i in range (10):\n",
    "\n",
    "for no in range(10):\n",
    "    print(no)"
   ]
  },
  {
   "cell_type": "code",
   "execution_count": 48,
   "id": "bbd5694e",
   "metadata": {},
   "outputs": [
    {
     "name": "stdout",
     "output_type": "stream",
     "text": [
      "10\n",
      "11\n",
      "12\n",
      "13\n",
      "14\n",
      "15\n",
      "16\n",
      "17\n",
      "18\n",
      "19\n"
     ]
    }
   ],
   "source": [
    "# Range(1,10)- starting from 1, to 9, exclude 10\n",
    "\n",
    "for val in range(10,20):\n",
    "    print(val)"
   ]
  },
  {
   "cell_type": "code",
   "execution_count": 50,
   "id": "3baa6d36",
   "metadata": {},
   "outputs": [
    {
     "name": "stdout",
     "output_type": "stream",
     "text": [
      "2\n",
      "4\n",
      "6\n",
      "8\n",
      "10\n",
      "12\n",
      "14\n",
      "16\n",
      "18\n",
      "20\n"
     ]
    }
   ],
   "source": [
    "# range (10,100,2)\n",
    "\n",
    "for i in range(2,21,2):\n",
    "    print(i)"
   ]
  },
  {
   "cell_type": "code",
   "execution_count": 2,
   "id": "5b645caf",
   "metadata": {},
   "outputs": [
    {
     "name": "stdout",
     "output_type": "stream",
     "text": [
      "1\n",
      "3\n",
      "5\n",
      "7\n",
      "9\n",
      "11\n",
      "13\n",
      "15\n",
      "17\n",
      "19\n",
      "21\n",
      "23\n",
      "25\n",
      "27\n",
      "29\n",
      "31\n",
      "33\n",
      "35\n",
      "37\n",
      "39\n",
      "41\n",
      "43\n",
      "45\n",
      "47\n",
      "49\n"
     ]
    }
   ],
   "source": [
    "# Print odd no. from 1 to 50\n",
    "\n",
    "for i in range(1,50,2):\n",
    "    print(i)"
   ]
  },
  {
   "cell_type": "code",
   "execution_count": 56,
   "id": "338c164f",
   "metadata": {},
   "outputs": [
    {
     "name": "stdout",
     "output_type": "stream",
     "text": [
      "100\n",
      "110\n",
      "120\n",
      "130\n",
      "140\n",
      "150\n",
      "160\n",
      "170\n",
      "180\n",
      "190\n",
      "200\n",
      "its enought\n"
     ]
    }
   ],
   "source": [
    "# else in for\n",
    "for i in range (100,201,10):\n",
    "    print(i)\n",
    "else: \n",
    "    print('its enought')"
   ]
  },
  {
   "cell_type": "markdown",
   "id": "9757110e",
   "metadata": {},
   "source": [
    "# Assignment - 1"
   ]
  },
  {
   "cell_type": "code",
   "execution_count": 65,
   "id": "28d7297e",
   "metadata": {},
   "outputs": [
    {
     "name": "stdout",
     "output_type": "stream",
     "text": [
      "Enter the number100\n",
      "Enter another no.200\n",
      "sum:  300\n"
     ]
    }
   ],
   "source": [
    "# How to take input from user\n",
    "\n",
    "a = int(input('Enter the number'))\n",
    "b = int (input('Enter another no.'))\n",
    "\n",
    "s = a + b\n",
    "\n",
    "print('sum: ',s)"
   ]
  },
  {
   "cell_type": "code",
   "execution_count": 82,
   "id": "8270714c",
   "metadata": {},
   "outputs": [
    {
     "name": "stdout",
     "output_type": "stream",
     "text": [
      "Enter the size of list:4\n",
      "Enter the value:1\n",
      "Enter the value:2\n",
      "Enter the value:3\n",
      "Enter the value:4\n",
      "The created list is:  [1, 2, 3, 4]\n"
     ]
    }
   ],
   "source": [
    "#Create a integer list,tuple,set by taking input from user\n",
    "\n",
    "list1 = []\n",
    "\n",
    "list_size = input('Enter the size of list:')\n",
    "lsize = int(list_size)\n",
    "\n",
    "while lsize > 0:\n",
    "    val = input('Enter the value:')\n",
    "    val1 = int(val)\n",
    "    list1.append(val1)\n",
    "    lsize -= 1\n",
    "    \n",
    "print('The created list is: ',list1)    "
   ]
  },
  {
   "cell_type": "code",
   "execution_count": 85,
   "id": "5ad46659",
   "metadata": {},
   "outputs": [
    {
     "name": "stdout",
     "output_type": "stream",
     "text": [
      "[0, 3, 6, 9, 12, 15, 18, 21, 24, 27, 30, 33, 36, 39, 42, 45, 48, 51, 54, 57, 60, 63, 66, 69, 72, 75, 78, 81, 84, 87, 90, 93, 96, 99]\n"
     ]
    }
   ],
   "source": [
    "# for practice (create a list)\n",
    "list2 = []\n",
    "\n",
    "for i in range(0,101,3):\n",
    "    list2.append(i)\n",
    "    \n",
    "\n",
    "print(list2)"
   ]
  },
  {
   "cell_type": "code",
   "execution_count": 4,
   "id": "b166eb07",
   "metadata": {},
   "outputs": [
    {
     "name": "stdout",
     "output_type": "stream",
     "text": [
      "Enter the size of tuple: 5\n",
      "Enter the val:10\n",
      "Enter the val:20\n",
      "Enter the val:30\n",
      "Enter the val:40\n",
      "Enter the val:50\n",
      "(10, 20, 30, 40, 50)\n"
     ]
    }
   ],
   "source": [
    "# Create integer tuple by taking input from user\n",
    "\n",
    "tup =()\n",
    "\n",
    "tup_size = int(input('Enter the size of tuple: '))\n",
    "\n",
    "while tup_size > 0:\n",
    "    val = int(input('Enter the val:'))\n",
    "    tup += (val,)\n",
    "    tup_size = tup_size -1\n",
    "        \n",
    "\n",
    "print(tup)"
   ]
  },
  {
   "cell_type": "code",
   "execution_count": 93,
   "id": "7bbe6413",
   "metadata": {},
   "outputs": [
    {
     "name": "stdout",
     "output_type": "stream",
     "text": [
      "Enter the size of set: 6\n",
      "Enter the value: 1\n",
      "Enter the value: 2\n",
      "Enter the value: 3\n",
      "Enter the value: 4\n",
      "Enter the value: 5\n",
      "Enter the value: 6\n",
      "Created set is: {'1', '3', '4', '6', '5', '2'}\n"
     ]
    }
   ],
   "source": [
    "# For set\n",
    "\n",
    "s = set({})\n",
    "\n",
    "set_size = int(input('Enter the size of set: '))\n",
    "\n",
    "while set_size > 0:\n",
    "    val = input('Enter the value: ')\n",
    "    s.add(val)\n",
    "    set_size -= 1\n",
    "print('Created set is:',s)    "
   ]
  },
  {
   "cell_type": "markdown",
   "id": "ec3106f4",
   "metadata": {},
   "source": [
    "# Function"
   ]
  },
  {
   "cell_type": "raw",
   "id": "b9808a1d",
   "metadata": {},
   "source": [
    "1. Function is a block of statement which will get executed when we call that function.\n",
    "\n",
    "2.function is a thing to complete a particular task."
   ]
  },
  {
   "cell_type": "code",
   "execution_count": 1,
   "id": "bd94b3b1",
   "metadata": {},
   "outputs": [
    {
     "name": "stdout",
     "output_type": "stream",
     "text": [
      "This is inside my function\n"
     ]
    }
   ],
   "source": [
    "def display():\n",
    "    print('This is inside my function')\n",
    "    \n",
    "display()    "
   ]
  },
  {
   "cell_type": "code",
   "execution_count": 3,
   "id": "7a11be61",
   "metadata": {},
   "outputs": [
    {
     "name": "stdout",
     "output_type": "stream",
     "text": [
      "statment above function\n",
      "This is inside my function\n"
     ]
    }
   ],
   "source": [
    "print('statment above function')\n",
    "\n",
    "def display():\n",
    "    print('This is inside my function')\n",
    "    \n",
    "display()    "
   ]
  },
  {
   "cell_type": "code",
   "execution_count": 4,
   "id": "974b1b30",
   "metadata": {},
   "outputs": [
    {
     "name": "stdout",
     "output_type": "stream",
     "text": [
      "statment above function\n",
      "This is a prior statement\n",
      "This is inside my function\n",
      "this is another statement\n",
      "this is sample statement\n"
     ]
    }
   ],
   "source": [
    "print('statment above function')\n",
    "\n",
    "def display():\n",
    "    print('This is inside my function')\n",
    "    print('this is another statement')\n",
    "    \n",
    "print('This is a prior statement')    \n",
    "display()\n",
    "print('this is sample statement')"
   ]
  },
  {
   "cell_type": "code",
   "execution_count": 5,
   "id": "9be3f7f0",
   "metadata": {},
   "outputs": [
    {
     "name": "stdout",
     "output_type": "stream",
     "text": [
      "The value is:  100\n"
     ]
    }
   ],
   "source": [
    "# Argument\n",
    "\n",
    "def display(val):\n",
    "    print('The value is: ', val)\n",
    "    \n",
    "value =100\n",
    "\n",
    "display(value)"
   ]
  },
  {
   "cell_type": "code",
   "execution_count": 16,
   "id": "43f378e6",
   "metadata": {},
   "outputs": [
    {
     "name": "stdout",
     "output_type": "stream",
     "text": [
      "Enter first number100\n",
      "Enter second number200\n",
      "The sum is:  300\n"
     ]
    }
   ],
   "source": [
    "# passing two arguments to function\n",
    "\n",
    "def add(a,b):\n",
    "    addition = a + b\n",
    "    print(\"The sum is: \", addition)\n",
    "    \n",
    "x = int(input('Enter first number'))    \n",
    "y = int(input('Enter second number'))\n",
    "\n",
    "add(x,y)"
   ]
  },
  {
   "cell_type": "code",
   "execution_count": 17,
   "id": "34b5f465",
   "metadata": {},
   "outputs": [
    {
     "name": "stdout",
     "output_type": "stream",
     "text": [
      "Final multiplication:  800\n"
     ]
    }
   ],
   "source": [
    "# return value\n",
    "\n",
    "def mul(a,b):\n",
    "    res = a * b\n",
    "    return res\n",
    "\n",
    "x = 20\n",
    "y = 40\n",
    "\n",
    "result = mul(x,y)\n",
    "print('Final multiplication: ',result)\n"
   ]
  },
  {
   "cell_type": "code",
   "execution_count": 3,
   "id": "78c0ad06",
   "metadata": {},
   "outputs": [
    {
     "name": "stdout",
     "output_type": "stream",
     "text": [
      "Making a call to function:  \n",
      "\n",
      "\n",
      "\n",
      "Enter the first name: meghana\n",
      "Enter the last name: raut\n",
      "name of student is :  meghana   raut\n",
      "Enter the first name: mohit \n",
      "Enter the last name: raut\n",
      "name of student is :  mohit    raut\n",
      "Enter the first name: soham\n",
      "Enter the last name: rj\n",
      "name of student is :  soham   rj\n",
      "\n",
      "\n",
      "List of the students:  ['meghanaraut', 'mohit raut', 'sohamrj']\n",
      "\n",
      "\n"
     ]
    }
   ],
   "source": [
    "#Assignment\n",
    "\n",
    "list1 = []\n",
    "\n",
    "def studdetails():\n",
    "    for i in range(0,3):\n",
    "        fname = input('Enter the first name: ')\n",
    "        lname = input('Enter the last name: ')\n",
    "        print('name of student is : ', fname,\" \", lname )\n",
    "        name = fname + lname\n",
    "        list1.append(name)\n",
    "        \n",
    "print(\"Making a call to function: \",\"\\n\")        \n",
    "print(\"\\n\")\n",
    "\n",
    "studdetails()\n",
    "print(\"\\n\")\n",
    "\n",
    "print(\"List of the students: \", list1)\n",
    "print(\"\\n\")"
   ]
  },
  {
   "cell_type": "code",
   "execution_count": 7,
   "id": "514dd9b9",
   "metadata": {},
   "outputs": [
    {
     "name": "stdout",
     "output_type": "stream",
     "text": [
      "Enter the number:4\n",
      "Enter item1: 10\n",
      "Enter item2: 20\n",
      "Enter item3: 30\n",
      "Enter item4: 40\n",
      "Your list:  ['10', '20', '30', '40']\n"
     ]
    }
   ],
   "source": [
    "#Create a list\n",
    "def create_list():\n",
    "    num_items = int(input(\"Enter the number:\"))\n",
    "    my_list = []\n",
    "    \n",
    "    for i in range(num_items):\n",
    "        item = input(\"Enter item{}: \".format(i+1))\n",
    "        my_list.append(item)\n",
    "        \n",
    "    return my_list    \n",
    "\n",
    "my_list = create_list()\n",
    "print(\"Your list: \",my_list)"
   ]
  },
  {
   "cell_type": "code",
   "execution_count": 28,
   "id": "60160546",
   "metadata": {},
   "outputs": [
    {
     "name": "stdout",
     "output_type": "stream",
     "text": [
      "Printing all parameters: ('A', 'B', 'This is string', 'C', 'D', 'E')\n",
      "No. of parameter are: 6\n",
      "A\n",
      "B\n",
      "This is string\n",
      "C\n",
      "D\n",
      "E\n"
     ]
    }
   ],
   "source": [
    "#UNKNOWN PARAMETERS\n",
    "#There may be the case where u dont know the parameters\n",
    "\n",
    "def display(*letter):\n",
    "    print(\"Printing all parameters:\",letter)\n",
    "    l = len(letter)\n",
    "    print(\"No. of parameter are:\",l)\n",
    "    for x in letter:\n",
    "        print(x)\n",
    "        \n",
    "display('A','B',\"This is string\",'C','D','E')        "
   ]
  },
  {
   "cell_type": "code",
   "execution_count": 32,
   "id": "ac60035a",
   "metadata": {},
   "outputs": [
    {
     "name": "stdout",
     "output_type": "stream",
     "text": [
      "The third value is:  300\n",
      "The first value is:  100\n"
     ]
    }
   ],
   "source": [
    "#argument as key value pair where order does not matter\n",
    "\n",
    "def display(val_1,val_3,val_2):\n",
    "    print(\"The third value is: \",val_3)\n",
    "    print(\"The first value is: \",val_1)\n",
    "    \n",
    "display(val_1 = 100, val_2 = 200, val_3 = 300)    "
   ]
  },
  {
   "cell_type": "code",
   "execution_count": 5,
   "id": "dbb416c3",
   "metadata": {
    "scrolled": false
   },
   "outputs": [
    {
     "name": "stdout",
     "output_type": "stream",
     "text": [
      "Her first name is:  {'fname': 'Shravani', 'lname': 'Raut'}\n",
      "Her first name is:  Shravani\n"
     ]
    }
   ],
   "source": [
    "#if dont know number of parameter then  add **before identifier\n",
    "\n",
    "def my_function(**name):\n",
    "    print(\"Her first name is: \",name)\n",
    "    print(\"Her first name is: \",name['fname'])\n",
    "    \n",
    "my_function(fname = \"Shravani\", lname = \"Raut\")    "
   ]
  },
  {
   "cell_type": "code",
   "execution_count": 37,
   "id": "4d704843",
   "metadata": {},
   "outputs": [
    {
     "name": "stdout",
     "output_type": "stream",
     "text": [
      "Alternate email of student:\n",
      "Alternate email is :  megh@gmail.com\n",
      "Alternate email is :  a@b.com\n",
      "Alternate email is :  default@email.com\n"
     ]
    }
   ],
   "source": [
    "# Default value to parameter\n",
    "\n",
    "def AltEmail(email = \"default@email.com\"):\n",
    "    print(\"Alternate email is : \",email)\n",
    "\n",
    "print(\"Alternate email of student:\")\n",
    "\n",
    "AltEmail(\"megh@gmail.com\")\n",
    "AltEmail(\"a@b.com\")\n",
    "AltEmail()"
   ]
  },
  {
   "cell_type": "markdown",
   "id": "a9eca12e",
   "metadata": {},
   "source": [
    "# Lambda Function"
   ]
  },
  {
   "cell_type": "raw",
   "id": "9e76d536",
   "metadata": {},
   "source": [
    "1. Lambda is a small anonymous function.\n",
    "\n",
    "2. Lambda function can take any number of arguments, but can only have one expression.\n",
    "\n",
    "syntax:\n",
    "\n",
    "lambda arguments: expression\n",
    "\n",
    "why Lambda?\n",
    "\n",
    "Lambda is anonymous and small function but it is very powerful. we can know its power if we use it inside other function. "
   ]
  },
  {
   "cell_type": "code",
   "execution_count": 7,
   "id": "f9defcb5",
   "metadata": {},
   "outputs": [
    {
     "name": "stdout",
     "output_type": "stream",
     "text": [
      "Find the square of 10:\n",
      "100\n",
      "Find the square of 20:\n",
      "400\n"
     ]
    }
   ],
   "source": [
    "# a lambda function which takes an argument and returns \n",
    "# a square of that number\n",
    "\n",
    "square = lambda num : num ** 2\n",
    "\n",
    "print(\"Find the square of 10:\")\n",
    "print(square(10))\n",
    "\n",
    "print(\"Find the square of 20:\")\n",
    "print(square(20))"
   ]
  },
  {
   "cell_type": "code",
   "execution_count": 5,
   "id": "d30297e0",
   "metadata": {},
   "outputs": [
    {
     "name": "stdout",
     "output_type": "stream",
     "text": [
      "Find addition of 3 numbers:\n"
     ]
    },
    {
     "data": {
      "text/plain": [
       "60"
      ]
     },
     "execution_count": 5,
     "metadata": {},
     "output_type": "execute_result"
    }
   ],
   "source": [
    "# Any number of arguments\n",
    "# U can take any no. of parameter\n",
    "\n",
    "add = lambda x,y,z : x+y+z\n",
    "\n",
    "print(\"Find addition of 3 numbers:\")\n",
    "\n",
    "add(10,20,30)"
   ]
  },
  {
   "cell_type": "code",
   "execution_count": 11,
   "id": "8add140d",
   "metadata": {},
   "outputs": [
    {
     "name": "stdout",
     "output_type": "stream",
     "text": [
      "Find subtraction of 2 numbers:\n"
     ]
    },
    {
     "data": {
      "text/plain": [
       "40"
      ]
     },
     "execution_count": 11,
     "metadata": {},
     "output_type": "execute_result"
    }
   ],
   "source": [
    "subtract = lambda x,y : x - y\n",
    "\n",
    "print('Find subtraction of 2 numbers:')\n",
    "\n",
    "x = 60\n",
    "y = 20\n",
    "\n",
    "(x - y)\n"
   ]
  },
  {
   "cell_type": "code",
   "execution_count": 9,
   "id": "f9c8dff5",
   "metadata": {},
   "outputs": [
    {
     "name": "stdout",
     "output_type": "stream",
     "text": [
      "Value of n:  2\n",
      "361\n"
     ]
    }
   ],
   "source": [
    "\n",
    "def myfun(n):\n",
    "    print(\"Value of n: \", n)\n",
    "    return (lambda a : a ** n)\n",
    "\n",
    "otherfun = myfun(2)\n",
    "print(otherfun(19))"
   ]
  },
  {
   "cell_type": "code",
   "execution_count": 12,
   "id": "b3188e2a",
   "metadata": {},
   "outputs": [
    {
     "name": "stdout",
     "output_type": "stream",
     "text": [
      "Double the number: \n",
      "20\n",
      "Tripple the number: \n",
      "60\n"
     ]
    }
   ],
   "source": [
    "double = lambda x : x * 2\n",
    "print(\"Double the number: \")\n",
    "print(double(10))\n",
    "\n",
    "tripple = lambda y : y * 3\n",
    "\n",
    "print('Tripple the number: ')\n",
    "print(tripple(20))"
   ]
  },
  {
   "cell_type": "code",
   "execution_count": 13,
   "id": "fd7cbf0e",
   "metadata": {},
   "outputs": [
    {
     "name": "stdout",
     "output_type": "stream",
     "text": [
      "The value of y:  2\n",
      "20\n"
     ]
    }
   ],
   "source": [
    "def fun(y):\n",
    "    print('The value of y: ', y)\n",
    "    return(lambda x: x * y)\n",
    "\n",
    "double = fun(2)\n",
    "\n",
    "print(double(10))"
   ]
  },
  {
   "cell_type": "code",
   "execution_count": 14,
   "id": "fdf11d21",
   "metadata": {},
   "outputs": [
    {
     "name": "stdout",
     "output_type": "stream",
     "text": [
      "GEEKSFORGEEKS\n"
     ]
    }
   ],
   "source": [
    "#These are the some ex. of lambda\n",
    "str1 = 'GeeksforGeeks'\n",
    "\n",
    "rev_upper = lambda string: string.upper()\n",
    "print(rev_upper(str1))"
   ]
  },
  {
   "cell_type": "code",
   "execution_count": 17,
   "id": "74128169",
   "metadata": {},
   "outputs": [
    {
     "name": "stdout",
     "output_type": "stream",
     "text": [
      "THIS IS A PYTHON\n"
     ]
    }
   ],
   "source": [
    "str_1 = \"this is a python\"\n",
    "\n",
    "rev_upper = lambda string: string.upper()\n",
    "print(rev_upper(str_1)"
   ]
  },
  {
   "cell_type": "code",
   "execution_count": 45,
   "id": "8bb50d11",
   "metadata": {},
   "outputs": [
    {
     "name": "stdout",
     "output_type": "stream",
     "text": [
      "3\n"
     ]
    }
   ],
   "source": [
    "adder = lambda x , y: x + y\n",
    "print(adder(1,2))"
   ]
  },
  {
   "cell_type": "code",
   "execution_count": 47,
   "id": "15b1d378",
   "metadata": {},
   "outputs": [
    {
     "name": "stdout",
     "output_type": "stream",
     "text": [
      "<function <lambda> at 0x00000214F97200E0>\n"
     ]
    }
   ],
   "source": [
    "string = \"some kind of a useless lambda\"\n",
    "\n",
    "print(lambda string : print(string))"
   ]
  },
  {
   "cell_type": "code",
   "execution_count": 1,
   "id": "292eb323",
   "metadata": {},
   "outputs": [
    {
     "name": "stdout",
     "output_type": "stream",
     "text": [
      " lambda is a big shit\n"
     ]
    }
   ],
   "source": [
    "x = \" lambda is a big shit\"\n",
    "(lambda x : print(x))(x)"
   ]
  },
  {
   "cell_type": "markdown",
   "id": "2489703b",
   "metadata": {},
   "source": [
    "# Class"
   ]
  },
  {
   "cell_type": "raw",
   "id": "64a517a3",
   "metadata": {},
   "source": [
    "There are two types of class \n",
    "1.Simple class\n",
    "2. Real class"
   ]
  },
  {
   "cell_type": "raw",
   "id": "ac2da7d2",
   "metadata": {},
   "source": [
    "Python is a object oriented language so in python evrything is object, which has its properties and methodes/ function\n",
    "\n",
    "python is object oriented programming language.\n",
    "\n",
    "class is blueprint of an object, from which object can be created.\n",
    "\n",
    "\n",
    "Syntax:\n",
    "\n",
    "class ClassName:\n",
    "     class body"
   ]
  },
  {
   "cell_type": "code",
   "execution_count": 11,
   "id": "6b746db2",
   "metadata": {},
   "outputs": [
    {
     "name": "stdout",
     "output_type": "stream",
     "text": [
      "Details of employee:\n",
      "ID:  emp-1\n",
      "Name:  John\n",
      "Salary:  20000\n"
     ]
    }
   ],
   "source": [
    "#Simple class:\n",
    "\n",
    "class employee:\n",
    "    eid = \"emp-1\"\n",
    "    ename = \"John\"\n",
    "    salary = 20000\n",
    "    \n",
    "#create a object\n",
    "e = employee()\n",
    "\n",
    "print(\"Details of employee:\")\n",
    "print('ID: ',e.eid)\n",
    "print('Name: ',e.ename)\n",
    "print('Salary: ',e.salary)"
   ]
  },
  {
   "cell_type": "code",
   "execution_count": 15,
   "id": "ae08115b",
   "metadata": {},
   "outputs": [
    {
     "name": "stdout",
     "output_type": "stream",
     "text": [
      "Employee Details are:\n",
      "ID:  101\n",
      "Name:  Akshay\n",
      "salary:  20000\n",
      "mobile:  9890673474\n",
      "\n",
      "\n",
      "Employee Details are:\n",
      "ID:  102\n",
      "Name:  Arun\n",
      "salary:  45000\n",
      "mobile:  7654329810\n"
     ]
    }
   ],
   "source": [
    "#Real class Example:\n",
    "(real class have __init__ methode, where simple class have none\n",
    "\n",
    "class employee:\n",
    "    def __init__(self,id_1,name_1,salary_1,mobile_1):\n",
    "        self.eid = id_1\n",
    "        self.ename = name_1\n",
    "        self.esalary = salary_1\n",
    "        self.emobile = mobile_1\n",
    "        \n",
    "o1 = employee(101,'Akshay',20000,9890673474)        \n",
    "\n",
    "print('Employee Details are:')\n",
    "print(\"ID: \",o1.eid)\n",
    "print(\"Name: \",o1.ename)\n",
    "print(\"salary: \",o1.esalary)\n",
    "print(\"mobile: \",o1.emobile)\n",
    "\n",
    "print(\"\\n\")\n",
    "\n",
    "o2 = employee(102,'Arun',45000,7654329810)\n",
    "\n",
    "print('Employee Details are:')\n",
    "print(\"ID: \",o2.eid)\n",
    "print(\"Name: \",o2.ename)\n",
    "print(\"salary: \",o2.esalary)\n",
    "print(\"mobile: \",o2.emobile)\n"
   ]
  },
  {
   "cell_type": "code",
   "execution_count": 33,
   "id": "b2cf647a",
   "metadata": {},
   "outputs": [
    {
     "name": "stdout",
     "output_type": "stream",
     "text": [
      "Name  of Student:  Rahul\n",
      "lastname of Student:  Yadav\n",
      "clas of Student:  BBA\n",
      "rollno of Student:  10\n",
      "\n",
      "\n",
      "Name  of Student:  Anjali\n",
      "lastname of Student:  Raut\n",
      "clas of Student:  BCA\n",
      "rollno of Student:  11\n",
      "\n",
      "\n",
      "Name  of Student:  Shlok\n",
      "lastname of Student:  Bamgude\n",
      "clas of Student:  SSC\n",
      "rollno of Student:  12\n"
     ]
    }
   ],
   "source": [
    "#methodes in class\n",
    "#self:\n",
    "#self is default parameter to be used to acess\n",
    "# the values in current object\n",
    "# we can give any name instead of the self but it has to be the 1st parameter\n",
    "\n",
    "class Student:\n",
    "    def __init__(self, name, lastname, clas, rollno):\n",
    "        self.name = name\n",
    "        self.lname = lastname\n",
    "        self.clas = clas\n",
    "        self.rollno = rollno\n",
    "        \n",
    "    def Display(self):\n",
    "        print(\"Name  of Student: \", self.name)\n",
    "        print(\"lastname of Student: \", self.lname)\n",
    "        print(\"clas of Student: \", self.clas)\n",
    "        print(\"rollno of Student: \", self.rollno)\n",
    "        \n",
    "s = Student('Rahul','Yadav','BBA',10)\n",
    "\n",
    "s.Display()\n",
    "print(\"\\n\")\n",
    "\n",
    "s1 = Student('Anjali','Raut','BCA',11)\n",
    "\n",
    "s1.Display()\n",
    "print(\"\\n\")\n",
    "\n",
    "s2 = Student('Shlok','Bamgude','SSC',12)\n",
    "\n",
    "s2.Display()      "
   ]
  },
  {
   "cell_type": "markdown",
   "id": "bf0b9a79",
   "metadata": {},
   "source": [
    "# Inheritance"
   ]
  },
  {
   "cell_type": "raw",
   "id": "5a8e5733",
   "metadata": {},
   "source": [
    "Inheritance is a property of Object oriented language that allows a class to derive properties of other / parent class\n",
    "\n",
    "parent/Base class:\n",
    "It is the class which gets inherited.\n",
    "\n",
    "Derived/ Child class:\n",
    "It is the class which inherites properties from other class or parent class.\n"
   ]
  },
  {
   "cell_type": "code",
   "execution_count": 1,
   "id": "e82665fe",
   "metadata": {},
   "outputs": [
    {
     "name": "stdout",
     "output_type": "stream",
     "text": [
      "Meghana\n",
      "Raut\n"
     ]
    }
   ],
   "source": [
    "#Base class:\n",
    "\n",
    "class Person:\n",
    "    def __init__(self,fname,lname):\n",
    "        self.fname = fname\n",
    "        self.lname = lname\n",
    "        \n",
    "    def Display(self):\n",
    "        print('First name: ',self.fname)\n",
    "        print('Last name: ',self.lname)\n",
    "        \n",
    "r = Person(\"Meghana\",\"Raut\")        \n",
    "\n",
    "print(r.fname)\n",
    "print(r.lname)"
   ]
  },
  {
   "cell_type": "code",
   "execution_count": 2,
   "id": "360411e2",
   "metadata": {},
   "outputs": [
    {
     "name": "stdout",
     "output_type": "stream",
     "text": [
      "First name:  Om\n",
      "Last name:  Raut\n"
     ]
    }
   ],
   "source": [
    "#Child class:\n",
    "\n",
    "class Student(Person):\n",
    "    pass\n",
    "\n",
    "s = Student(\"Om\",\"Raut\")\n",
    "\n",
    "s.Display()"
   ]
  },
  {
   "cell_type": "code",
   "execution_count": 14,
   "id": "19a78f0f",
   "metadata": {},
   "outputs": [
    {
     "name": "stdout",
     "output_type": "stream",
     "text": [
      "First name:  Lahu\n",
      "Last name:  Raut\n",
      "age of person:  45\n",
      "Weight of person:  61\n",
      "\n",
      "\n",
      "First name:  Meghana\n",
      "Last name:  Raut\n",
      "age of person:  21\n",
      "Weight of person:  39\n"
     ]
    }
   ],
   "source": [
    "#Real class\n",
    "\n",
    "class Person:\n",
    "    def __init__(self,fnm,lnm,age,weight):\n",
    "        self.fname = fnm\n",
    "        self.lname = lnm\n",
    "        self.age   = age\n",
    "        self.weight = weight\n",
    "        \n",
    "    def Display(self):\n",
    "        print('First name: ',self.fname)\n",
    "        print(\"Last name: \",self.lname)\n",
    "        print(\"age of person: \",self.age)\n",
    "        print(\"Weight of person: \",self.weight)\n",
    "        \n",
    "r = Person(\"Lahu\",\"Raut\",45,61)\n",
    "\n",
    "r.Display()\n",
    "print(\"\\n\")\n",
    "        \n",
    "class Student(Person):\n",
    "    pass\n",
    "\n",
    "s = Student(\"Meghana\",\"Raut\",21,39)\n",
    "\n",
    "s.Display()\n",
    "\n"
   ]
  },
  {
   "cell_type": "code",
   "execution_count": 22,
   "id": "bce25afe",
   "metadata": {},
   "outputs": [
    {
     "name": "stdout",
     "output_type": "stream",
     "text": [
      "Name of student:  Mona Hanamghar\n",
      "rollno of student:  12\n",
      "age of student:  25\n",
      "year of passing:  2016\n",
      "\n",
      "\n",
      "Name of student:  Rupali Bamgude\n",
      "rollno of student:  13\n",
      "age of student:  24\n",
      "year of passing:  2015\n",
      "\n",
      "\n",
      "Name of student:  Sonali Jangam\n",
      "rollno of student:  14\n",
      "age of student:  26\n",
      "year of passing:  2018\n",
      "\n",
      "\n",
      "Hi my name is Mona Hanamghar  My rollno is 12 My age is 25 year of passing is 2016\n",
      "\n",
      "\n",
      "Hi my name is Rupali Bamgude  My rollno is 13 My age is 24 year of passing is 2015\n",
      "\n",
      "\n",
      "Hi my name is Sonali Jangam  My rollno is 14 My age is 26 year of passing is 2018\n",
      "\n",
      "\n"
     ]
    }
   ],
   "source": [
    "#Aother Ex of real class\n",
    "\n",
    "class Student():\n",
    "    def __init__(self,name,rollno ,age , year):\n",
    "        self.name = name\n",
    "        self.rollno = rollno\n",
    "        self.age = age\n",
    "        self.year = year\n",
    "    \n",
    "    def Display(self):\n",
    "        print(\"Name of student: \",self.name)\n",
    "        print('rollno of student: ',self.rollno)\n",
    "        print('age of student: ',self.age)\n",
    "        print(\"year of passing: \",self.year)\n",
    "        \n",
    "    def intro(self):\n",
    "        print('Hi my name is',self.name, ' My rollno is',self.rollno,'My age is',self.age,'year of passing is',self.year)\n",
    "        \n",
    "        \n",
    "r = Student('Mona Hanamghar',12,25,2016)\n",
    "s = Student('Rupali Bamgude',13,24,2015)\n",
    "t = Student('Sonali Jangam',14,26,2018)\n",
    "\n",
    "r.Display()\n",
    "print(\"\\n\")\n",
    "\n",
    "s.Display()\n",
    "print(\"\\n\")\n",
    "\n",
    "t.Display()\n",
    "print(\"\\n\")\n",
    "\n",
    "r.intro()\n",
    "print(\"\\n\")\n",
    "\n",
    "s.intro()\n",
    "print('\\n')\n",
    "\n",
    "t.intro()\n",
    "print('\\n')"
   ]
  },
  {
   "cell_type": "code",
   "execution_count": 16,
   "id": "af9b2793",
   "metadata": {},
   "outputs": [
    {
     "name": "stdout",
     "output_type": "stream",
     "text": [
      "First Name:  Sakshi\n",
      "Last Name:  kale\n",
      "Address:  pune\n",
      "\n",
      "\n",
      "First Name:  Sakshi \n",
      "Last Name:  Kale\n",
      "Address:  pune\n",
      "Employee ID:  100\n",
      "Salary:  35000\n"
     ]
    }
   ],
   "source": [
    "#Base class\n",
    "\n",
    "class Person():\n",
    "    def __init__(self,fname,lname,addr):\n",
    "        self.first_name = fname\n",
    "        self.last_name = lname\n",
    "        self.address = addr\n",
    "        \n",
    "    def Display(self):\n",
    "        print(\"First Name: \",self.first_name)\n",
    "        print(\"Last Name: \",self.last_name)\n",
    "        print(\"Address: \",self.address)\n",
    "        \n",
    "p = Person('Sakshi','kale','pune')        \n",
    "\n",
    "p.Display()\n",
    "\n",
    "print(\"\\n\")\n",
    "# child class\n",
    "class Employee(Person):\n",
    "    def __init__(self,fname, lname, addr, id1,sal):\n",
    "        Person.__init__(self,fname,lname,addr)\n",
    "        self.eid = id1\n",
    "        self.salary = sal\n",
    "        \n",
    "    def Display(self):\n",
    "        print(\"First Name: \",self.first_name)\n",
    "        print(\"Last Name: \",self.last_name)\n",
    "        print(\"Address: \",self.address)\n",
    "        print('Employee ID: ',self.eid)\n",
    "        print('Salary: ',self.salary)\n",
    "        \n",
    "e = Employee('Sakshi ','Kale','pune',100,35000)\n",
    "e.Display()"
   ]
  },
  {
   "cell_type": "code",
   "execution_count": 27,
   "id": "ee11449b",
   "metadata": {},
   "outputs": [
    {
     "name": "stdout",
     "output_type": "stream",
     "text": [
      "Area of rectangle:  32\n",
      "Perimeter of retanlge:  24\n"
     ]
    }
   ],
   "source": [
    "# Find the area and perimeter of rectangle \n",
    "class Rectangle():\n",
    "    def __init__(self,width,height):\n",
    "        self.width = width\n",
    "        self.height = height\n",
    "        \n",
    "    def calculate_area(self):\n",
    "        return self.width * self.height\n",
    "    \n",
    "    def calculate_Perimeter(self):\n",
    "        return 2 * (self.width + self.height)\n",
    "    \n",
    "    \n",
    "R = Rectangle(4,8)    \n",
    "A = R.calculate_area()\n",
    "P = R.calculate_Perimeter()\n",
    "\n",
    "print(\"Area of rectangle: \",A)\n",
    "print(\"Perimeter of retanlge: \",P)"
   ]
  },
  {
   "cell_type": "markdown",
   "id": "5dfd8912",
   "metadata": {},
   "source": [
    "# Iterator"
   ]
  },
  {
   "cell_type": "raw",
   "id": "39fb58fa",
   "metadata": {},
   "source": [
    "Iterator are used to traverse the iterables:  Like list, tuple, set, string and Dictionary.\n",
    "\n",
    "Iterator has countable number of values\n",
    "\n",
    "Iterator are used to traverse throught the values one by one\n",
    "\n",
    "It has two methodes __iter__() and __next__()\n",
    "\n",
    "iter() methode is used to get an iterator over iterables like string,list,tuple,set and dictionary\n",
    "\n",
    "Iterator is an object that allows you to iterate over collection of data, such as lists,tuple,dict,sets."
   ]
  },
  {
   "cell_type": "code",
   "execution_count": 33,
   "id": "e40f9bc9",
   "metadata": {},
   "outputs": [
    {
     "name": "stdout",
     "output_type": "stream",
     "text": [
      "<class 'tuple'>\n",
      "10\n",
      "20\n",
      "30\n"
     ]
    }
   ],
   "source": [
    "#Example of tuple\n",
    "\n",
    "tup =(10,20,30,40,50)\n",
    "\n",
    "print(type(tup))\n",
    "\n",
    "itr = iter(tup) # create an iterator object\n",
    "\n",
    "print(next(itr))\n",
    "print(next(itr))\n",
    "print(next(itr))\n"
   ]
  },
  {
   "cell_type": "code",
   "execution_count": 38,
   "id": "7f183d40",
   "metadata": {},
   "outputs": [
    {
     "name": "stdout",
     "output_type": "stream",
     "text": [
      "10\n",
      "20\n",
      "30\n",
      "40\n",
      "50\n",
      "60\n"
     ]
    }
   ],
   "source": [
    "# example of list\n",
    "\n",
    "list_1 = [10,20,30,40,50,60]\n",
    "\n",
    "itr1 = iter(list_1)\n",
    "\n",
    "print(next(itr1))\n",
    "print(next(itr1))\n",
    "print(next(itr1))\n",
    "print(next(itr1))\n",
    "print(next(itr1))\n",
    "print(next(itr1))\n"
   ]
  },
  {
   "cell_type": "code",
   "execution_count": 2,
   "id": "f64ebe73",
   "metadata": {},
   "outputs": [
    {
     "name": "stdout",
     "output_type": "stream",
     "text": [
      "10\n",
      "20\n",
      "30\n",
      "40\n",
      "50\n",
      "60\n"
     ]
    }
   ],
   "source": [
    "# for: it get an iterator for a particular data type internally.\n",
    "list_1 = [10,20,30,40,50,60]\n",
    "\n",
    "for i in list_1:\n",
    "    print(i)"
   ]
  },
  {
   "cell_type": "code",
   "execution_count": 4,
   "id": "d607163b",
   "metadata": {},
   "outputs": [
    {
     "name": "stdout",
     "output_type": "stream",
     "text": [
      "1\n",
      "2\n",
      "3\n",
      "4\n",
      "5\n",
      "6\n",
      "7\n",
      "8\n",
      "9\n",
      "10\n",
      "11\n",
      "12\n",
      "13\n",
      "14\n",
      "15\n",
      "16\n",
      "17\n",
      "18\n",
      "19\n",
      "20\n",
      "21\n",
      "22\n",
      "23\n",
      "24\n",
      "25\n",
      "26\n",
      "27\n",
      "28\n",
      "29\n",
      "30\n",
      "31\n",
      "32\n",
      "33\n",
      "34\n",
      "35\n",
      "36\n",
      "37\n",
      "38\n",
      "39\n",
      "40\n",
      "41\n",
      "42\n",
      "43\n",
      "44\n",
      "45\n",
      "46\n",
      "47\n",
      "48\n",
      "49\n",
      "50\n"
     ]
    }
   ],
   "source": [
    "# use for loop for demonstration of __iter__() and __next__()\n",
    "\n",
    "# Problem under Consideration\n",
    "# print a series of number from 1\n",
    "\n",
    "class Counter:\n",
    "    def __iter__(self):\n",
    "        self.val = 1\n",
    "        return self\n",
    "    \n",
    "    \n",
    "    def __next__(self):\n",
    "        x = self.val\n",
    "        self.val += 1\n",
    "        \n",
    "        if x == 51:\n",
    "            raise StopIteration\n",
    "            \n",
    "        return x  \n",
    "        \n",
    "count = Counter()           \n",
    "\n",
    "itr = iter(count)\n",
    "\n",
    "for x in itr:\n",
    "    print(x)"
   ]
  },
  {
   "cell_type": "code",
   "execution_count": 9,
   "id": "f8a1dbca",
   "metadata": {},
   "outputs": [
    {
     "name": "stdout",
     "output_type": "stream",
     "text": [
      "10\n",
      "20\n",
      "30\n",
      "40\n",
      "50\n",
      "60\n",
      "70\n",
      "80\n",
      "90\n"
     ]
    }
   ],
   "source": [
    "#For Example -1\n",
    "\n",
    "class Counter:\n",
    "    def __iter__(self):\n",
    "        self.num = 10\n",
    "        return self\n",
    "    \n",
    "    def __next__(self):\n",
    "        y = self.num\n",
    "        self.num += 10\n",
    "        \n",
    "        if y == 100:\n",
    "            raise StopIteration\n",
    "            \n",
    "        return y\n",
    "    \n",
    "count = Counter()    \n",
    "\n",
    "itr = iter(count)\n",
    "\n",
    "for val in itr:\n",
    "    print(val)"
   ]
  },
  {
   "cell_type": "markdown",
   "id": "26c86bbc",
   "metadata": {},
   "source": [
    "# Scope of Variables"
   ]
  },
  {
   "cell_type": "raw",
   "id": "285e9150",
   "metadata": {},
   "source": [
    "Variable scope in python refers to the area of a programme where a variable can be accessed and modified.\n",
    "\n",
    "Two types of scope = 1. Local  2. Global"
   ]
  },
  {
   "cell_type": "code",
   "execution_count": 3,
   "id": "cbab431d",
   "metadata": {},
   "outputs": [
    {
     "name": "stdout",
     "output_type": "stream",
     "text": [
      "Inside Add:\n",
      "10\n",
      "20\n",
      "Inside Display Function:\n",
      "500\n",
      "600\n",
      "Outside Display Function:\n",
      "500\n",
      "600\n"
     ]
    }
   ],
   "source": [
    "d = 500\n",
    "e = 600\n",
    "\n",
    "def add():\n",
    "    #Local variable\n",
    "    d = 10\n",
    "    e = 20\n",
    "    \n",
    "    global pi \n",
    "    pi = 3.14\n",
    "    \n",
    "    print('Inside Add:')\n",
    "    print(d)\n",
    "    print(e) \n",
    "    return d + e\n",
    "\n",
    "def display(val1, val2):\n",
    "    print('Inside Display Function:')\n",
    "    print(val1)\n",
    "    print(val2)\n",
    "    \n",
    "add()    \n",
    "\n",
    "display(d,e)\n",
    "print('Outside Display Function:')\n",
    "print(d)\n",
    "print(e)"
   ]
  },
  {
   "cell_type": "code",
   "execution_count": 5,
   "id": "08d955d5",
   "metadata": {},
   "outputs": [
    {
     "name": "stdout",
     "output_type": "stream",
     "text": [
      "100\n"
     ]
    }
   ],
   "source": [
    "# Global scope\n",
    "# the values that are outside the function are called global\n",
    "# values\n",
    "\n",
    "x = 100\n",
    "\n",
    "def myfun():\n",
    "    print(x)\n",
    "\n",
    "myfun()    "
   ]
  },
  {
   "cell_type": "code",
   "execution_count": 6,
   "id": "8169affc",
   "metadata": {},
   "outputs": [
    {
     "name": "stdout",
     "output_type": "stream",
     "text": [
      "200\n"
     ]
    }
   ],
   "source": [
    "# Local scope\n",
    "# rhe values that are inside the function are called local\n",
    "# values\n",
    "\n",
    "def myfun():\n",
    "    x = 200\n",
    "    print(x)\n",
    "    \n",
    "myfun()    "
   ]
  },
  {
   "cell_type": "code",
   "execution_count": 7,
   "id": "e12b6158",
   "metadata": {},
   "outputs": [
    {
     "name": "stdout",
     "output_type": "stream",
     "text": [
      "200\n",
      "300\n"
     ]
    }
   ],
   "source": [
    "# Global and Local scope in one function\n",
    "\n",
    "x = 300  # Global scope\n",
    "\n",
    "def myfun():\n",
    "    x = 200  #Local scope\n",
    "    print(x)\n",
    "    \n",
    "myfun()    \n",
    "print(x)"
   ]
  },
  {
   "cell_type": "code",
   "execution_count": 2,
   "id": "a2a5cab1",
   "metadata": {},
   "outputs": [
    {
     "name": "stdout",
     "output_type": "stream",
     "text": [
      "230\n"
     ]
    }
   ],
   "source": [
    "#Global keyword\n",
    "def my_fun():\n",
    "    \n",
    "    global x\n",
    "    x = 230\n",
    "    print(x)\n",
    "    \n",
    "my_fun() "
   ]
  },
  {
   "cell_type": "code",
   "execution_count": 11,
   "id": "4c0aba8d",
   "metadata": {},
   "outputs": [
    {
     "name": "stdout",
     "output_type": "stream",
     "text": [
      "500\n",
      "500\n"
     ]
    }
   ],
   "source": [
    "# You can also use global keyword if you want to make a\n",
    "# change to a global variable inside a function\n",
    "\n",
    "x = 450\n",
    "\n",
    "def myfunc():\n",
    "     \n",
    "    global x \n",
    "    x = 500\n",
    "    print(x)\n",
    "    \n",
    "myfunc()\n",
    "print(x) #original value of x was 450 but after using global\n",
    "#keyword it changes to 500"
   ]
  },
  {
   "cell_type": "code",
   "execution_count": 6,
   "id": "c330de8f",
   "metadata": {},
   "outputs": [
    {
     "name": "stdout",
     "output_type": "stream",
     "text": [
      "200\n",
      "10\n",
      "10\n",
      "Printing Outside scope 10\n",
      "3.14\n"
     ]
    }
   ],
   "source": [
    "# another Example of global keyword\n",
    "\n",
    "z = 200 # global scope\n",
    "def Myfun():\n",
    "    \n",
    "    def Display_z():\n",
    "        print(z)\n",
    "    z = 10   # Local variable\n",
    "    print(z)\n",
    "    Display_z()\n",
    "    Display(z)\n",
    "    \n",
    "def Display(x):\n",
    "    global pi\n",
    "    pi = 3.14\n",
    "    print('Printing Outside scope',x)\n",
    "    \n",
    "print(z)    \n",
    "Myfun()\n",
    "print(pi)"
   ]
  },
  {
   "cell_type": "markdown",
   "id": "ddbfe7f1",
   "metadata": {},
   "source": [
    "# Modules"
   ]
  },
  {
   "cell_type": "raw",
   "id": "7db5f309",
   "metadata": {},
   "source": [
    "Module is a set of function which is used to develope an application \n",
    "\n",
    "It is a code liabrary."
   ]
  },
  {
   "cell_type": "code",
   "execution_count": 7,
   "id": "170ac512",
   "metadata": {},
   "outputs": [
    {
     "name": "stdout",
     "output_type": "stream",
     "text": [
      "Windows\n"
     ]
    }
   ],
   "source": [
    "# importing modules with alias name\n",
    "#like\n",
    "# import mymodule as mm\n",
    "\n",
    "# you can also use other built in module like\n",
    "\n",
    "\n",
    "import platform\n",
    "\n",
    "op_sys = platform.system()\n",
    "print(op_sys)"
   ]
  },
  {
   "cell_type": "markdown",
   "id": "5e0e08a1",
   "metadata": {},
   "source": [
    "# Datetime module"
   ]
  },
  {
   "cell_type": "raw",
   "id": "e0e93d3c",
   "metadata": {},
   "source": [
    "Datetime is not a pythons own data type,but we can import datetime module and can operate on it."
   ]
  },
  {
   "cell_type": "code",
   "execution_count": 2,
   "id": "426eb21d",
   "metadata": {},
   "outputs": [
    {
     "name": "stdout",
     "output_type": "stream",
     "text": [
      "2023-06-06 12:25:00.038620\n"
     ]
    }
   ],
   "source": [
    "import datetime as dt\n",
    "\n",
    "x = dt.datetime.now()\n",
    "print(x)"
   ]
  },
  {
   "cell_type": "code",
   "execution_count": 3,
   "id": "f5facf0b",
   "metadata": {},
   "outputs": [
    {
     "name": "stdout",
     "output_type": "stream",
     "text": [
      "9999 \n",
      "\n",
      "1\n"
     ]
    }
   ],
   "source": [
    "import datetime\n",
    "\n",
    "print(datetime.MAXYEAR,'\\n')\n",
    "\n",
    "print(datetime.MINYEAR)"
   ]
  },
  {
   "cell_type": "code",
   "execution_count": 10,
   "id": "e32cbed4",
   "metadata": {},
   "outputs": [
    {
     "name": "stdout",
     "output_type": "stream",
     "text": [
      "6\n",
      "2023\n",
      "6\n",
      "June\n",
      "Tuesday\n",
      "13\n",
      "01\n",
      "PM\n"
     ]
    }
   ],
   "source": [
    "x = dt.datetime.now()\n",
    "\n",
    "print(x.day)\n",
    "print(x.year)\n",
    "print(x.month)\n",
    "print(x.strftime('%B'))  #Month name\n",
    "print(x.strftime('%A'))  #Day\n",
    "print(x.strftime('%H'))  #0 - 23 hour\n",
    "print(x.strftime('%I'))  #0 - 12 hour\n",
    "print(x.strftime('%p'))  #AM - PM"
   ]
  },
  {
   "cell_type": "code",
   "execution_count": 12,
   "id": "8bf47307",
   "metadata": {},
   "outputs": [
    {
     "data": {
      "text/plain": [
       "datetime.datetime(2023, 6, 6, 13, 7, 30, 745634)"
      ]
     },
     "execution_count": 12,
     "metadata": {},
     "output_type": "execute_result"
    }
   ],
   "source": [
    "import datetime as dt\n",
    "\n",
    "datetime.datetime.now()\n",
    "\n",
    "#(year,month,day,hour,minutes,seconds,microseconds)"
   ]
  },
  {
   "cell_type": "markdown",
   "id": "67feba9f",
   "metadata": {},
   "source": [
    "# Python Math Function"
   ]
  },
  {
   "cell_type": "code",
   "execution_count": 14,
   "id": "db94ca1f",
   "metadata": {},
   "outputs": [
    {
     "name": "stdout",
     "output_type": "stream",
     "text": [
      "12\n"
     ]
    }
   ],
   "source": [
    "#Returns minimum value\n",
    "\n",
    "x = min(100,45,123,234,578,678,12)\n",
    "\n",
    "print(x)"
   ]
  },
  {
   "cell_type": "code",
   "execution_count": 15,
   "id": "e61eb986",
   "metadata": {},
   "outputs": [
    {
     "name": "stdout",
     "output_type": "stream",
     "text": [
      "678\n"
     ]
    }
   ],
   "source": [
    "# Returns maximum value\n",
    "\n",
    "x = max(100,45,123,234,578,678,12)\n",
    "\n",
    "print(x)"
   ]
  },
  {
   "cell_type": "code",
   "execution_count": 16,
   "id": "a58be03d",
   "metadata": {},
   "outputs": [
    {
     "name": "stdout",
     "output_type": "stream",
     "text": [
      "456\n"
     ]
    }
   ],
   "source": [
    "# Returns absolute positive value\n",
    "\n",
    "x = abs(-456)\n",
    "\n",
    "print(x)"
   ]
  },
  {
   "cell_type": "code",
   "execution_count": 1,
   "id": "a416bfff",
   "metadata": {},
   "outputs": [
    {
     "name": "stdout",
     "output_type": "stream",
     "text": [
      "10000\n"
     ]
    }
   ],
   "source": [
    "# Power function\n",
    "\n",
    "x = pow(10,4)  # power means 10 res to 4, 10*4 = 10000\n",
    "\n",
    "print(x)"
   ]
  },
  {
   "cell_type": "markdown",
   "id": "30800480",
   "metadata": {},
   "source": [
    "# Math module"
   ]
  },
  {
   "cell_type": "code",
   "execution_count": 12,
   "id": "1e99af7e",
   "metadata": {},
   "outputs": [
    {
     "name": "stdout",
     "output_type": "stream",
     "text": [
      "3.0\n",
      "24\n",
      "5\n",
      "2.718281828459045\n",
      "3.141592653589793\n",
      "148.4131591025766\n",
      "120\n",
      "nan\n",
      "15.0\n"
     ]
    }
   ],
   "source": [
    "import math\n",
    "\n",
    "a = math.sqrt(9) #returns a squareroot of 9\n",
    "print(a)       \n",
    "\n",
    "b = math.factorial(4)  #returns factorial no.\n",
    "print(b)       #4! = 4*3*2*1 = 24\n",
    "\n",
    "c = math.ceil(4.1) #returns a nearest no of 4.1 or gives upward no\n",
    "print(c)        # it get 5\n",
    "\n",
    "eluers_no = math.e  #returns eulers number\n",
    "print(eluers_no)\n",
    "\n",
    "d = math.pi # returns pi value\n",
    "print(d)\n",
    "\n",
    "e = math.exp(5)  # returns E raised to the power of x\n",
    "print(e)      # the e no = 2.71828 multiply this no. 5 times\n",
    "\n",
    "f = math.floor(120.67)\n",
    "print(f)\n",
    "\n",
    "print(math.nan)    #returns a floating point nan(not a number)value\n",
    "\n",
    "g = math.fsum([1,2,3,4,5])  #returns the sum of all itens in any iterables(tuples,arrays,lists)\n",
    "print(g)"
   ]
  },
  {
   "cell_type": "markdown",
   "id": "fc706501",
   "metadata": {},
   "source": [
    "# JSON"
   ]
  },
  {
   "cell_type": "raw",
   "id": "1f309c4f",
   "metadata": {},
   "source": [
    "JSON is a javascript object notation storing and exchanging data.\n",
    "\n",
    "Python has built in package json\n",
    "\n",
    "JSON to send data from a server to a web page\n",
    "\n",
    "JSON stands for JavaScript Object Notation\n",
    "\n",
    "JSON is a lightweight data interchange format\n",
    "\n",
    "JSON is language independent\n",
    "\n",
    "JSON is \"self.describing\" and easy to understand\n",
    "\n",
    "JSON Syntax Rules\n",
    "\n",
    "       Data is in name/value pairs\n",
    "       Data is seperated by commas\n",
    "       Curly braces hold objects\n",
    "       Square brackets hold arrays/list"
   ]
  },
  {
   "cell_type": "code",
   "execution_count": 6,
   "id": "9fb758eb",
   "metadata": {},
   "outputs": [],
   "source": [
    "import json"
   ]
  },
  {
   "cell_type": "code",
   "execution_count": 8,
   "id": "1740e10c",
   "metadata": {},
   "outputs": [
    {
     "name": "stdout",
     "output_type": "stream",
     "text": [
      "<class 'str'>\n",
      "{\"Name\":\"Rohini\",\"mobile\":7654328812,\"city\":\"pune\",\"email\":\"Rohini@gmail.com\"} \n",
      "\n",
      "{'Name': 'Rohini', 'mobile': 7654328812, 'city': 'pune', 'email': 'Rohini@gmail.com'} \n",
      "\n",
      "<class 'dict'>\n"
     ]
    }
   ],
   "source": [
    "# Conversion of json to python using loads()\n",
    "# json object\n",
    "# loads means conversion str to dict\n",
    "\n",
    "student = '{\"Name\":\"Rohini\",\"mobile\":7654328812,\"city\":\"pune\",\"email\":\"Rohini@gmail.com\"}'\n",
    "\n",
    "print(type(student))\n",
    "\n",
    "print(student,\"\\n\")\n",
    "\n",
    "stud =json.loads(student)\n",
    "\n",
    "print(stud,\"\\n\")\n",
    "\n",
    "print(type(stud))"
   ]
  },
  {
   "cell_type": "code",
   "execution_count": 47,
   "id": "f9837718",
   "metadata": {},
   "outputs": [
    {
     "name": "stdout",
     "output_type": "stream",
     "text": [
      "<class 'dict'>\n",
      "{'Name': 'Ved', 'emp_id': 101, 'email': 'ved123@gmail.com', 'salary': 12000} \n",
      "\n",
      "101 \n",
      "\n",
      "<class 'str'>\n",
      "{\"Name\": \"Ved\", \"emp_id\": 101, \"email\": \"ved123@gmail.com\", \"salary\": 12000} \n",
      "\n"
     ]
    }
   ],
   "source": [
    "# Convert a dictionary to json object using json.dumps()\n",
    "# dumps means conversion dict to str\n",
    "employee = {\n",
    "    \"Name\" : \"Ved\",\n",
    "    \"emp_id\" : 101,\n",
    "    \"email\" : \"ved123@gmail.com\",\n",
    "    \"salary\" : 12000\n",
    "    \n",
    "}\n",
    "\n",
    "print(type(employee))\n",
    "print(employee,\"\\n\")\n",
    "\n",
    "#Access the dictionary\n",
    "\n",
    "print(employee['emp_id'],'\\n')\n",
    "\n",
    "emp_1 = json.dumps(employee)\n",
    "\n",
    "print(type(emp_1))\n",
    "print(emp_1,\"\\n\")"
   ]
  },
  {
   "cell_type": "code",
   "execution_count": 23,
   "id": "bddda3e9",
   "metadata": {},
   "outputs": [
    {
     "name": "stdout",
     "output_type": "stream",
     "text": [
      "<class 'tuple'>\n",
      "(10, 20, 30, 40, 50) \n",
      "\n",
      "<class 'str'>\n",
      "[10, 20, 30, 40, 50]\n"
     ]
    }
   ],
   "source": [
    "#Apply on tuple\n",
    "\n",
    "tup = (10,20,30,40,50)\n",
    "\n",
    "print(type(tup))\n",
    "print(tup,'\\n')\n",
    "\n",
    "tup_1 = json.dumps(tup)\n",
    "\n",
    "print(type(tup_1))\n",
    "print(tup_1)"
   ]
  },
  {
   "cell_type": "code",
   "execution_count": 17,
   "id": "1c144fbd",
   "metadata": {},
   "outputs": [
    {
     "name": "stdout",
     "output_type": "stream",
     "text": [
      "[{'model': 'kia-123', 'mpg': 27.5}, {'model': 'tata', 'mpg': 24.1}]\n",
      "{'model': 'kia-123', 'mpg': 27.5} \n",
      "\n",
      "[{'model': 'kia-123', 'mpg': 27.5}, {'model': 'tata', 'mpg': 24.1}] \n",
      "\n",
      "<class 'dict'>\n",
      "{'name': 'Om', 'age': 14, 'vegetarian': True, 'non_veg': False, 'food': ('paneer', 'kabab'), 'owns_chopper': None, 'cars': [{'model': 'kia-123', 'mpg': 27.5}, {'model': 'tata', 'mpg': 24.1}]} \n",
      "\n",
      "<class 'str'>\n",
      "{\"name\": \"Om\", \"age\": 14, \"vegetarian\": true, \"non_veg\": false, \"food\": [\"paneer\", \"kabab\"], \"owns_chopper\": null, \"cars\": [{\"model\": \"kia-123\", \"mpg\": 27.5}, {\"model\": \"tata\", \"mpg\": 24.1}]}\n"
     ]
    }
   ],
   "source": [
    "# Test out same on other data types\n",
    "\n",
    "import json\n",
    "\n",
    "x = {\n",
    "    \"name\": \"Om\",\n",
    "    \"age\": 14,\n",
    "    \"vegetarian\": True,\n",
    "    \"non_veg\": False,\n",
    "    \"food\": (\"paneer\",\"kabab\"),\n",
    "    \"owns_chopper\": None,\n",
    "    \"cars\":[\n",
    "        {\"model\": \"kia-123\",\"mpg\": 27.5},\n",
    "        {\"model\": \"tata\",\"mpg\": 24.1}\n",
    "    ]\n",
    "}\n",
    "\n",
    "l = x['cars']\n",
    "print(l)\n",
    "\n",
    "print(l[0],'\\n')\n",
    "\n",
    "print(x['cars'],'\\n')\n",
    "\n",
    "print(type(x))\n",
    "print(x,'\\n')\n",
    "\n",
    "x_1 = json.dumps(x)\n",
    "\n",
    "print(type(x_1))\n",
    "print(x_1)"
   ]
  },
  {
   "cell_type": "raw",
   "id": "45d5887f",
   "metadata": {},
   "source": [
    "when we convert python object to json then it will be like\n",
    "shown below:\n",
    "\n",
    "1. dict    object\n",
    "2. list    Array\n",
    "3. tuple   Array\n",
    "4. str     String\n",
    "5. int     Number\n",
    "6. float   Number\n",
    "7. True     true\n",
    "8. False    false\n",
    "9. None     null"
   ]
  },
  {
   "cell_type": "markdown",
   "id": "cffe6700",
   "metadata": {},
   "source": [
    "# Result Formatting"
   ]
  },
  {
   "cell_type": "raw",
   "id": "48c2168d",
   "metadata": {},
   "source": [
    "to make json more readable we can use some additional parameters like indent=4, separators=(\".\",\" = \"), sort_keys=True"
   ]
  },
  {
   "cell_type": "code",
   "execution_count": 41,
   "id": "57d4fee3",
   "metadata": {},
   "outputs": [
    {
     "name": "stdout",
     "output_type": "stream",
     "text": [
      "{\n",
      "    \"name\": \"Om\",\n",
      "    \"age\": 14,\n",
      "    \"vegetarian\": true,\n",
      "    \"non_veg\": false,\n",
      "    \"food\": [\n",
      "        \"paneer\",\n",
      "        \"kabab\"\n",
      "    ],\n",
      "    \"owns_chopper\": null,\n",
      "    \"cars\": [\n",
      "        {\n",
      "            \"model\": \"kia-123\",\n",
      "            \"mpg\": 27.5\n",
      "        },\n",
      "        {\n",
      "            \"model\": \"tata\",\n",
      "            \"mpg\": 24.1\n",
      "        }\n",
      "    ]\n",
      "}\n"
     ]
    }
   ],
   "source": [
    "#(indent=4)\n",
    "import json\n",
    "\n",
    "x = {\n",
    "    \"name\": \"Om\",\n",
    "    \"age\": 14,\n",
    "    \"vegetarian\": True,\n",
    "    \"non_veg\": False,\n",
    "    \"food\": (\"paneer\",\"kabab\"),\n",
    "    \"owns_chopper\": None,\n",
    "    \"cars\":[\n",
    "        {\"model\": \"kia-123\",\"mpg\": 27.5},\n",
    "        {\"model\": \"tata\",\"mpg\": 24.1}\n",
    "    ]\n",
    "} \n",
    "\n",
    "print(json.dumps(x,indent=4))"
   ]
  },
  {
   "cell_type": "code",
   "execution_count": 44,
   "id": "a24919d4",
   "metadata": {},
   "outputs": [
    {
     "name": "stdout",
     "output_type": "stream",
     "text": [
      "{\n",
      "    \"name\"= \"Om\"-\n",
      "    \"age\"= 14-\n",
      "    \"vegetarian\"= true-\n",
      "    \"non_veg\"= false-\n",
      "    \"food\"= [\n",
      "        \"paneer\"-\n",
      "        \"kabab\"\n",
      "    ]-\n",
      "    \"owns_chopper\"= null-\n",
      "    \"cars\"= [\n",
      "        {\n",
      "            \"model\"= \"kia-123\"-\n",
      "            \"mpg\"= 27.5\n",
      "        }-\n",
      "        {\n",
      "            \"model\"= \"tata\"-\n",
      "            \"mpg\"= 24.1\n",
      "        }\n",
      "    ]\n",
      "}\n"
     ]
    }
   ],
   "source": [
    "#(separators=(\"-\",\"= \"))\n",
    "import json\n",
    "\n",
    "x = {\n",
    "    \"name\": \"Om\",\n",
    "    \"age\": 14,\n",
    "    \"vegetarian\": True,\n",
    "    \"non_veg\": False,\n",
    "    \"food\": (\"paneer\",\"kabab\"),\n",
    "    \"owns_chopper\": None,\n",
    "    \"cars\":[\n",
    "        {\"model\": \"kia-123\",\"mpg\": 27.5},\n",
    "        {\"model\": \"tata\",\"mpg\": 24.1}\n",
    "    ]\n",
    "} \n",
    "\n",
    "print(json.dumps(x,indent=4, separators=(\"-\",\"= \")))"
   ]
  },
  {
   "cell_type": "code",
   "execution_count": 46,
   "id": "c6a25b02",
   "metadata": {},
   "outputs": [
    {
     "name": "stdout",
     "output_type": "stream",
     "text": [
      "{\n",
      "    \"age\"= 14-\n",
      "    \"cars\"= [\n",
      "        {\n",
      "            \"model\"= \"kia-123\"-\n",
      "            \"mpg\"= 27.5\n",
      "        }-\n",
      "        {\n",
      "            \"model\"= \"tata\"-\n",
      "            \"mpg\"= 24.1\n",
      "        }\n",
      "    ]-\n",
      "    \"food\"= [\n",
      "        \"paneer\"-\n",
      "        \"kabab\"\n",
      "    ]-\n",
      "    \"name\"= \"Om\"-\n",
      "    \"non_veg\"= false-\n",
      "    \"owns_chopper\"= null-\n",
      "    \"vegetarian\"= true\n",
      "}\n"
     ]
    }
   ],
   "source": [
    "#(sort_keys=True)\n",
    "import json\n",
    "\n",
    "x = {\n",
    "    \"name\": \"Om\",\n",
    "    \"age\": 14,\n",
    "    \"vegetarian\": True,\n",
    "    \"non_veg\": False,\n",
    "    \"food\": (\"paneer\",\"kabab\"),\n",
    "    \"owns_chopper\": None,\n",
    "    \"cars\":[\n",
    "        {\"model\": \"kia-123\",\"mpg\": 27.5},\n",
    "        {\"model\": \"tata\",\"mpg\": 24.1}\n",
    "    ]\n",
    "} \n",
    "\n",
    "print(json.dumps(x,indent=4, separators=(\"-\",\"= \"), sort_keys=True))"
   ]
  },
  {
   "cell_type": "markdown",
   "id": "090c6a1c",
   "metadata": {},
   "source": [
    "# RegEx or Regular Expression"
   ]
  },
  {
   "cell_type": "raw",
   "id": "0176cc50",
   "metadata": {},
   "source": [
    "RE is a special sequence of characters which helps you to match or find other patterns in a string, using special syntax\n",
    "\n",
    "python has re module which gives way to work with regEx."
   ]
  },
  {
   "cell_type": "code",
   "execution_count": 18,
   "id": "90360b77",
   "metadata": {},
   "outputs": [],
   "source": [
    "import re"
   ]
  },
  {
   "cell_type": "code",
   "execution_count": 19,
   "id": "a86141ff",
   "metadata": {},
   "outputs": [
    {
     "name": "stdout",
     "output_type": "stream",
     "text": [
      "(0, 64)\n",
      "0\n",
      "64\n",
      "The python programming was developed in 1991 by Guido Van Rossom\n",
      "The python programming was developed in 1991 by Guido Van Rossom\n",
      "Yes string start with 'The' and Ends with 'Rossom'\n"
     ]
    }
   ],
   "source": [
    "txt = \"The python programming was developed in 1991 by Guido Van Rossom\"\n",
    "\n",
    "x = re.search(\"^The.*Rossom$\", txt)\n",
    "\n",
    "# RegEx: ^The.*Rossom$\n",
    "# ^ - start with 'The'\n",
    "# . - Any character\n",
    "# * - Any number of occurances\n",
    "# $ - Ends with 'Rossom'\n",
    "\n",
    "# x - Match Object\n",
    "\n",
    "# Match Object\n",
    "print(x.span())\n",
    "#it returns the tuple(start,end) position of the match object\n",
    "\n",
    "print(x.start())\n",
    "# It returns the start location of the match object\n",
    "\n",
    "print(x.end())\n",
    "# It returns the end location of mathch object\n",
    "\n",
    "print(x.string)\n",
    "\n",
    "# returns the string passed into the function.\n",
    "\n",
    "print(x.group()) \n",
    "\n",
    "# returns the part of the string where there was a match\n",
    "\n",
    "#print(x.span())\n",
    "#print(x.start())\n",
    "#print(x.end())\n",
    "#print(x.string)\n",
    "#print(x.group())\n",
    "\n",
    "if x:\n",
    "    print(\"Yes string start with 'The' and Ends with 'Rossom'\")\n",
    "else:\n",
    "    print(\"Doesn't have match\")"
   ]
  },
  {
   "cell_type": "raw",
   "id": "dd2bb136",
   "metadata": {},
   "source": [
    "findall ==> Returns a list containing all matches\n",
    "\n",
    "search ==>  Returns a Match object if there is a match anywhere in the string\n",
    "\n",
    "split ==> Returns a list where the string has been split at each match \n",
    "\n",
    "sub ==> Replaces one or many matches with a string \n"
   ]
  },
  {
   "cell_type": "code",
   "execution_count": 20,
   "id": "7163180c",
   "metadata": {},
   "outputs": [
    {
     "name": "stdout",
     "output_type": "stream",
     "text": [
      "['e', 'e', 'e']\n"
     ]
    }
   ],
   "source": [
    "# findall function returns the list of all matches\n",
    "\n",
    "txt = \"The python is easy to learn \"\n",
    "x = re.findall('e',txt)\n",
    "\n",
    "print(x)"
   ]
  },
  {
   "cell_type": "code",
   "execution_count": 21,
   "id": "aafa6722",
   "metadata": {},
   "outputs": [
    {
     "data": {
      "text/plain": [
       "[1, 6, 1]"
      ]
     },
     "execution_count": 21,
     "metadata": {},
     "output_type": "execute_result"
    }
   ],
   "source": [
    "#programme to find the list of words and its occurance in a string\n",
    "\n",
    "def count_char():\n",
    "    count = []\n",
    "    import re\n",
    "    l = ['The','o','python']\n",
    "    txt = \"The python programming was developed in 1991 by Guido van rossom\"\n",
    "    for i in l:\n",
    "        cnt = re.findall(i,txt)\n",
    "        \n",
    "        count.append(len(cnt))\n",
    "    return count  \n",
    "\n",
    "count_char()"
   ]
  },
  {
   "cell_type": "code",
   "execution_count": 39,
   "id": "635be8d7",
   "metadata": {},
   "outputs": [
    {
     "name": "stdout",
     "output_type": "stream",
     "text": [
      "The first white-space character is located in position: 4\n"
     ]
    }
   ],
   "source": [
    "# search returns the first occurance of the match\n",
    "\n",
    "txt = \"The python programming is easy to learn\"\n",
    "\n",
    "x = re.search(\"py\",txt)\n",
    "\n",
    "print(\"The first white-space character is located in position:\", x.start())\n"
   ]
  },
  {
   "cell_type": "code",
   "execution_count": 27,
   "id": "77911996",
   "metadata": {},
   "outputs": [
    {
     "name": "stdout",
     "output_type": "stream",
     "text": [
      "The first white-space character is locted in position: 3\n"
     ]
    }
   ],
   "source": [
    "txt = \"The rain in Spain\"\n",
    "x = re.search(\"\\s\",txt)\n",
    "\n",
    "print(\"The first white-space character is locted in position:\",x.start())"
   ]
  },
  {
   "cell_type": "code",
   "execution_count": 4,
   "id": "5a2103ab",
   "metadata": {},
   "outputs": [
    {
     "name": "stdout",
     "output_type": "stream",
     "text": [
      "['The', 'python', 'programming', 'was', 'developed', 'in', '1991']\n"
     ]
    }
   ],
   "source": [
    "#split function split the string using given pattern\n",
    "\n",
    "txt = \"The python programming was developed in 1991\"\n",
    "\n",
    "x = re.split(\"\\s\",txt)\n",
    "\n",
    "print(x)"
   ]
  },
  {
   "cell_type": "code",
   "execution_count": 22,
   "id": "26870fb9",
   "metadata": {},
   "outputs": [
    {
     "name": "stdout",
     "output_type": "stream",
     "text": [
      "['The', 'python programming was developed in 1991']\n"
     ]
    }
   ],
   "source": [
    "#split the string at its first occurance\n",
    "import re\n",
    "x = re.split(\"\\s\",txt,1)\n",
    "\n",
    "print(x)"
   ]
  },
  {
   "cell_type": "code",
   "execution_count": 2,
   "id": "0a303946",
   "metadata": {},
   "outputs": [
    {
     "name": "stdout",
     "output_type": "stream",
     "text": [
      "The:python:programming:was:developed in 1991\n"
     ]
    }
   ],
   "source": [
    "#sub function replaces the matches with the text of your choice\n",
    "import re\n",
    "txt = \"The python programming was developed in 1991\"\n",
    "\n",
    "x = re.sub(\"\\s\",\":\",txt,4)\n",
    "\n",
    "print(x)"
   ]
  },
  {
   "cell_type": "code",
   "execution_count": 5,
   "id": "8271470b",
   "metadata": {},
   "outputs": [
    {
     "name": "stdout",
     "output_type": "stream",
     "text": [
      "The first white-space chracter is located in position: 3\n",
      "(3, 4)\n",
      "3\n",
      "4\n",
      "The rain in USA\n",
      " \n"
     ]
    }
   ],
   "source": [
    "txt = \"The rain in USA\"\n",
    "x = re.search(\"\\s\",txt)\n",
    "print(\"The first white-space chracter is located in position:\",x.start())\n",
    "print(x.span())\n",
    "print(x.start())\n",
    "print(x.end())\n",
    "print(x.string)\n",
    "print(x.group())"
   ]
  },
  {
   "cell_type": "code",
   "execution_count": 34,
   "id": "8c969aeb",
   "metadata": {},
   "outputs": [
    {
     "name": "stdout",
     "output_type": "stream",
     "text": [
      "The first white-space character is located in position: 3\n",
      "(3, 4)\n",
      "3\n",
      "4\n",
      "The Tiger is king\n",
      " \n"
     ]
    }
   ],
   "source": [
    "txt = \"The Tiger is king\"\n",
    "x = re.search(\"\\s\",txt)\n",
    "print(\"The first white-space character is located in position:\",x.start())\n",
    "\n",
    "print(x.span())\n",
    "print(x.start())\n",
    "print(x.end())\n",
    "print(x.string)\n",
    "print(x.group())"
   ]
  },
  {
   "cell_type": "markdown",
   "id": "5e694998",
   "metadata": {},
   "source": [
    "# Exception Handling"
   ]
  },
  {
   "cell_type": "raw",
   "id": "96e74118",
   "metadata": {},
   "source": [
    "Try:\n",
    "    try block allow you to test a block of code for errors\n",
    "\n",
    "Except:\n",
    "     except block allow you to handle the error.\n",
    "     \n",
    "Finally:\n",
    "     finally block allow you execute block of code.\n",
    "     regardless of the try and except blocks\n",
    "     \n",
    "Error:\n",
    "      syntax errors and exceptions.\n",
    "      \n",
    "\n",
    "\n",
    "Syntax errors:\n",
    "        also known as parsing errors, are perhaps the most           common kind of complaint you get while you are still         learning python:\n",
    "        \n",
    "\n",
    "Exception:\n",
    "\n",
    "Errors detected during execution are called exceptions\n",
    "        "
   ]
  },
  {
   "cell_type": "code",
   "execution_count": 8,
   "id": "3f8aaf65",
   "metadata": {},
   "outputs": [],
   "source": [
    "#while True: print(\"Hello\")"
   ]
  },
  {
   "cell_type": "code",
   "execution_count": 7,
   "id": "f27b0063",
   "metadata": {},
   "outputs": [
    {
     "name": "stdout",
     "output_type": "stream",
     "text": [
      "10\n",
      "20\n",
      "30\n"
     ]
    },
    {
     "ename": "IndexError",
     "evalue": "list index out of range",
     "output_type": "error",
     "traceback": [
      "\u001b[1;31m---------------------------------------------------------------------------\u001b[0m",
      "\u001b[1;31mIndexError\u001b[0m                                Traceback (most recent call last)",
      "Cell \u001b[1;32mIn[7], line 5\u001b[0m\n\u001b[0;32m      3\u001b[0m l \u001b[38;5;241m=\u001b[39m [\u001b[38;5;241m10\u001b[39m,\u001b[38;5;241m20\u001b[39m,\u001b[38;5;241m30\u001b[39m]\n\u001b[0;32m      4\u001b[0m \u001b[38;5;28;01mfor\u001b[39;00m x \u001b[38;5;129;01min\u001b[39;00m \u001b[38;5;28mrange\u001b[39m (\u001b[38;5;241m0\u001b[39m,\u001b[38;5;241m4\u001b[39m):\n\u001b[1;32m----> 5\u001b[0m   \u001b[38;5;28mprint\u001b[39m(\u001b[43ml\u001b[49m\u001b[43m[\u001b[49m\u001b[43mx\u001b[49m\u001b[43m]\u001b[49m)\n",
      "\u001b[1;31mIndexError\u001b[0m: list index out of range"
     ]
    }
   ],
   "source": [
    "# Errors detected during execution are called exceptions\n",
    "\n",
    "l = [10,20,30]\n",
    "for x in range (0,4):\n",
    "  print(l[x])"
   ]
  },
  {
   "cell_type": "code",
   "execution_count": 5,
   "id": "504c10cc",
   "metadata": {},
   "outputs": [
    {
     "name": "stdout",
     "output_type": "stream",
     "text": [
      "Please enter a number: 100\n"
     ]
    }
   ],
   "source": [
    "while True:\n",
    "    try:\n",
    "        x = int(input(\"Please enter a number: \"))\n",
    "        break\n",
    "    except ValueError:\n",
    "     print(\"Oops!  That was no valid number.  Try again..\")\n",
    "            \n",
    "            \n",
    "    "
   ]
  },
  {
   "cell_type": "code",
   "execution_count": 16,
   "id": "36160484",
   "metadata": {},
   "outputs": [
    {
     "name": "stdout",
     "output_type": "stream",
     "text": [
      "Somthing else went wrong\n"
     ]
    }
   ],
   "source": [
    "# ValueError\n",
    "\n",
    "try:\n",
    " print(value)\n",
    "except ValueError:\n",
    " print(\"Variable Not Declared\")\n",
    "except:\n",
    " print(\"Somthing else went wrong\")"
   ]
  },
  {
   "cell_type": "code",
   "execution_count": 17,
   "id": "24a23ea7",
   "metadata": {},
   "outputs": [
    {
     "name": "stdout",
     "output_type": "stream",
     "text": [
      "Hello\n",
      "Nothing went wrong\n"
     ]
    }
   ],
   "source": [
    "#You can use the else keyword to define a block of code to be executed\n",
    "# if no errors were raised:\n",
    "# jar try madhe error asel tr except print hoil and jr nasel \n",
    "# tar else print hota.\n",
    "\n",
    "try:\n",
    " print(\"Hello\")\n",
    "except:\n",
    " print(\"Something went wrong\")\n",
    "else:\n",
    " print(\"Nothing went wrong\")"
   ]
  },
  {
   "cell_type": "code",
   "execution_count": 18,
   "id": "ca38ad8d",
   "metadata": {},
   "outputs": [
    {
     "name": "stdout",
     "output_type": "stream",
     "text": [
      "10\n",
      "20\n",
      "30\n",
      "40\n",
      "50\n",
      "Something went wrong\n"
     ]
    }
   ],
   "source": [
    "#the error in try,print except statement\n",
    "try:\n",
    "    ls =[10,20,30,40,50]\n",
    "    for i in range(0,7):\n",
    "        print(ls[i])\n",
    "        \n",
    "except:\n",
    " print(\"Something went wrong\")\n",
    "    \n",
    "else:\n",
    " print('There was no error in try block')"
   ]
  },
  {
   "cell_type": "code",
   "execution_count": 25,
   "id": "b34636da",
   "metadata": {},
   "outputs": [
    {
     "name": "stdout",
     "output_type": "stream",
     "text": [
      "10\n",
      "This is finally block: to be executed mandatory\n"
     ]
    }
   ],
   "source": [
    "# Finally block\n",
    "#error yevo kiva na yevo finally block ha print kela jato\n",
    "# error none\n",
    "z = 10\n",
    "try:\n",
    " print(z)\n",
    "except:\n",
    " print('There is something wrong')\n",
    "finally:\n",
    " print('This is finally block: to be executed mandatory')"
   ]
  },
  {
   "cell_type": "code",
   "execution_count": 26,
   "id": "f1523aa9",
   "metadata": {},
   "outputs": [
    {
     "name": "stdout",
     "output_type": "stream",
     "text": [
      "There is something wrong\n",
      "This is finally block: to be executed mandatory\n"
     ]
    }
   ],
   "source": [
    "# error occured\n",
    "try:\n",
    " print(n)\n",
    "except:\n",
    " print('There is something wrong')\n",
    "finally:\n",
    " print('This is finally block: to be executed mandatory')"
   ]
  },
  {
   "cell_type": "markdown",
   "id": "e920e1e3",
   "metadata": {},
   "source": [
    "# Raise an exception\n",
    "\n",
    "As a Python developer you can choose to throw an exception if a condition occurs.\n",
    "\n",
    "To throw (or raise) an exception,use the raise keyword."
   ]
  },
  {
   "cell_type": "code",
   "execution_count": 4,
   "id": "355e162d",
   "metadata": {},
   "outputs": [
    {
     "ename": "Exception",
     "evalue": "Sorry, no number below zero",
     "output_type": "error",
     "traceback": [
      "\u001b[1;31m---------------------------------------------------------------------------\u001b[0m",
      "\u001b[1;31mException\u001b[0m                                 Traceback (most recent call last)",
      "Cell \u001b[1;32mIn[4], line 5\u001b[0m\n\u001b[0;32m      2\u001b[0m x \u001b[38;5;241m=\u001b[39m \u001b[38;5;241m-\u001b[39m\u001b[38;5;241m1\u001b[39m\n\u001b[0;32m      4\u001b[0m \u001b[38;5;28;01mif\u001b[39;00m x \u001b[38;5;241m<\u001b[39m \u001b[38;5;241m0\u001b[39m:\n\u001b[1;32m----> 5\u001b[0m  \u001b[38;5;28;01mraise\u001b[39;00m \u001b[38;5;167;01mException\u001b[39;00m(\u001b[38;5;124m\"\u001b[39m\u001b[38;5;124mSorry, no number below zero\u001b[39m\u001b[38;5;124m\"\u001b[39m)\n",
      "\u001b[1;31mException\u001b[0m: Sorry, no number below zero"
     ]
    }
   ],
   "source": [
    "# Raise an error and stop the program if x is lower than 0:\n",
    "x = -1\n",
    "\n",
    "if x < 0:\n",
    " raise Exception(\"Sorry, no number below zero\")"
   ]
  },
  {
   "cell_type": "code",
   "execution_count": 3,
   "id": "79971c48",
   "metadata": {},
   "outputs": [
    {
     "ename": "TypeError",
     "evalue": "Only integers are allowed",
     "output_type": "error",
     "traceback": [
      "\u001b[1;31m---------------------------------------------------------------------------\u001b[0m",
      "\u001b[1;31mTypeError\u001b[0m                                 Traceback (most recent call last)",
      "Cell \u001b[1;32mIn[3], line 7\u001b[0m\n\u001b[0;32m      4\u001b[0m x \u001b[38;5;241m=\u001b[39m \u001b[38;5;124m\"\u001b[39m\u001b[38;5;124mhello\u001b[39m\u001b[38;5;124m\"\u001b[39m\n\u001b[0;32m      6\u001b[0m \u001b[38;5;28;01mif\u001b[39;00m \u001b[38;5;129;01mnot\u001b[39;00m \u001b[38;5;28mtype\u001b[39m(x) \u001b[38;5;129;01mis\u001b[39;00m \u001b[38;5;28mint\u001b[39m:\n\u001b[1;32m----> 7\u001b[0m  \u001b[38;5;28;01mraise\u001b[39;00m \u001b[38;5;167;01mTypeError\u001b[39;00m(\u001b[38;5;124m\"\u001b[39m\u001b[38;5;124mOnly integers are allowed\u001b[39m\u001b[38;5;124m\"\u001b[39m)\n",
      "\u001b[1;31mTypeError\u001b[0m: Only integers are allowed"
     ]
    }
   ],
   "source": [
    "# Ex - 2\n",
    "# Raise a TypeError if x is not an integer:\n",
    "\n",
    "x = \"hello\"\n",
    "\n",
    "if not type(x) is int:\n",
    " raise TypeError(\"Only integers are allowed\")"
   ]
  },
  {
   "cell_type": "markdown",
   "id": "98b4c5af",
   "metadata": {},
   "source": [
    "# String Formatting"
   ]
  },
  {
   "cell_type": "raw",
   "id": "97348a1a",
   "metadata": {},
   "source": [
    "format() method let you to format selected parts of a string\n",
    "\n",
    "Sometimes there are parts of a text that you dp not control,maybe they come from a database, or use input?\n",
    "\n",
    "To control such values, add placeholders (curly brackets{}) in the text, and run the values throught the format()method:"
   ]
  },
  {
   "cell_type": "code",
   "execution_count": 3,
   "id": "723ba784",
   "metadata": {},
   "outputs": [
    {
     "name": "stdout",
     "output_type": "stream",
     "text": [
      "The price is 60 dollars\n"
     ]
    }
   ],
   "source": [
    "price = 60\n",
    "txt = \"The price is {} dollars\"\n",
    "print(txt.format(price))"
   ]
  },
  {
   "cell_type": "code",
   "execution_count": 6,
   "id": "82ada799",
   "metadata": {},
   "outputs": [
    {
     "name": "stdout",
     "output_type": "stream",
     "text": [
      "The price is 49.00 dollars\n"
     ]
    }
   ],
   "source": [
    "price = 49\n",
    "txt = \"The price is {:.2f} dollars\"\n",
    "print(txt.format(price))"
   ]
  },
  {
   "cell_type": "code",
   "execution_count": 12,
   "id": "4a3d5066",
   "metadata": {},
   "outputs": [
    {
     "name": "stdout",
     "output_type": "stream",
     "text": [
      "I want 3 pieces of itemno 10 for 500.00 dollars\n"
     ]
    }
   ],
   "source": [
    "quantity = 3\n",
    "itemno = 10\n",
    "price = 500\n",
    "myorder = \"I want {} pieces of itemno {} for {:.2f} dollars\"\n",
    "print(myorder.format(quantity,itemno,price))"
   ]
  },
  {
   "cell_type": "code",
   "execution_count": 16,
   "id": "d76c5860",
   "metadata": {},
   "outputs": [
    {
     "name": "stdout",
     "output_type": "stream",
     "text": [
      "I want 3 pieces of itemno 10 for 500.00 rupees\n"
     ]
    }
   ],
   "source": [
    "quantity = 3\n",
    "itemno = 10\n",
    "price = 500\n",
    "\n",
    "print(\"I want {0} pieces of itemno {1} for {2:.2f} rupees\".format(quantity,itemno,price))"
   ]
  },
  {
   "cell_type": "code",
   "execution_count": 15,
   "id": "be505347",
   "metadata": {},
   "outputs": [
    {
     "name": "stdout",
     "output_type": "stream",
     "text": [
      "His name is Rahul. Rahul is 23 years old.\n"
     ]
    }
   ],
   "source": [
    "age = 23\n",
    "name = \"Rahul\"\n",
    "txt = \"His name is {1}. {1} is {0} years old.\"\n",
    "print(txt.format(age,name))"
   ]
  },
  {
   "cell_type": "code",
   "execution_count": 17,
   "id": "76fb7526",
   "metadata": {},
   "outputs": [
    {
     "name": "stdout",
     "output_type": "stream",
     "text": [
      "I have a Ford, it is a Mustang.\n"
     ]
    }
   ],
   "source": [
    "myorder = \"I have a {carname}, it is a {model}.\"\n",
    "print(myorder.format(carname = \"Ford\", model = \"Mustang\"))"
   ]
  },
  {
   "cell_type": "markdown",
   "id": "3295f151",
   "metadata": {},
   "source": [
    "# File Handling"
   ]
  },
  {
   "cell_type": "raw",
   "id": "f170742b",
   "metadata": {},
   "source": [
    "File handling is an important concept in python.\n",
    "\n",
    "Python has many functions for creating, reading, updating, and deleting files."
   ]
  },
  {
   "cell_type": "markdown",
   "id": "ce711a8d",
   "metadata": {},
   "source": [
    "# Open File"
   ]
  },
  {
   "cell_type": "raw",
   "id": "d1191114",
   "metadata": {},
   "source": [
    "The open() function: The open () function takes two parameters.\n",
    "\n",
    "1. Filename\n",
    "2. mode of opening a file.\n",
    "\n",
    "There are four different modes to open file:\n",
    "\n",
    "\"r\" = Read - Default value. Opens in reading mode,\n",
    "             gives error if file not exists.\n",
    "             \n",
    "\"a\" - Append - Opens in appending mode,\n",
    "               Creates new file if it does not exists\n",
    "               \n",
    "\"w\" - Write - Opens in writing mode,\n",
    "              Creates new file if it does not exists\n",
    "              \n",
    "\"x\" - Creates - Creates the specified file,\n",
    "                Gives an error if the file already exists\n",
    "                \n",
    "In addition you can specify if the file should be handled as binary or text mode.\n",
    "\n",
    "\"t\" - Text - Default value. Text mode\n",
    "\"b\" - Binary - Binary mode(e.g. images)"
   ]
  },
  {
   "cell_type": "markdown",
   "id": "74c1a03d",
   "metadata": {},
   "source": [
    "# Reading a file"
   ]
  },
  {
   "cell_type": "raw",
   "id": "47389b0e",
   "metadata": {},
   "source": [
    "Functions we use to handle files:\n",
    "\n",
    "read() - To read files - read all contents\n",
    "readline() - To read cotents line by line\n",
    "close() - to close the file.\n",
    "f =f is a file handle"
   ]
  },
  {
   "cell_type": "code",
   "execution_count": 15,
   "id": "6401877e",
   "metadata": {},
   "outputs": [
    {
     "name": "stdout",
     "output_type": "stream",
     "text": [
      "This is sample file\n"
     ]
    }
   ],
   "source": [
    "# ./files/sample.txt\n",
    "\n",
    "f = open(\"./om.txt\")\n",
    "print(f.read())"
   ]
  },
  {
   "cell_type": "code",
   "execution_count": 18,
   "id": "1b591bd5",
   "metadata": {},
   "outputs": [
    {
     "name": "stdout",
     "output_type": "stream",
     "text": [
      "This is good thing.\n"
     ]
    }
   ],
   "source": [
    "f = open(\"./Meghana.txt\")\n",
    "\n",
    "print(f.read())"
   ]
  },
  {
   "cell_type": "code",
   "execution_count": 22,
   "id": "8119c4cc",
   "metadata": {},
   "outputs": [
    {
     "name": "stdout",
     "output_type": "stream",
     "text": [
      "This is go\n"
     ]
    }
   ],
   "source": [
    "#reading files in parts\n",
    "# Reads first 10 chars\n",
    "\n",
    "f = open(\"./Meghana.txt\",\"r\")\n",
    "\n",
    "print(f.read(10))"
   ]
  },
  {
   "cell_type": "code",
   "execution_count": 3,
   "id": "4a22eedb",
   "metadata": {},
   "outputs": [
    {
     "name": "stdout",
     "output_type": "stream",
     "text": [
      "This file is for temporary\n"
     ]
    }
   ],
   "source": [
    "# reads line by line\n",
    "\n",
    "f = open(\"./om.txt\",\"r\")\n",
    "\n",
    "print(f.readline())"
   ]
  },
  {
   "cell_type": "code",
   "execution_count": 25,
   "id": "47e022cd",
   "metadata": {},
   "outputs": [
    {
     "name": "stdout",
     "output_type": "stream",
     "text": [
      "This is sample file\n"
     ]
    }
   ],
   "source": [
    "#read using for loop\n",
    "\n",
    "f = open(\"./om.txt\",\"r\")\n",
    "\n",
    "for x in f:\n",
    "    print(x)\n",
    "    \n",
    "f.close()    "
   ]
  },
  {
   "cell_type": "markdown",
   "id": "6fde9c6f",
   "metadata": {},
   "source": [
    "# Writing to existing file\n",
    "  f.write() - writes contents to file\n",
    "  1. \"a\"\n",
    "  2. \"w\"\n",
    "  3. \"x\""
   ]
  },
  {
   "cell_type": "code",
   "execution_count": 28,
   "id": "2ccd4b4a",
   "metadata": {},
   "outputs": [
    {
     "name": "stdout",
     "output_type": "stream",
     "text": [
      "This is sample fileNow the file has more content!Now the file has more content!\n"
     ]
    }
   ],
   "source": [
    "# Append mode:\n",
    "# open the file and append content to the file\n",
    "\n",
    "f = open(\"./om.txt\",\"a\")\n",
    "f.write(\"Now the file has more content!\")\n",
    "f.close()\n",
    "\n",
    "#open and read the file after the appending:\n",
    "\n",
    "f = open(\"./om.txt\",\"r\")\n",
    "print(f.read())"
   ]
  },
  {
   "cell_type": "code",
   "execution_count": 29,
   "id": "d9998cc9",
   "metadata": {},
   "outputs": [
    {
     "name": "stdout",
     "output_type": "stream",
     "text": [
      "Ooops! i have deleted the content!\n"
     ]
    }
   ],
   "source": [
    "# Write using \"w\" mode:\n",
    "# open the file and overwrite the content:\n",
    "\n",
    "f = open(\"./om.txt\",\"w\")\n",
    "f.write(\"Ooops! i have deleted the content!\")\n",
    "f.close()\n",
    "\n",
    "#open and read the file after the overwriting:\n",
    "\n",
    "f = open(\"./om.txt\",\"r\")\n",
    "print(f.read())"
   ]
  },
  {
   "cell_type": "code",
   "execution_count": 9,
   "id": "84dc6052",
   "metadata": {},
   "outputs": [
    {
     "name": "stdout",
     "output_type": "stream",
     "text": [
      "This file is created in x mode\n",
      " So we have now many files created\n"
     ]
    }
   ],
   "source": [
    "# Create a new file using \"x\" mode:\n",
    "# create a file called \"./omRaut1.txt\"\n",
    "\n",
    "f = open(\"./omRaut1.txt\",\"x\")\n",
    "f.write(\"This file is created in x mode\\n So we have now many files created\")\n",
    "f.close()\n",
    "\n",
    "f = open(\"./omRaut1.txt\",\"r\") \n",
    "print(f.read())"
   ]
  },
  {
   "cell_type": "markdown",
   "id": "7477774f",
   "metadata": {},
   "source": [
    "# Creating New File"
   ]
  },
  {
   "cell_type": "raw",
   "id": "638c4763",
   "metadata": {},
   "source": [
    "# when want create new then\n",
    "#All modes will create  a new file\n",
    "\"a\"\n",
    "\"w\"\n",
    "\"x\""
   ]
  },
  {
   "cell_type": "markdown",
   "id": "5e65ed71",
   "metadata": {},
   "source": [
    "# Delete File\n",
    "\n",
    "To delete a file, you must import the OS module, and run its os.remove() function:"
   ]
  },
  {
   "cell_type": "code",
   "execution_count": 32,
   "id": "7b8e0e4f",
   "metadata": {},
   "outputs": [],
   "source": [
    "import os"
   ]
  },
  {
   "cell_type": "raw",
   "id": "d8fd5829",
   "metadata": {},
   "source": [
    "#remove the file \"./om.txt\",\"r\":\n",
    "import os\n",
    "os.remove(\"./om.txt\")"
   ]
  },
  {
   "cell_type": "raw",
   "id": "f91a07d0",
   "metadata": {},
   "source": [
    "Check if file exist:\n",
    "\n",
    "To avoid getting an error, you might want to check if the file exists before you try to delete it:"
   ]
  },
  {
   "cell_type": "code",
   "execution_count": 34,
   "id": "c11c2356",
   "metadata": {},
   "outputs": [
    {
     "name": "stdout",
     "output_type": "stream",
     "text": [
      "The file does not exist\n"
     ]
    }
   ],
   "source": [
    "#check if file exists,then delete it:\n",
    "\n",
    "import os\n",
    "if os.path.exists(\"./om.txt\"):\n",
    "    os.remove(\"./om.txt\")\n",
    "else:\n",
    "    print(\"The file does not exist\")"
   ]
  },
  {
   "cell_type": "markdown",
   "id": "bdcffd64",
   "metadata": {},
   "source": [
    "# Delete Folder"
   ]
  },
  {
   "cell_type": "raw",
   "id": "4e4109bd",
   "metadata": {},
   "source": [
    "To delete an entire folder, use the os.rmdir() methode:\n",
    "# remove the folder\"myfolder\":"
   ]
  },
  {
   "cell_type": "code",
   "execution_count": 23,
   "id": "36efd92e",
   "metadata": {},
   "outputs": [
    {
     "name": "stdout",
     "output_type": "stream",
     "text": [
      "This file is created in x mode\n",
      " So we have now many files created\n"
     ]
    }
   ],
   "source": [
    "f = open(\"./megha.txt\",\"x\")\n",
    "f.write(\"This file is created in x mode\\n So we have now many files created\")\n",
    "f.close()\n",
    "\n",
    "f = open(\"./megha.txt\",\"r\") \n",
    "print(f.read())"
   ]
  },
  {
   "cell_type": "code",
   "execution_count": 33,
   "id": "3fb7fc04",
   "metadata": {},
   "outputs": [],
   "source": [
    "import os\n",
    "os.rmdir(\"myfolder\")"
   ]
  },
  {
   "cell_type": "code",
   "execution_count": null,
   "id": "bab58044",
   "metadata": {},
   "outputs": [],
   "source": []
  }
 ],
 "metadata": {
  "kernelspec": {
   "display_name": "Python 3 (ipykernel)",
   "language": "python",
   "name": "python3"
  },
  "language_info": {
   "codemirror_mode": {
    "name": "ipython",
    "version": 3
   },
   "file_extension": ".py",
   "mimetype": "text/x-python",
   "name": "python",
   "nbconvert_exporter": "python",
   "pygments_lexer": "ipython3",
   "version": "3.11.2"
  }
 },
 "nbformat": 4,
 "nbformat_minor": 5
}
